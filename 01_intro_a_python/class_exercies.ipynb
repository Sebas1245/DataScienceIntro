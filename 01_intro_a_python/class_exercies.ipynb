{
 "cells": [
  {
   "cell_type": "markdown",
   "metadata": {},
   "source": [
    "### Excercise 1\n",
    "Write a function that takes a list of numbers\n",
    "```\n",
    "a = [5, 10, 15, 20, 25]\n",
    "```\n",
    "and makes a new list of only the first and last element of the given list."
   ]
  },
  {
   "cell_type": "code",
   "execution_count": 7,
   "metadata": {},
   "outputs": [
    {
     "name": "stdout",
     "output_type": "stream",
     "text": [
      "[5, 25]\n"
     ]
    }
   ],
   "source": [
    "a = [5, 10, 15, 20, 25]\n",
    "\n",
    "new_lister = lambda list: [list[0], list[-1]]\n",
    "\n",
    "print(new_lister(a))"
   ]
  },
  {
   "cell_type": "markdown",
   "metadata": {},
   "source": [
    "### Excercise 2\n",
    "Print the following pattern\n",
    "\n",
    "1\n",
    "\n",
    "2 2 \n",
    "\n",
    "3 3 3 \n",
    "\n",
    "4 4 4 4\n",
    "\n",
    "5 5 5 5 5"
   ]
  },
  {
   "cell_type": "code",
   "execution_count": 15,
   "metadata": {},
   "outputs": [
    {
     "name": "stdout",
     "output_type": "stream",
     "text": [
      "1 \n",
      "2 2 \n",
      "3 3 3 \n",
      "4 4 4 4 \n",
      "5 5 5 5 5 \n"
     ]
    }
   ],
   "source": [
    "for i in range(1,6):\n",
    "    print(i * \"{} \".format(i))"
   ]
  },
  {
   "cell_type": "markdown",
   "metadata": {},
   "source": [
    "### Excercise 3\n",
    "Given a list of birth year \n",
    "\n",
    "years_of_birth = [1990, 1991, 1990, 1990, 1992, 1991]\n",
    "\n",
    "Write one line of Python that takes this list and makes a new list with ages"
   ]
  },
  {
   "cell_type": "code",
   "execution_count": 18,
   "metadata": {},
   "outputs": [
    {
     "name": "stdout",
     "output_type": "stream",
     "text": [
      "[32, 31, 32, 32, 30, 31]\n"
     ]
    }
   ],
   "source": [
    "\n",
    "# importing date class from datetime module\n",
    "from datetime import date\n",
    "  \n",
    "# creating the date object of today's date\n",
    "todays_date = date.today()\n",
    "\n",
    "years_of_birth = [1990, 1991, 1990, 1990, 1992, 1991]\n",
    "\n",
    "ages = [ todays_date.year-i for i in years_of_birth]\n",
    "\n",
    "print(ages)"
   ]
  },
  {
   "cell_type": "markdown",
   "metadata": {},
   "source": [
    "### Excercise 4\n",
    "Given two lists:\n",
    "\n",
    "names = ['Salinas', 'Zedillo', 'Fox', 'Calderon', 'Pena', 'Andres']\n",
    "years = [1988, 1994, 2000, 2006, 2012, 2018]\n",
    "\n",
    "Write a function that takes these lists and converts them ina dictionary where key is 'name' and value 'year'. \n",
    "\n",
    "Use `zip` function. "
   ]
  },
  {
   "cell_type": "code",
   "execution_count": 19,
   "metadata": {},
   "outputs": [
    {
     "name": "stdout",
     "output_type": "stream",
     "text": [
      "<zip object at 0x103e39a80>\n"
     ]
    }
   ],
   "source": [
    "names = ['Salinas', 'Zedillo', 'Fox', 'Calderon', 'Pena', 'Andres']\n",
    "\n",
    "years = [1988, 1994, 2000, 2006, 2012, 2018]\n",
    "\n",
    "def combine_lists_to_dict(list1, list2):\n",
    "    return zip(list1, list2).\n",
    "\n",
    "print(combine_lists_to_dict(names, years))"
   ]
  }
 ],
 "metadata": {
  "interpreter": {
   "hash": "b44d23de004a42e3a0ce11e8851eb836f4bebff2ea44c49b4f5680f906cbdb4f"
  },
  "kernelspec": {
   "display_name": "Python 3.9.10 64-bit ('3.9.10')",
   "language": "python",
   "name": "python3"
  },
  "language_info": {
   "codemirror_mode": {
    "name": "ipython",
    "version": 3
   },
   "file_extension": ".py",
   "mimetype": "text/x-python",
   "name": "python",
   "nbconvert_exporter": "python",
   "pygments_lexer": "ipython3",
   "version": "3.9.10"
  },
  "orig_nbformat": 4
 },
 "nbformat": 4,
 "nbformat_minor": 2
}
