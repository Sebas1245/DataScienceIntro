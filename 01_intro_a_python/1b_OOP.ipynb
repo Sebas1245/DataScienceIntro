{
 "cells": [
  {
   "cell_type": "markdown",
   "metadata": {},
   "source": [
    "# Funciones e introducción al modelo OO en Python"
   ]
  },
  {
   "cell_type": "markdown",
   "metadata": {},
   "source": [
    "### Funciones\n",
    "\n",
    "Las funciones son una manera conveniente dividir el código en bloques útiles, lo que nos permite pedir nuestro código, que sea más legible, reutilizar y ahorrar algo de tiempo. "
   ]
  },
  {
   "cell_type": "code",
   "execution_count": 1,
   "metadata": {},
   "outputs": [],
   "source": [
    "def hola_usuario(username, greeting):\n",
    "    print(\"Hello, %s , From My Function!, I wish you %s\" %(username, greeting))"
   ]
  },
  {
   "cell_type": "markdown",
   "metadata": {},
   "source": [
    "## Ejemplos durante la sesión"
   ]
  },
  {
   "cell_type": "code",
   "execution_count": 5,
   "metadata": {},
   "outputs": [],
   "source": [
    "def externo():\n",
    "    a = 0\n",
    "    def interno(variable):\n",
    "        variable += 1\n",
    "        if variable > 20:\n",
    "            return variable\n",
    "        return interno(variable)\n",
    "    a = interno(a)\n",
    "    return a"
   ]
  },
  {
   "cell_type": "code",
   "execution_count": 6,
   "metadata": {},
   "outputs": [
    {
     "data": {
      "text/plain": [
       "21"
      ]
     },
     "execution_count": 6,
     "metadata": {},
     "output_type": "execute_result"
    }
   ],
   "source": [
    "externo()"
   ]
  },
  {
   "cell_type": "markdown",
   "metadata": {},
   "source": [
    "## Uso de args*"
   ]
  },
  {
   "cell_type": "code",
   "execution_count": 3,
   "metadata": {},
   "outputs": [
    {
     "name": "stdout",
     "output_type": "stream",
     "text": [
      "first normal arg: yasoob\n",
      "('python', 'eggs', 'test')\n",
      "another arg through *argv: python\n",
      "another arg through *argv: eggs\n",
      "another arg through *argv: test\n"
     ]
    }
   ],
   "source": [
    "def test_var_args(f_arg, *args):\n",
    "    print(\"first normal arg:\", f_arg)\n",
    "    print(args)\n",
    "    for arg in args:\n",
    "        print(\"another arg through *argv:\", arg)\n",
    "\n",
    "test_var_args('yasoob', 'python', 'eggs', 'test')\n"
   ]
  },
  {
   "cell_type": "markdown",
   "metadata": {},
   "source": [
    "## Uso de **kwargs"
   ]
  },
  {
   "cell_type": "code",
   "execution_count": 3,
   "metadata": {},
   "outputs": [
    {
     "name": "stdout",
     "output_type": "stream",
     "text": [
      "name = yasoob\n",
      "lastname = magana\n"
     ]
    }
   ],
   "source": [
    "def greet_me(**kwargs):\n",
    "    for key, value in kwargs.items():\n",
    "        print(\"{0} = {1}\".format(key, value))\n",
    "\n",
    "greet_me(name=\"yasoob\", lastname=\"magana\")"
   ]
  },
  {
   "cell_type": "code",
   "execution_count": null,
   "metadata": {},
   "outputs": [],
   "source": []
  },
  {
   "cell_type": "code",
   "execution_count": null,
   "metadata": {},
   "outputs": [],
   "source": []
  },
  {
   "cell_type": "code",
   "execution_count": 16,
   "metadata": {},
   "outputs": [],
   "source": [
    "def fun(a,b,c, d=None):\n",
    "    pass"
   ]
  },
  {
   "cell_type": "code",
   "execution_count": 19,
   "metadata": {},
   "outputs": [],
   "source": [
    "fun(1,2,3)\n",
    "fun(1,2,\"a\")\n"
   ]
  },
  {
   "cell_type": "code",
   "execution_count": 11,
   "metadata": {},
   "outputs": [
    {
     "name": "stdout",
     "output_type": "stream",
     "text": [
      "1 2 3 1 2 () 1 None {}\n",
      "1 2 3 a b () 1 None {}\n",
      "1 2 3 a b ('x', 'y', 'z', 2) 1 [10, 12, 14] {}\n"
     ]
    }
   ],
   "source": [
    "def func(a, nombre, c, d=1, e=2, *args, f, g=None, **kwargs):\n",
    "    print(a, nombre, c, d, e, args, f, g, kwargs)\n",
    "        \n",
    "func(1, 2, 3, f=1)\n",
    "func(1, 2, 3, 'a', 'b', f=1)\n",
    "func(1, 2, 3, 'a', 'b', 'x', 'y', 'z', 2, f=1, g=[10, 12, 14])"
   ]
  },
  {
   "cell_type": "code",
   "execution_count": 12,
   "metadata": {},
   "outputs": [
    {
     "name": "stdout",
     "output_type": "stream",
     "text": [
      "args:  (1, 2, 3, 4, 5)\n",
      "kwargs: {'numero': 1, 'lugar': 'Monterrey'}\n"
     ]
    }
   ],
   "source": [
    "def generica(*args, **kwargs):\n",
    "    print(\"args: \", args)\n",
    "    print(\"kwargs:\", kwargs)\n",
    "\n",
    "generica(1, 2, 3, 4, 5, numero=1, lugar=\"Monterrey\")\n",
    "#numeros = (1, 2, 3, 4, 5)\n",
    "#palabras = {'numero': 1, 'lugar': 'monterrey'}\n",
    "#generica(*numeros, **palabras)\n"
   ]
  },
  {
   "cell_type": "code",
   "execution_count": 62,
   "metadata": {},
   "outputs": [],
   "source": [
    "\n",
    "def generica(*args, **kwargs):\n",
    "    print(\"args: \", args)\n",
    "    print(\"kwargs:\", kwargs)\n",
    "\n",
    "#generica(1, 2, 3, 4, 5, numero=1, lugar=\"Monterrey\")\n",
    "#numeros = (1, 2, 3, 4, 5)\n",
    "#palabras = {'numero': 1, 'lugar': 'monterrey'}\n",
    "#generica(*numeros, **palabras)\n",
    "\n",
    "def externo():\n",
    "    a = \"existo en interno\"\n",
    "    b = 2\n",
    "    c = 3\n",
    "    def interno(varialbe):\n",
    "        return variable + 1\n",
    "\n",
    "def connect_db(func):\n",
    "    def wrapper(*args, **kwargs):\n",
    "        # magicamente se inicia db\n",
    "        db = None\n",
    "        func(db, *args, **kwargs)\n",
    "## \n",
    "# Process some data\n",
    "@connect_db\n",
    "def process(db, uid, gid):\n",
    "    pass\n",
    "\n",
    "\n",
    "process = connect_db(process)"
   ]
  },
  {
   "cell_type": "code",
   "execution_count": null,
   "metadata": {},
   "outputs": [],
   "source": []
  },
  {
   "cell_type": "markdown",
   "metadata": {},
   "source": [
    "### Clases\n",
    "- Los objetos son una encapsulación de variables y funciones en una sola entidad.\n",
    "- Los objetos toman sus variables y funciones de las clases. \n",
    "- Las clases son esencialmente una plantilla para crear sus objetos."
   ]
  },
  {
   "cell_type": "code",
   "execution_count": 13,
   "metadata": {},
   "outputs": [],
   "source": [
    "\"\"\"\n",
    "instancia_de_clase = MiClase()\n",
    "instancia_de_clase.function()\n",
    "\n",
    "MiClase.metodo_estatico() <-- Esto es válido\n",
    "MiClase.funcion()         <-- Esto no es válido\n",
    "\"\"\"\n",
    "class MiClase(object):\n",
    "    # Esto es un comentario\n",
    "    \"\"\"\n",
    "    Mi clase doc\n",
    "    \"\"\"\n",
    "    class_prop = \"Propiedad de clase\"\n",
    "\n",
    "    def __init__(self, nombre=None, verbose=False) :\n",
    "        \"\"\"\n",
    "        Documentacion de constructor\n",
    "        \"\"\"\n",
    "        self.data = []\n",
    "        self._private_data = []\n",
    "        self._nombre = nombre\n",
    "        self.cls_list = []\n",
    "    \n",
    "    def __del__(self):\n",
    "        pass\n",
    "    \n",
    "    def __add__(self, a):\n",
    "        pass\n",
    "    \n",
    "    def __getitem__(self, key):\n",
    "        pass\n",
    "    \n",
    "    def function(self):\n",
    "        \"\"\"\n",
    "        Documentacion de methodo\n",
    "        \"\"\"\n",
    "        self._privada()\n",
    "        print(\"Este mensaje se imprime desde la clase\")\n",
    "    \n",
    "    def _privada(self):\n",
    "        \"\"\"\n",
    "        Documentacion de methodo\n",
    "        \"\"\"\n",
    "        print(\"Este mensaje se imprime desde la clase\")\n",
    "        \n",
    "    @staticmethod\n",
    "    def metodo_estatico():\n",
    "        print(\"Statico, no tiene acceso a 'self'\")\n",
    "    \n",
    "    @classmethod\n",
    "    def verboso(cls):\n",
    "        print(\"Metodo de clase\")\n",
    "        a = cls(verbose=False)\n",
    "        del a.data\n",
    "    \n",
    "    @property\n",
    "    def nombre(self):\n",
    "        print(\"Calling nombre\")\n",
    "        return self._nombre\n",
    "    \n",
    "    @nombre.setter\n",
    "    def nombre(self, a):\n",
    "        self._nombre = a\n",
    "        print(\"Calling setter\")\n",
    "    \n",
    "    def algo(self):\n",
    "        \"\"\"\n",
    "        doc de lo que hago\n",
    "        \"\"\"\n",
    "        raise NotImplementedError()\n"
   ]
  },
  {
   "cell_type": "code",
   "execution_count": 15,
   "metadata": {},
   "outputs": [
    {
     "name": "stdout",
     "output_type": "stream",
     "text": [
      "Este mensaje se imprime desde la clase\n",
      "Este mensaje se imprime desde la clase\n"
     ]
    }
   ],
   "source": [
    "mi_objeto = MiClase()\n",
    "mi_objeto.data = 12\n",
    "mi_objeto.cls_list.append(1)\n",
    "mi_objeto.function()\n",
    "mi_objeto = MiClase()\n",
    "mi_objeto.cls_list.append(1)\n"
   ]
  },
  {
   "cell_type": "code",
   "execution_count": 75,
   "metadata": {},
   "outputs": [
    {
     "name": "stdout",
     "output_type": "stream",
     "text": [
      "Calling nombre\n"
     ]
    }
   ],
   "source": [
    "mi_objeto = MiClase()\n",
    "mi_objeto.nombre\n",
    "mi_objeto = None"
   ]
  },
  {
   "cell_type": "markdown",
   "metadata": {},
   "source": [
    "### Métodos\n",
    "Los métodos son funciones que pertenecen a cierto objeto"
   ]
  },
  {
   "cell_type": "code",
   "execution_count": 19,
   "metadata": {},
   "outputs": [
    {
     "data": {
      "text/plain": [
       "1"
      ]
     },
     "execution_count": 19,
     "metadata": {},
     "output_type": "execute_result"
    }
   ],
   "source": [
    "mi_lista = [1,2,3,\"hola\",5]\n",
    "mi_lista.count(\"hola\")"
   ]
  },
  {
   "cell_type": "markdown",
   "metadata": {},
   "source": [
    "Los métodos pueden regresar o modificar el objeto"
   ]
  },
  {
   "cell_type": "code",
   "execution_count": 20,
   "metadata": {},
   "outputs": [
    {
     "name": "stdout",
     "output_type": "stream",
     "text": [
      "[1, 2, 3, 'hola', 5, 'Nuevo']\n"
     ]
    }
   ],
   "source": [
    "mi_lista.append(\"Nuevo\")\n",
    "print(mi_lista)"
   ]
  },
  {
   "cell_type": "code",
   "execution_count": null,
   "metadata": {},
   "outputs": [],
   "source": []
  }
 ],
 "metadata": {
  "kernelspec": {
   "display_name": "Python 3",
   "language": "python",
   "name": "python3"
  },
  "language_info": {
   "codemirror_mode": {
    "name": "ipython",
    "version": 3
   },
   "file_extension": ".py",
   "mimetype": "text/x-python",
   "name": "python",
   "nbconvert_exporter": "python",
   "pygments_lexer": "ipython3",
   "version": "3.7.0"
  }
 },
 "nbformat": 4,
 "nbformat_minor": 1
}
