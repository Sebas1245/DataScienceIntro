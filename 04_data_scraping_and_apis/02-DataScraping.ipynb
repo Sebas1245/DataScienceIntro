{
 "cells": [
  {
   "cell_type": "code",
   "execution_count": 61,
   "metadata": {
    "slideshow": {
     "slide_type": "skip"
    }
   },
   "outputs": [],
   "source": [
    "## all imports\n",
    "from IPython.display import HTML\n",
    "import numpy as np\n",
    "import urllib\n",
    "import bs4 #this is beautiful soup\n",
    "import time\n",
    "import operator\n",
    "import socket\n",
    "import re # regular expressions\n",
    "from urllib.request import urlopen\n",
    "\n",
    "from pandas import Series\n",
    "import pandas as pd\n",
    "from pandas import DataFrame\n",
    "\n",
    "import matplotlib\n",
    "import matplotlib.pyplot as plt\n",
    "%matplotlib inline\n",
    "\n",
    "import seaborn as sns\n",
    "sns.set_context(\"talk\")\n",
    "sns.set_style(\"white\")\n",
    "\n",
    "from secret import *"
   ]
  },
  {
   "cell_type": "markdown",
   "metadata": {
    "slideshow": {
     "slide_type": "skip"
    }
   },
   "source": [
    "API registrations\n",
    "=================\n",
    "\n",
    "If you would like to run all the examples in this notebook, you need to register for the following APIs:\n",
    "\n",
    "* Twitter\n",
    "\n",
    "https://apps.twitter.com/app/new\n",
    "\n",
    "* Twitter instructions\n",
    "\n",
    "https://twittercommunity.com/t/how-to-get-my-api-key/7033"
   ]
  },
  {
   "cell_type": "markdown",
   "metadata": {
    "slideshow": {
     "slide_type": "slide"
    }
   },
   "source": [
    "Todays lecture:\n",
    "===============\n",
    "\n",
    "* all about data scraping\n",
    "* ***What is it? ***\n",
    "* How to do it:\n",
    "    - from a website\n",
    "    - with an API"
   ]
  },
  {
   "cell_type": "markdown",
   "metadata": {
    "slideshow": {
     "slide_type": "skip"
    }
   },
   "source": [
    "Answer: Data scraping is about obtaining data from webpages. There is low level scraping where you parse the data out of the html code of the webpage. There also is scraping over APIs from websites who try to make your life a bit easier."
   ]
  },
  {
   "cell_type": "markdown",
   "metadata": {
    "slideshow": {
     "slide_type": "slide"
    }
   },
   "source": [
    "IPython Notebooks:\n",
    "===================\n",
    "\n",
    "![IPython](images/ipython.png \"IPython\")"
   ]
  },
  {
   "cell_type": "markdown",
   "metadata": {
    "slideshow": {
     "slide_type": "slide"
    }
   },
   "source": [
    "General advice about programming\n",
    "==================================\n",
    "\n",
    "* You will find nearly everything on google\n",
    "* Try: length of a list in python\n",
    "* A programmer is someone who can turn stack overflow snippets into running code\n",
    "* Use tab completion\n",
    "* Make your variable names meaningful\n"
   ]
  },
  {
   "cell_type": "markdown",
   "metadata": {
    "slideshow": {
     "slide_type": "slide"
    }
   },
   "source": [
    "Python data scraping\n",
    "====================\n",
    "\n",
    "* Why scrape the web?\n",
    "    - vast source of information\n",
    "    - automate tasks\n",
    "    - keep up with sites\n",
    "    - fun!\n",
    "\n",
    "** Can you think of examples ? **"
   ]
  },
  {
   "cell_type": "markdown",
   "metadata": {
    "slideshow": {
     "slide_type": "slide"
    }
   },
   "source": [
    "Python data scraping\n",
    "====================\n",
    "\n",
    "* copyrights and permission:\n",
    "    - be careful and polite\n",
    "    - give credit\n",
    "    - care about media law\n",
    "    - don't be evil (no spam, overloading sites, etc.)"
   ]
  },
  {
   "cell_type": "markdown",
   "metadata": {
    "slideshow": {
     "slide_type": "slide"
    }
   },
   "source": [
    "Robots.txt\n",
    "==========\n",
    "\n",
    "![Robots.txt](images/robots_txt.jpg \"Robots.txt\")"
   ]
  },
  {
   "cell_type": "markdown",
   "metadata": {
    "slideshow": {
     "slide_type": "slide"
    }
   },
   "source": [
    "Robots.txt\n",
    "==========\n",
    "\n",
    "* specified by web site owner\n",
    "* gives instructions to web robots (aka your script)\n",
    "* is located at the top-level directory of the web server\n",
    "\n",
    "http://www.example.com/robots.txt\n",
    "\n",
    "If you want you can also have a look at\n",
    "\n",
    "http://google.com/robots.txt"
   ]
  },
  {
   "cell_type": "markdown",
   "metadata": {
    "slideshow": {
     "slide_type": "slide"
    }
   },
   "source": [
    "Robots.txt\n",
    "==========\n",
    "\n",
    "*** What does this one do? ***"
   ]
  },
  {
   "cell_type": "raw",
   "metadata": {},
   "source": [
    "\n",
    "User-agent: Google\n",
    "Disallow:\n",
    "\n",
    "User-agent: *\n",
    "Disallow: /"
   ]
  },
  {
   "cell_type": "markdown",
   "metadata": {
    "slideshow": {
     "slide_type": "skip"
    }
   },
   "source": [
    "Answer: This file allows google to search through everything on the server, while all others should stay completely away."
   ]
  },
  {
   "cell_type": "markdown",
   "metadata": {
    "slideshow": {
     "slide_type": "slide"
    }
   },
   "source": [
    "Things to consider:\n",
    "-------------------\n",
    "\n",
    "* can be just ignored\n",
    "* can be a security risk - *** Why? ***"
   ]
  },
  {
   "cell_type": "markdown",
   "metadata": {
    "slideshow": {
     "slide_type": "skip"
    }
   },
   "source": [
    "Answer: You are basically telling everybody who cares to look into the file where you have stored sensitive information."
   ]
  },
  {
   "cell_type": "markdown",
   "metadata": {
    "slideshow": {
     "slide_type": "slide"
    }
   },
   "source": [
    "Scraping with Python:\n",
    "=====================\n",
    "\n",
    "* scraping is all about HTML tags\n",
    "* bad news: \n",
    "    - need to learn about tags\n",
    "    - websites can be ugly"
   ]
  },
  {
   "cell_type": "markdown",
   "metadata": {
    "slideshow": {
     "slide_type": "slide"
    }
   },
   "source": [
    "HTML\n",
    "=====\n",
    "\n",
    "* HyperText Markup Language\n",
    "\n",
    "* standard for creating webpages\n",
    "\n",
    "* HTML tags \n",
    "    - have angle brackets\n",
    "    - typically come in pairs"
   ]
  },
  {
   "cell_type": "markdown",
   "metadata": {
    "slideshow": {
     "slide_type": "skip"
    }
   },
   "source": [
    "This is an example for a minimal webpage defined in HTML tags. The root tag is `<html>` and then you have the `<head>` tag. This part of the page typically includes the title of the page and might also have other meta information like the author or keywords that are important for search engines. The `<body>` tag marks the actual content of the page. You can play around with the `<h2>` tag trying different header levels. They range from 1 to 6. "
   ]
  },
  {
   "cell_type": "code",
   "execution_count": 64,
   "metadata": {
    "slideshow": {
     "slide_type": "slide"
    }
   },
   "outputs": [
    {
     "data": {
      "text/html": [
       "<!DOCTYPE html>\n",
       "<html>\n",
       "  <head>\n",
       "    <title>This is a title</title>\n",
       "  </head>\n",
       "  <body>\n",
       "    <h2> Test </h2>\n",
       "    <p>Hello world!</p>\n",
       "  </body>\n",
       "</html>"
      ],
      "text/plain": [
       "<IPython.core.display.HTML object>"
      ]
     },
     "execution_count": 64,
     "metadata": {},
     "output_type": "execute_result"
    }
   ],
   "source": [
    "htmlString = \"\"\"<!DOCTYPE html>\n",
    "<html>\n",
    "  <head>\n",
    "    <title>This is a title</title>\n",
    "  </head>\n",
    "  <body>\n",
    "    <h2> Test </h2>\n",
    "    <p>Hello world!</p>\n",
    "  </body>\n",
    "</html>\"\"\"\n",
    "\n",
    "htmlOutput = HTML(htmlString)\n",
    "htmlOutput"
   ]
  },
  {
   "cell_type": "markdown",
   "metadata": {
    "slideshow": {
     "slide_type": "slide"
    }
   },
   "source": [
    "Useful Tags\n",
    "===========\n",
    "\n",
    "* heading\n",
    "`<h1></h1> ... <h6></h6>`\n",
    "\n",
    "* paragraph\n",
    "`<p></p>` \n",
    "\n",
    "* line break\n",
    "`<br>` \n",
    "\n",
    "* link with attribute\n",
    "\n",
    "`<a href=\"http://www.example.com/\">An example link</a>`\n"
   ]
  },
  {
   "cell_type": "markdown",
   "metadata": {
    "slideshow": {
     "slide_type": "slide"
    }
   },
   "source": [
    "Scraping with Python:\n",
    "=====================\n",
    "\n",
    "* example of a beautifully simple webpage:\n",
    "\n",
    "http://www.crummy.com/software/BeautifulSoup"
   ]
  },
  {
   "cell_type": "markdown",
   "metadata": {
    "slideshow": {
     "slide_type": "slide"
    }
   },
   "source": [
    "Scraping with Python:\n",
    "=====================\n",
    "\n",
    "* good news: \n",
    "    - some browsers help\n",
    "    - look for: inspect element\n",
    "    - need only basic html\n",
    "    \n",
    "** Try 'Ctrl-Shift I' in Chrome **\n",
    "\n",
    "** Try 'Command-Option I' in Safari **\n"
   ]
  },
  {
   "cell_type": "markdown",
   "metadata": {
    "slideshow": {
     "slide_type": "slide"
    }
   },
   "source": [
    "Scraping with Python\n",
    "==================\n",
    "\n",
    "* different useful libraries:\n",
    "    - urllib\n",
    "    - beautifulsoup\n",
    "    - pattern\n",
    "    - soupy\n",
    "    - LXML\n",
    "    - Selenium\n",
    "    - ...\n",
    "    "
   ]
  },
  {
   "cell_type": "markdown",
   "metadata": {
    "slideshow": {
     "slide_type": "skip"
    }
   },
   "source": [
    "The following cell just defines a url as a string and then reads the data from that url using the `urllib` library. If you uncomment the print command you see that we got the whole HTML content of the page into the string variable source."
   ]
  },
  {
   "cell_type": "code",
   "execution_count": 65,
   "metadata": {
    "slideshow": {
     "slide_type": "slide"
    }
   },
   "outputs": [
    {
     "name": "stdout",
     "output_type": "stream",
     "text": [
      "b'<!DOCTYPE HTML PUBLIC \"-//W3C//DTD HTML 4.0 Transitional//EN\"\\n\"http://www.w3.org/TR/REC-html40/transitional.dtd\">\\n<html>\\n<head>\\n<meta http-equiv=\"Content-Type\" content=\"text/html; charset=utf-8\">\\n<title>Beautiful Soup: We called him Tortoise because he taught us.</title>\\n<link rev=\"made\" href=\"mailto:leonardr@segfault.org\">\\n<link rel=\"stylesheet\" type=\"text/css\" href=\"/nb/themes/Default/nb.css\">\\n<meta name=\"Description\" content=\"Beautiful Soup: a library designed for screen-scraping HTML and XML.\">\\n<meta name=\"generator\" content=\"Markov Approximation 1.4 (module: leonardr)\">\\n<meta name=\"author\" content=\"Leonard Richardson\">\\n</head>\\n<body bgcolor=\"white\" text=\"black\" link=\"blue\" vlink=\"660066\" alink=\"red\">\\n<img align=\"right\" src=\"10.1.jpg\" width=\"250\"><br />\\n\\n<p>You didn\\'t write that awful page. You\\'re just trying to get some\\ndata out of it. Beautiful Soup is here to help. Since 2004, it\\'s been\\nsaving programmers hours or days of work on quick-turnaround\\nscreen scraping projects.</p>\\n\\n<div align=\"center\">\\n\\n<a href=\"bs4/download/\"><h1>Beautiful Soup</h1></a>\\n\\n<p>\"A tremendous boon.\" -- Python411 Podcast</p>\\n\\n<p>[ <a href=\"#Download\">Download</a> | <a\\nhref=\"bs4/doc/\">Documentation</a> | <a href=\"#HallOfFame\">Hall of Fame</a> | <a href=\"https://code.launchpad.net/beautifulsoup\">Source</a> | <a href=\"https://bazaar.launchpad.net/%7Eleonardr/beautifulsoup/bs4/view/head:/CHANGELOG\">Changelog</a> | <a href=\"https://groups.google.com/forum/?fromgroups#!forum/beautifulsoup\">Discussion group</a>  | <a href=\"zine/\">Zine</a> ]</p>\\n\\n<p><small>If you use Beautiful Soup as part of your work, please consider a <a href=\"https://tidelift.com/subscription/pkg/pypi-beautifulsoup4?utm_source=pypi-beautifulsoup4&utm_medium=referral&utm_campaign=website\">Tidelift subscription</a>. This will support many of the free software projects your organization depends on, not just Beautiful Soup.\\n<p>If Beautiful Soup is useful to you on a personal level, you might like to read <a href=\"zine/\"><i>Tool Safety</i></a>, a short zine I wrote about what I learned about software development from working on Beautiful Soup. Thanks!</small></p>\\n\\n\\n\\n</div>\\n\\n<p><i>If you have questions, send them to <a\\nhref=\"https://groups.google.com/forum/?fromgroups#!forum/beautifulsoup\">the discussion\\ngroup</a>. If you find a bug, <a href=\"https://bugs.launchpad.net/beautifulsoup/\">file it</a>.</i></p>\\n\\n<p>Beautiful Soup is a Python library designed for quick turnaround\\nprojects like screen-scraping. Three features make it powerful:\\n\\n<ol>\\n\\n<li>Beautiful Soup provides a few simple methods and Pythonic idioms\\nfor navigating, searching, and modifying a parse tree: a toolkit for\\ndissecting a document and extracting what you need. It doesn\\'t take\\nmuch code to write an application\\n\\n<li>Beautiful Soup automatically converts incoming documents to\\nUnicode and outgoing documents to UTF-8. You don\\'t have to think\\nabout encodings, unless the document doesn\\'t specify an encoding and\\nBeautiful Soup can\\'t detect one. Then you just have to specify the\\noriginal encoding.\\n\\n<li>Beautiful Soup sits on top of popular Python parsers like <a\\nhref=\"http://lxml.de/\">lxml</a> and <a\\nhref=\"http://code.google.com/p/html5lib/\">html5lib</a>, allowing you\\nto try out different parsing strategies or trade speed for\\nflexibility.\\n\\n</ol>\\n\\n<p>Beautiful Soup parses anything you give it, and does the tree\\ntraversal stuff for you. You can tell it \"Find all the links\", or\\n\"Find all the links of class <tt>externalLink</tt>\", or \"Find all the\\nlinks whose urls match \"foo.com\", or \"Find the table heading that\\'s\\ngot bold text, then give me that text.\"\\n\\n<p>Valuable data that was once locked up in poorly-designed websites\\nis now within your reach. Projects that would have taken hours take\\nonly minutes with Beautiful Soup.\\n\\n<p>Interested? <a href=\"bs4/doc/\">Read more.</a>\\n\\n<a name=\"Download\"><h2>Download Beautiful Soup</h2></a>\\n\\n<p>The current release is <a href=\"bs4/download/\">Beautiful Soup\\n4.8.0</a> (July 20, 2019). You can install Beautiful Soup 4 with\\n<code>pip install beautifulsoup4</code>.\\n\\n<p>In Debian and Ubuntu, Beautiful Soup is available as the\\n<code>python-bs4</code> package (for Python 2) or the\\n<code>python3-bs4</code> package (for Python 3). In Fedora it\\'s\\navailable as the <code>python-beautifulsoup4</code> package.\\n\\n<p>Beautiful Soup is licensed under the MIT license, so you can also\\ndownload the tarball, drop the <code>bs4/</code> directory into almost\\nany Python application (or into your library path) and start using it\\nimmediately. (If you want to do this under Python 3, you will need to\\nmanually convert the code using <code>2to3</code>.)\\n\\n<p>Beautiful Soup 4 works on both Python 2 (2.7+) and Python 3.\\n\\n<h3>Beautiful Soup 3</h3>\\n\\n<p>Beautiful Soup 3 was the official release line of Beautiful Soup\\nfrom May 2006 to March 2012. It is considered stable, and only\\ncritical security bugs will be fixed. <a\\nhref=\"http://www.crummy.com/software/BeautifulSoup/bs3/documentation.html\">Here\\'s\\nthe Beautiful Soup 3 documentation.</a>\\n\\n<p>Beautiful Soup 3 works only under Python 2.x. It is licensed under\\nthe same license as Python itself.\\n\\n<p>The current release of Beautiful Soup 3 is <a\\nhref=\"download/3.x/BeautifulSoup-3.2.1.tar.gz\">3.2.1</a> (February 16,\\n2012). You can install Beautiful Soup 3 with <code>pip install\\nBeautifulSoup</code>. It\\'s also available as\\n<code>python-beautifulsoup</code> in Debian and Ubuntu, and as\\n<code>python-BeautifulSoup</code> in Fedora.\\n\\n<p>You can also download the tarball and use\\n<code>BeautifulSoup.py</code> in your project directly.\\n\\n\\n<a name=\"HallOfFame\"><h2>Hall of Fame</h2></a>\\n\\n<p>Over the years, Beautiful Soup has been used in hundreds of\\ndifferent projects. There\\'s no way I can list them all, but I want to\\nhighlight a few high-profile projects. Beautiful Soup isn\\'t what makes\\nthese projects interesting, but it did make their completion easier:\\n\\n<ul>\\n\\n<li><a\\n href=\"http://www.nytimes.com/2007/10/25/arts/design/25vide.html\">\"Movable\\n Type\"</a>, a work of digital art on display in the lobby of the New\\n York Times building, uses Beautiful Soup to scrape news feeds.\\n\\n<li>Reddit uses Beautiful Soup to <a\\nhref=\"https://github.com/reddit/reddit/blob/85f9cff3e2ab9bb8f19b96acd8da4ebacc079f04/r2/r2/lib/media.py\">parse\\na page that\\'s been linked to and find a representative image</a>.\\n\\n<li>Alexander Harrowell uses Beautiful Soup to <a\\n href=\"http://www.harrowell.org.uk/viktormap.html\">track the business\\n activities</a> of an arms merchant.\\n\\n<li>The developers of Python itself used Beautiful Soup to <a\\nhref=\"http://svn.python.org/view/tracker/importer/\">migrate the Python\\nbug tracker from Sourceforge to Roundup</a>.\\n\\n<li>The <a href=\"http://www2.ljworld.com/\">Lawrence Journal-World</a>\\nuses Beautiful Soup to <A\\nhref=\"http://www.b-list.org/weblog/2010/nov/02/news-done-broke/\">gather\\nstatewide election results</a>.\\n\\n<li>The <a href=\"http://esrl.noaa.gov/gsd/fab/\">NOAA\\'s Forecast\\nApplications Branch</a> uses Beautiful Soup in <a\\nhref=\"http://laps.noaa.gov/topograbber/\">TopoGrabber</a>, a script for\\ndownloading \"high resolution USGS datasets.\"\\n\\n</ul>\\n\\n<p>If you\\'ve used Beautiful Soup in a project you\\'d like me to know\\nabout, please do send email to me or <a\\nhref=\"http://groups.google.com/group/beautifulsoup/\">the discussion\\ngroup</a>.\\n\\n<h2>Development</h2>\\n\\n<p>Development happens at <a\\nhref=\"https://launchpad.net/beautifulsoup\">Launchpad</a>. You can <a\\nhref=\"https://code.launchpad.net/beautifulsoup/\">get the source\\ncode</a> or <a href=\"https://bugs.launchpad.net/beautifulsoup/\">file\\nbugs</a>.<hr><table><tr><td valign=\"top\">\\n<p>This document (<a href=\"/source/software/BeautifulSoup/index.bhtml\">source</a>) is part of Crummy, the webspace of <a href=\"/self/\">Leonard Richardson</a> (<a href=\"/self/contact.html\">contact information</a>). It was last modified on Sunday, July 21 2019, 17:41:10 Nowhere Standard Time and last built on Tuesday, September 17 2019, 23:00:01 Nowhere Standard Time.</p><p><table class=\"licenseText\"><tr><td><a href=\"http://creativecommons.org/licenses/by-sa/2.0/\"><img border=\"0\" src=\"/nb//resources/img/somerights20.jpg\"></a></td><td valign=\"top\">Crummy is &copy; 1996-2019 Leonard Richardson. Unless otherwise noted, all text licensed under a <a href=\"http://creativecommons.org/licenses/by-sa/2.0/\">Creative Commons License</a>.</td></tr></table></span><!--<rdf:RDF xmlns=\"http://web.resource.org/cc/\" xmlns:dc=\"http://purl.org/dc/elements/1.1/\" xmlns:rdf=\"http://www.w3.org/1999/02/22-rdf-syntax-ns#\"><Work rdf:about=\"http://www.crummy.com/\"><dc:title>Crummy: The Site</dc:title><dc:rights><Agent><dc:title>Crummy: the Site</dc:title></Agent></dc:rights><dc:format>text/html</dc:format><license rdf:resource=http://creativecommons.org/licenses/by-sa/2.0//></Work><License rdf:about=\"http://creativecommons.org/licenses/by-sa/2.0/\"></License></rdf:RDF>--></p></td><td valign=top><p><b>Document tree:</b>\\n<dl><dd><a href=\"http://www.crummy.com/\">http://www.crummy.com/</a><dl><dd><a href=\"http://www.crummy.com/software/\">software/</a><dl><dd><a href=\"http://www.crummy.com/software/BeautifulSoup/\">BeautifulSoup/</a></dl>\\n</dl>\\n</dl>\\n\\n\\nSite Search:\\n\\n<form method=\"get\" action=\"/search/\">\\n        <input type=\"text\" name=\"q\" maxlength=\"255\" value=\"\"></input>\\n        </form>\\n        </td>\\n\\n</tr>\\n\\n</table>\\n</body>\\n</html>\\n'\n"
     ]
    }
   ],
   "source": [
    "import ssl\n",
    "ssl._create_default_https_context = ssl._create_unverified_context\n",
    "\n",
    "url = 'https://www.crummy.com/software/BeautifulSoup'\n",
    "source = urlopen(url).read()\n",
    "print(source)"
   ]
  },
  {
   "cell_type": "code",
   "execution_count": 67,
   "metadata": {},
   "outputs": [
    {
     "data": {
      "text/plain": [
       "bytes"
      ]
     },
     "execution_count": 67,
     "metadata": {},
     "output_type": "execute_result"
    }
   ],
   "source": [
    "type(source)"
   ]
  },
  {
   "cell_type": "code",
   "execution_count": 68,
   "metadata": {},
   "outputs": [],
   "source": [
    "source = str(source)"
   ]
  },
  {
   "cell_type": "code",
   "execution_count": 69,
   "metadata": {},
   "outputs": [
    {
     "data": {
      "text/plain": [
       "'b\\'<!DOCTYPE HTML PUBLIC \"-//W3C//DTD HTML 4.0 Transitional//EN\"\\\\n\"http://www.w3.org/TR/REC-html40/transitional.dtd\">\\\\n<html>\\\\n<head>\\\\n<meta http-equiv=\"Content-Type\" content=\"text/html; charset=utf-8\">\\\\n<title>Beautiful Soup: We called him Tortoise because he taught us.</title>\\\\n<link rev=\"made\" href=\"mailto:leonardr@segfault.org\">\\\\n<link rel=\"stylesheet\" type=\"text/css\" href=\"/nb/themes/Default/nb.css\">\\\\n<meta name=\"Description\" content=\"Beautiful Soup: a library designed for screen-scraping HTML and XML.\">\\\\n<meta name=\"generator\" content=\"Markov Approximation 1.4 (module: leonardr)\">\\\\n<meta name=\"author\" content=\"Leonard Richardson\">\\\\n</head>\\\\n<body bgcolor=\"white\" text=\"black\" link=\"blue\" vlink=\"660066\" alink=\"red\">\\\\n<img align=\"right\" src=\"10.1.jpg\" width=\"250\"><br />\\\\n\\\\n<p>You didn\\\\\\'t write that awful page. You\\\\\\'re just trying to get some\\\\ndata out of it. Beautiful Soup is here to help. Since 2004, it\\\\\\'s been\\\\nsaving programmers hours or days of work on quick-turnaround\\\\nscreen scraping projects.</p>\\\\n\\\\n<div align=\"center\">\\\\n\\\\n<a href=\"bs4/download/\"><h1>Beautiful Soup</h1></a>\\\\n\\\\n<p>\"A tremendous boon.\" -- Python411 Podcast</p>\\\\n\\\\n<p>[ <a href=\"#Download\">Download</a> | <a\\\\nhref=\"bs4/doc/\">Documentation</a> | <a href=\"#HallOfFame\">Hall of Fame</a> | <a href=\"https://code.launchpad.net/beautifulsoup\">Source</a> | <a href=\"https://bazaar.launchpad.net/%7Eleonardr/beautifulsoup/bs4/view/head:/CHANGELOG\">Changelog</a> | <a href=\"https://groups.google.com/forum/?fromgroups#!forum/beautifulsoup\">Discussion group</a>  | <a href=\"zine/\">Zine</a> ]</p>\\\\n\\\\n<p><small>If you use Beautiful Soup as part of your work, please consider a <a href=\"https://tidelift.com/subscription/pkg/pypi-beautifulsoup4?utm_source=pypi-beautifulsoup4&utm_medium=referral&utm_campaign=website\">Tidelift subscription</a>. This will support many of the free software projects your organization depends on, not just Beautiful Soup.\\\\n<p>If Beautiful Soup is useful to you on a personal level, you might like to read <a href=\"zine/\"><i>Tool Safety</i></a>, a short zine I wrote about what I learned about software development from working on Beautiful Soup. Thanks!</small></p>\\\\n\\\\n\\\\n\\\\n</div>\\\\n\\\\n<p><i>If you have questions, send them to <a\\\\nhref=\"https://groups.google.com/forum/?fromgroups#!forum/beautifulsoup\">the discussion\\\\ngroup</a>. If you find a bug, <a href=\"https://bugs.launchpad.net/beautifulsoup/\">file it</a>.</i></p>\\\\n\\\\n<p>Beautiful Soup is a Python library designed for quick turnaround\\\\nprojects like screen-scraping. Three features make it powerful:\\\\n\\\\n<ol>\\\\n\\\\n<li>Beautiful Soup provides a few simple methods and Pythonic idioms\\\\nfor navigating, searching, and modifying a parse tree: a toolkit for\\\\ndissecting a document and extracting what you need. It doesn\\\\\\'t take\\\\nmuch code to write an application\\\\n\\\\n<li>Beautiful Soup automatically converts incoming documents to\\\\nUnicode and outgoing documents to UTF-8. You don\\\\\\'t have to think\\\\nabout encodings, unless the document doesn\\\\\\'t specify an encoding and\\\\nBeautiful Soup can\\\\\\'t detect one. Then you just have to specify the\\\\noriginal encoding.\\\\n\\\\n<li>Beautiful Soup sits on top of popular Python parsers like <a\\\\nhref=\"http://lxml.de/\">lxml</a> and <a\\\\nhref=\"http://code.google.com/p/html5lib/\">html5lib</a>, allowing you\\\\nto try out different parsing strategies or trade speed for\\\\nflexibility.\\\\n\\\\n</ol>\\\\n\\\\n<p>Beautiful Soup parses anything you give it, and does the tree\\\\ntraversal stuff for you. You can tell it \"Find all the links\", or\\\\n\"Find all the links of class <tt>externalLink</tt>\", or \"Find all the\\\\nlinks whose urls match \"foo.com\", or \"Find the table heading that\\\\\\'s\\\\ngot bold text, then give me that text.\"\\\\n\\\\n<p>Valuable data that was once locked up in poorly-designed websites\\\\nis now within your reach. Projects that would have taken hours take\\\\nonly minutes with Beautiful Soup.\\\\n\\\\n<p>Interested? <a href=\"bs4/doc/\">Read more.</a>\\\\n\\\\n<a name=\"Download\"><h2>Download Beautiful Soup</h2></a>\\\\n\\\\n<p>The current release is <a href=\"bs4/download/\">Beautiful Soup\\\\n4.8.0</a> (July 20, 2019). You can install Beautiful Soup 4 with\\\\n<code>pip install beautifulsoup4</code>.\\\\n\\\\n<p>In Debian and Ubuntu, Beautiful Soup is available as the\\\\n<code>python-bs4</code> package (for Python 2) or the\\\\n<code>python3-bs4</code> package (for Python 3). In Fedora it\\\\\\'s\\\\navailable as the <code>python-beautifulsoup4</code> package.\\\\n\\\\n<p>Beautiful Soup is licensed under the MIT license, so you can also\\\\ndownload the tarball, drop the <code>bs4/</code> directory into almost\\\\nany Python application (or into your library path) and start using it\\\\nimmediately. (If you want to do this under Python 3, you will need to\\\\nmanually convert the code using <code>2to3</code>.)\\\\n\\\\n<p>Beautiful Soup 4 works on both Python 2 (2.7+) and Python 3.\\\\n\\\\n<h3>Beautiful Soup 3</h3>\\\\n\\\\n<p>Beautiful Soup 3 was the official release line of Beautiful Soup\\\\nfrom May 2006 to March 2012. It is considered stable, and only\\\\ncritical security bugs will be fixed. <a\\\\nhref=\"http://www.crummy.com/software/BeautifulSoup/bs3/documentation.html\">Here\\\\\\'s\\\\nthe Beautiful Soup 3 documentation.</a>\\\\n\\\\n<p>Beautiful Soup 3 works only under Python 2.x. It is licensed under\\\\nthe same license as Python itself.\\\\n\\\\n<p>The current release of Beautiful Soup 3 is <a\\\\nhref=\"download/3.x/BeautifulSoup-3.2.1.tar.gz\">3.2.1</a> (February 16,\\\\n2012). You can install Beautiful Soup 3 with <code>pip install\\\\nBeautifulSoup</code>. It\\\\\\'s also available as\\\\n<code>python-beautifulsoup</code> in Debian and Ubuntu, and as\\\\n<code>python-BeautifulSoup</code> in Fedora.\\\\n\\\\n<p>You can also download the tarball and use\\\\n<code>BeautifulSoup.py</code> in your project directly.\\\\n\\\\n\\\\n<a name=\"HallOfFame\"><h2>Hall of Fame</h2></a>\\\\n\\\\n<p>Over the years, Beautiful Soup has been used in hundreds of\\\\ndifferent projects. There\\\\\\'s no way I can list them all, but I want to\\\\nhighlight a few high-profile projects. Beautiful Soup isn\\\\\\'t what makes\\\\nthese projects interesting, but it did make their completion easier:\\\\n\\\\n<ul>\\\\n\\\\n<li><a\\\\n href=\"http://www.nytimes.com/2007/10/25/arts/design/25vide.html\">\"Movable\\\\n Type\"</a>, a work of digital art on display in the lobby of the New\\\\n York Times building, uses Beautiful Soup to scrape news feeds.\\\\n\\\\n<li>Reddit uses Beautiful Soup to <a\\\\nhref=\"https://github.com/reddit/reddit/blob/85f9cff3e2ab9bb8f19b96acd8da4ebacc079f04/r2/r2/lib/media.py\">parse\\\\na page that\\\\\\'s been linked to and find a representative image</a>.\\\\n\\\\n<li>Alexander Harrowell uses Beautiful Soup to <a\\\\n href=\"http://www.harrowell.org.uk/viktormap.html\">track the business\\\\n activities</a> of an arms merchant.\\\\n\\\\n<li>The developers of Python itself used Beautiful Soup to <a\\\\nhref=\"http://svn.python.org/view/tracker/importer/\">migrate the Python\\\\nbug tracker from Sourceforge to Roundup</a>.\\\\n\\\\n<li>The <a href=\"http://www2.ljworld.com/\">Lawrence Journal-World</a>\\\\nuses Beautiful Soup to <A\\\\nhref=\"http://www.b-list.org/weblog/2010/nov/02/news-done-broke/\">gather\\\\nstatewide election results</a>.\\\\n\\\\n<li>The <a href=\"http://esrl.noaa.gov/gsd/fab/\">NOAA\\\\\\'s Forecast\\\\nApplications Branch</a> uses Beautiful Soup in <a\\\\nhref=\"http://laps.noaa.gov/topograbber/\">TopoGrabber</a>, a script for\\\\ndownloading \"high resolution USGS datasets.\"\\\\n\\\\n</ul>\\\\n\\\\n<p>If you\\\\\\'ve used Beautiful Soup in a project you\\\\\\'d like me to know\\\\nabout, please do send email to me or <a\\\\nhref=\"http://groups.google.com/group/beautifulsoup/\">the discussion\\\\ngroup</a>.\\\\n\\\\n<h2>Development</h2>\\\\n\\\\n<p>Development happens at <a\\\\nhref=\"https://launchpad.net/beautifulsoup\">Launchpad</a>. You can <a\\\\nhref=\"https://code.launchpad.net/beautifulsoup/\">get the source\\\\ncode</a> or <a href=\"https://bugs.launchpad.net/beautifulsoup/\">file\\\\nbugs</a>.<hr><table><tr><td valign=\"top\">\\\\n<p>This document (<a href=\"/source/software/BeautifulSoup/index.bhtml\">source</a>) is part of Crummy, the webspace of <a href=\"/self/\">Leonard Richardson</a> (<a href=\"/self/contact.html\">contact information</a>). It was last modified on Sunday, July 21 2019, 17:41:10 Nowhere Standard Time and last built on Tuesday, September 17 2019, 23:00:01 Nowhere Standard Time.</p><p><table class=\"licenseText\"><tr><td><a href=\"http://creativecommons.org/licenses/by-sa/2.0/\"><img border=\"0\" src=\"/nb//resources/img/somerights20.jpg\"></a></td><td valign=\"top\">Crummy is &copy; 1996-2019 Leonard Richardson. Unless otherwise noted, all text licensed under a <a href=\"http://creativecommons.org/licenses/by-sa/2.0/\">Creative Commons License</a>.</td></tr></table></span><!--<rdf:RDF xmlns=\"http://web.resource.org/cc/\" xmlns:dc=\"http://purl.org/dc/elements/1.1/\" xmlns:rdf=\"http://www.w3.org/1999/02/22-rdf-syntax-ns#\"><Work rdf:about=\"http://www.crummy.com/\"><dc:title>Crummy: The Site</dc:title><dc:rights><Agent><dc:title>Crummy: the Site</dc:title></Agent></dc:rights><dc:format>text/html</dc:format><license rdf:resource=http://creativecommons.org/licenses/by-sa/2.0//></Work><License rdf:about=\"http://creativecommons.org/licenses/by-sa/2.0/\"></License></rdf:RDF>--></p></td><td valign=top><p><b>Document tree:</b>\\\\n<dl><dd><a href=\"http://www.crummy.com/\">http://www.crummy.com/</a><dl><dd><a href=\"http://www.crummy.com/software/\">software/</a><dl><dd><a href=\"http://www.crummy.com/software/BeautifulSoup/\">BeautifulSoup/</a></dl>\\\\n</dl>\\\\n</dl>\\\\n\\\\n\\\\nSite Search:\\\\n\\\\n<form method=\"get\" action=\"/search/\">\\\\n        <input type=\"text\" name=\"q\" maxlength=\"255\" value=\"\"></input>\\\\n        </form>\\\\n        </td>\\\\n\\\\n</tr>\\\\n\\\\n</table>\\\\n</body>\\\\n</html>\\\\n\\''"
      ]
     },
     "execution_count": 69,
     "metadata": {},
     "output_type": "execute_result"
    }
   ],
   "source": [
    "source"
   ]
  },
  {
   "cell_type": "markdown",
   "metadata": {
    "slideshow": {
     "slide_type": "slide"
    }
   },
   "source": [
    "Quiz :\n",
    "======\n",
    "\n",
    "* Is the word 'Alice' mentioned on the beautiful soup homepage?\n",
    "* How often does the word 'Soup' occur on the site?\n",
    "    - hint: use `.count()`\n",
    "* At what index occurs the substring 'alien video games' ?\n",
    "    - hint: use `.find()`"
   ]
  },
  {
   "cell_type": "code",
   "execution_count": 70,
   "metadata": {},
   "outputs": [
    {
     "name": "stdout",
     "output_type": "stream",
     "text": [
      "False\n",
      "45\n",
      "-1\n",
      "\n",
      "\n"
     ]
    }
   ],
   "source": [
    "## is 'Alice' in source?\n",
    "print ('Alice' in source)\n",
    "\n",
    "## count occurences of 'Soup'\n",
    "print (source.count('Soup'))\n",
    "\n",
    "## find index of 'alien video games'\n",
    "position =  source.find('alien video games')\n",
    "print (position)\n",
    "\n",
    "## quick test to see the substring in the source variable\n",
    "## you can access strings like lists\n",
    "print (source[position:position + 20])\n",
    "\n",
    "## or the tidier version:\n",
    "print (source[position:position + len('alien video games')])"
   ]
  },
  {
   "cell_type": "markdown",
   "metadata": {
    "slideshow": {
     "slide_type": "slide"
    }
   },
   "source": [
    "Beautiful Soup\n",
    "==============\n",
    "\n",
    "* designed to make your life easier\n",
    "* many good functions for parsing html code"
   ]
  },
  {
   "cell_type": "markdown",
   "metadata": {
    "slideshow": {
     "slide_type": "slide"
    }
   },
   "source": [
    "Some examples\n",
    "=============\n"
   ]
  },
  {
   "cell_type": "code",
   "execution_count": 38,
   "metadata": {},
   "outputs": [
    {
     "data": {
      "text/plain": [
       "[<a href=\"bs4/download/\"><h1>Beautiful Soup</h1></a>,\n",
       " <a href=\"#Download\">Download</a>,\n",
       " <a>Documentation</a>,\n",
       " <a href=\"#HallOfFame\">Hall of Fame</a>,\n",
       " <a href=\"https://code.launchpad.net/beautifulsoup\">Source</a>,\n",
       " <a href=\"https://bazaar.launchpad.net/%7Eleonardr/beautifulsoup/bs4/view/head:/CHANGELOG\">Changelog</a>,\n",
       " <a href=\"https://groups.google.com/forum/?fromgroups#!forum/beautifulsoup\">Discussion group</a>,\n",
       " <a href=\"zine/\">Zine</a>,\n",
       " <a href=\"https://tidelift.com/subscription/pkg/pypi-beautifulsoup4?utm_source=pypi-beautifulsoup4&amp;utm_medium=referral&amp;utm_campaign=website\">Tidelift subscription</a>,\n",
       " <a href=\"zine/\"><i>Tool Safety</i></a>,\n",
       " <a>the discussion\\ngroup</a>,\n",
       " <a href=\"https://bugs.launchpad.net/beautifulsoup/\">file it</a>,\n",
       " <a>lxml</a>,\n",
       " <a>html5lib</a>,\n",
       " <a href=\"bs4/doc/\">Read more.</a>,\n",
       " <a name=\"Download\"><h2>Download Beautiful Soup</h2></a>,\n",
       " <a href=\"bs4/download/\">Beautiful Soup\\n4.8.0</a>,\n",
       " <a>Here\\'s\\nthe Beautiful Soup 3 documentation.</a>,\n",
       " <a>3.2.1</a>,\n",
       " <a name=\"HallOfFame\"><h2>Hall of Fame</h2></a>,\n",
       " <a href=\"http://www.nytimes.com/2007/10/25/arts/design/25vide.html\">\"Movable\\n Type\"</a>,\n",
       " <a>parse\\na page that\\'s been linked to and find a representative image</a>,\n",
       " <a href=\"http://www.harrowell.org.uk/viktormap.html\">track the business\\n activities</a>,\n",
       " <a>migrate the Python\\nbug tracker from Sourceforge to Roundup</a>,\n",
       " <a href=\"http://www2.ljworld.com/\">Lawrence Journal-World</a>,\n",
       " <a>gather\\nstatewide election results</a>,\n",
       " <a href=\"http://esrl.noaa.gov/gsd/fab/\">NOAA\\'s Forecast\\nApplications Branch</a>,\n",
       " <a>TopoGrabber</a>,\n",
       " <a>the discussion\\ngroup</a>,\n",
       " <a>Launchpad</a>,\n",
       " <a>get the source\\ncode</a>,\n",
       " <a href=\"https://bugs.launchpad.net/beautifulsoup/\">file\\nbugs</a>,\n",
       " <a href=\"/source/software/BeautifulSoup/index.bhtml\">source</a>,\n",
       " <a href=\"/self/\">Leonard Richardson</a>,\n",
       " <a href=\"/self/contact.html\">contact information</a>,\n",
       " <a href=\"http://creativecommons.org/licenses/by-sa/2.0/\"><img border=\"0\" src=\"/nb//resources/img/somerights20.jpg\"/></a>,\n",
       " <a href=\"http://creativecommons.org/licenses/by-sa/2.0/\">Creative Commons License</a>,\n",
       " <a href=\"http://www.crummy.com/\">http://www.crummy.com/</a>,\n",
       " <a href=\"http://www.crummy.com/software/\">software/</a>,\n",
       " <a href=\"http://www.crummy.com/software/BeautifulSoup/\">BeautifulSoup/</a>]"
      ]
     },
     "execution_count": 38,
     "metadata": {},
     "output_type": "execute_result"
    }
   ],
   "source": [
    "## get bs4 object\n",
    "soup = bs4.BeautifulSoup(source)\n",
    " \n",
    "## compare the two print statements\n",
    "#print (soup)\n",
    "#print (soup.prettify())\n",
    "\n",
    "## show how to find all a tags\n",
    "soup.findAll('a')\n",
    "\n",
    "## ***Why does this not work? ***\n",
    "#soup.findAll('Soup')"
   ]
  },
  {
   "cell_type": "markdown",
   "metadata": {
    "slideshow": {
     "slide_type": "skip"
    }
   },
   "source": [
    "The last command only returns an empty list, because `Soup` is not an HTML tag. It is just a string that occours in the webpage."
   ]
  },
  {
   "cell_type": "markdown",
   "metadata": {
    "slideshow": {
     "slide_type": "slide"
    }
   },
   "source": [
    "Some examples\n",
    "============="
   ]
  },
  {
   "cell_type": "code",
   "execution_count": 71,
   "metadata": {},
   "outputs": [
    {
     "data": {
      "text/plain": [
       "['bs4/download/',\n",
       " '#Download',\n",
       " None,\n",
       " '#HallOfFame',\n",
       " 'https://code.launchpad.net/beautifulsoup',\n",
       " 'https://bazaar.launchpad.net/%7Eleonardr/beautifulsoup/bs4/view/head:/CHANGELOG',\n",
       " 'https://groups.google.com/forum/?fromgroups#!forum/beautifulsoup',\n",
       " 'zine/',\n",
       " 'https://tidelift.com/subscription/pkg/pypi-beautifulsoup4?utm_source=pypi-beautifulsoup4&utm_medium=referral&utm_campaign=website',\n",
       " 'zine/',\n",
       " None,\n",
       " 'https://bugs.launchpad.net/beautifulsoup/',\n",
       " None,\n",
       " None,\n",
       " 'bs4/doc/',\n",
       " None,\n",
       " 'bs4/download/',\n",
       " None,\n",
       " None,\n",
       " None,\n",
       " 'http://www.nytimes.com/2007/10/25/arts/design/25vide.html',\n",
       " None,\n",
       " 'http://www.harrowell.org.uk/viktormap.html',\n",
       " None,\n",
       " 'http://www2.ljworld.com/',\n",
       " None,\n",
       " 'http://esrl.noaa.gov/gsd/fab/',\n",
       " None,\n",
       " None,\n",
       " None,\n",
       " None,\n",
       " 'https://bugs.launchpad.net/beautifulsoup/',\n",
       " '/source/software/BeautifulSoup/index.bhtml',\n",
       " '/self/',\n",
       " '/self/contact.html',\n",
       " 'http://creativecommons.org/licenses/by-sa/2.0/',\n",
       " 'http://creativecommons.org/licenses/by-sa/2.0/',\n",
       " 'http://www.crummy.com/',\n",
       " 'http://www.crummy.com/software/',\n",
       " 'http://www.crummy.com/software/BeautifulSoup/']"
      ]
     },
     "execution_count": 71,
     "metadata": {},
     "output_type": "execute_result"
    }
   ],
   "source": [
    "## get attribute value from an element:\n",
    "## find tag: this only returns the first occurrence, not all tags in the string\n",
    "first_tag = soup.find('a')\n",
    "\n",
    "## get attribute `href`\n",
    "first_tag.get('href')\n",
    "\n",
    "## get all links in the page\n",
    "link_list = [l.get('href') for l in soup.findAll('a')]\n",
    "link_list"
   ]
  },
  {
   "cell_type": "code",
   "execution_count": 76,
   "metadata": {
    "slideshow": {
     "slide_type": "slide"
    }
   },
   "outputs": [
    {
     "name": "stdout",
     "output_type": "stream",
     "text": [
      "['https://code.launchpad.net/beautifulsoup', 'https://bazaar.launchpad.net/%7Eleonardr/beautifulsoup/bs4/view/head:/CHANGELOG', 'https://groups.google.com/forum/?fromgroups#!forum/beautifulsoup', 'https://tidelift.com/subscription/pkg/pypi-beautifulsoup4?utm_source=pypi-beautifulsoup4&utm_medium=referral&utm_campaign=website', 'https://bugs.launchpad.net/beautifulsoup/', 'http://www.nytimes.com/2007/10/25/arts/design/25vide.html', 'http://www.harrowell.org.uk/viktormap.html', 'http://www2.ljworld.com/', 'http://esrl.noaa.gov/gsd/fab/', 'https://bugs.launchpad.net/beautifulsoup/', 'http://creativecommons.org/licenses/by-sa/2.0/', 'http://creativecommons.org/licenses/by-sa/2.0/', 'http://www.crummy.com/', 'http://www.crummy.com/software/', 'http://www.crummy.com/software/BeautifulSoup/']\n"
     ]
    }
   ],
   "source": [
    "## filter all external links\n",
    "# create an empty list to collect the valid links\n",
    "external_links = []\n",
    "\n",
    "# write a loop to filter the links\n",
    "# if it starts with 'http' we are happy\n",
    "for l in link_list:\n",
    "    if l is not None and l[:4] == 'http':\n",
    "        external_links.append(l)\n",
    "\n",
    "# this throws an error! It says something about 'NoneType'\n",
    "print(external_links)"
   ]
  },
  {
   "cell_type": "code",
   "execution_count": 75,
   "metadata": {
    "slideshow": {
     "slide_type": "slide"
    }
   },
   "outputs": [
    {
     "data": {
      "text/plain": [
       "['bs4/download/',\n",
       " '#Download',\n",
       " None,\n",
       " '#HallOfFame',\n",
       " 'https://code.launchpad.net/beautifulsoup',\n",
       " 'https://bazaar.launchpad.net/%7Eleonardr/beautifulsoup/bs4/view/head:/CHANGELOG',\n",
       " 'https://groups.google.com/forum/?fromgroups#!forum/beautifulsoup',\n",
       " 'zine/',\n",
       " 'https://tidelift.com/subscription/pkg/pypi-beautifulsoup4?utm_source=pypi-beautifulsoup4&utm_medium=referral&utm_campaign=website',\n",
       " 'zine/',\n",
       " None,\n",
       " 'https://bugs.launchpad.net/beautifulsoup/',\n",
       " None,\n",
       " None,\n",
       " 'bs4/doc/',\n",
       " None,\n",
       " 'bs4/download/',\n",
       " None,\n",
       " None,\n",
       " None,\n",
       " 'http://www.nytimes.com/2007/10/25/arts/design/25vide.html',\n",
       " None,\n",
       " 'http://www.harrowell.org.uk/viktormap.html',\n",
       " None,\n",
       " 'http://www2.ljworld.com/',\n",
       " None,\n",
       " 'http://esrl.noaa.gov/gsd/fab/',\n",
       " None,\n",
       " None,\n",
       " None,\n",
       " None,\n",
       " 'https://bugs.launchpad.net/beautifulsoup/',\n",
       " '/source/software/BeautifulSoup/index.bhtml',\n",
       " '/self/',\n",
       " '/self/contact.html',\n",
       " 'http://creativecommons.org/licenses/by-sa/2.0/',\n",
       " 'http://creativecommons.org/licenses/by-sa/2.0/',\n",
       " 'http://www.crummy.com/',\n",
       " 'http://www.crummy.com/software/',\n",
       " 'http://www.crummy.com/software/BeautifulSoup/']"
      ]
     },
     "execution_count": 75,
     "metadata": {},
     "output_type": "execute_result"
    }
   ],
   "source": [
    "# lets investigate. Have a close look at the link_list:\n",
    "link_list\n",
    "\n",
    "# Seems that there are None elements!\n",
    "# Let's verify\n",
    "#print sum([l is None for l in link_list])\n",
    "\n",
    "# So there are two elements in the list that are None!"
   ]
  },
  {
   "cell_type": "code",
   "execution_count": 42,
   "metadata": {
    "slideshow": {
     "slide_type": "slide"
    }
   },
   "outputs": [
    {
     "data": {
      "text/plain": [
       "['https://code.launchpad.net/beautifulsoup',\n",
       " 'https://bazaar.launchpad.net/%7Eleonardr/beautifulsoup/bs4/view/head:/CHANGELOG',\n",
       " 'https://groups.google.com/forum/?fromgroups#!forum/beautifulsoup',\n",
       " 'https://tidelift.com/subscription/pkg/pypi-beautifulsoup4?utm_source=pypi-beautifulsoup4&utm_medium=referral&utm_campaign=website',\n",
       " 'https://bugs.launchpad.net/beautifulsoup/',\n",
       " 'http://www.nytimes.com/2007/10/25/arts/design/25vide.html',\n",
       " 'http://www.harrowell.org.uk/viktormap.html',\n",
       " 'http://www2.ljworld.com/',\n",
       " 'http://esrl.noaa.gov/gsd/fab/',\n",
       " 'https://bugs.launchpad.net/beautifulsoup/',\n",
       " 'http://creativecommons.org/licenses/by-sa/2.0/',\n",
       " 'http://creativecommons.org/licenses/by-sa/2.0/',\n",
       " 'http://www.crummy.com/',\n",
       " 'http://www.crummy.com/software/',\n",
       " 'http://www.crummy.com/software/BeautifulSoup/']"
      ]
     },
     "execution_count": 42,
     "metadata": {},
     "output_type": "execute_result"
    }
   ],
   "source": [
    "# Let's filter those objects out in the for loop\n",
    "external_links = []\n",
    "\n",
    "# write a loop to filter the links\n",
    "# if it is not None and starts with 'http' we are happy\n",
    "for l in link_list:\n",
    "    if l is not None and l[:4] == 'http':\n",
    "        external_links.append(l)\n",
    "        \n",
    "external_links"
   ]
  },
  {
   "cell_type": "markdown",
   "metadata": {
    "slideshow": {
     "slide_type": "skip"
    }
   },
   "source": [
    "Note: The above `if` condition works because of lazy evaluation in Python. The `and` statement becomes `False` if the first part is `False`, so there is no need to ever evaluate the second part. Thus a `None` entry in the list gets never asked about its first four characters. "
   ]
  },
  {
   "cell_type": "code",
   "execution_count": 43,
   "metadata": {
    "slideshow": {
     "slide_type": "slide"
    }
   },
   "outputs": [
    {
     "data": {
      "text/plain": [
       "['https://code.launchpad.net/beautifulsoup',\n",
       " 'https://bazaar.launchpad.net/%7Eleonardr/beautifulsoup/bs4/view/head:/CHANGELOG',\n",
       " 'https://groups.google.com/forum/?fromgroups#!forum/beautifulsoup',\n",
       " 'https://tidelift.com/subscription/pkg/pypi-beautifulsoup4?utm_source=pypi-beautifulsoup4&utm_medium=referral&utm_campaign=website',\n",
       " 'https://bugs.launchpad.net/beautifulsoup/',\n",
       " 'http://www.nytimes.com/2007/10/25/arts/design/25vide.html',\n",
       " 'http://www.harrowell.org.uk/viktormap.html',\n",
       " 'http://www2.ljworld.com/',\n",
       " 'http://esrl.noaa.gov/gsd/fab/',\n",
       " 'https://bugs.launchpad.net/beautifulsoup/',\n",
       " 'http://creativecommons.org/licenses/by-sa/2.0/',\n",
       " 'http://creativecommons.org/licenses/by-sa/2.0/',\n",
       " 'http://www.crummy.com/',\n",
       " 'http://www.crummy.com/software/',\n",
       " 'http://www.crummy.com/software/BeautifulSoup/']"
      ]
     },
     "execution_count": 43,
     "metadata": {},
     "output_type": "execute_result"
    }
   ],
   "source": [
    "# and we can put this in a list comprehension as well, it almost reads like \n",
    "# a sentence.\n",
    "\n",
    "[l for l in link_list if l is not None and l.startswith('http')]"
   ]
  },
  {
   "cell_type": "markdown",
   "metadata": {
    "slideshow": {
     "slide_type": "slide"
    }
   },
   "source": [
    "Parsing the Tree\n",
    "================\n",
    "\n"
   ]
  },
  {
   "cell_type": "code",
   "execution_count": 44,
   "metadata": {},
   "outputs": [
    {
     "data": {
      "text/plain": [
       "<body><h3> Test </h3><p>Hello world!</p></body>"
      ]
     },
     "execution_count": 44,
     "metadata": {},
     "output_type": "execute_result"
    }
   ],
   "source": [
    "# redifining `s` without any line breaks\n",
    "s = \"\"\"<!DOCTYPE html><html><head><title>This is a title</title></head><body><h3> Test </h3><p>Hello world!</p></body></html>\"\"\"\n",
    "## get bs4 object\n",
    "tree = bs4.BeautifulSoup(s)\n",
    "\n",
    "## get html root node\n",
    "root_node = tree.html\n",
    "\n",
    "## get head from root using contents\n",
    "head = root_node.contents[0]\n",
    "\n",
    "## get body from root\n",
    "body = root_node.contents[1]\n",
    "\n",
    "## could directly access body\n",
    "tree.body"
   ]
  },
  {
   "cell_type": "code",
   "execution_count": 78,
   "metadata": {},
   "outputs": [
    {
     "data": {
      "text/plain": [
       "'This is a title'"
      ]
     },
     "execution_count": 78,
     "metadata": {},
     "output_type": "execute_result"
    }
   ],
   "source": [
    "tree.html.head.title.text"
   ]
  },
  {
   "cell_type": "markdown",
   "metadata": {
    "slideshow": {
     "slide_type": "slide"
    }
   },
   "source": [
    "Quiz:\n",
    "=====\n",
    "\n",
    "* Find the `h3` tag by parsing the tree starting at `body`\n",
    "* Create a list of all __Hall of Fame__ entries listed on the Beautiful Soup webpage\n",
    "    - hint: it is the only unordered list in the page (tag `ul`)\n"
   ]
  },
  {
   "cell_type": "code",
   "execution_count": 79,
   "metadata": {},
   "outputs": [
    {
     "data": {
      "text/plain": [
       "<h3>Beautiful Soup 3</h3>"
      ]
     },
     "execution_count": 79,
     "metadata": {},
     "output_type": "execute_result"
    }
   ],
   "source": [
    "## get h3 tag from body\n",
    "soup.find('h3')"
   ]
  },
  {
   "cell_type": "code",
   "execution_count": 82,
   "metadata": {},
   "outputs": [
    {
     "data": {
      "text/plain": [
       "['\"Movable\\\\n Type\", a work of digital art on display in the lobby of the New\\\\n York Times building, uses Beautiful Soup to scrape news feeds.\\\\n\\\\n',\n",
       " \"Reddit uses Beautiful Soup to parse\\\\na page that\\\\'s been linked to and find a representative image.\\\\n\\\\n\",\n",
       " 'Alexander Harrowell uses Beautiful Soup to track the business\\\\n activities of an arms merchant.\\\\n\\\\n',\n",
       " 'The developers of Python itself used Beautiful Soup to migrate the Python\\\\nbug tracker from Sourceforge to Roundup.\\\\n\\\\n',\n",
       " 'The Lawrence Journal-World\\\\nuses Beautiful Soup to gather\\\\nstatewide election results.\\\\n\\\\n',\n",
       " 'The NOAA\\\\\\'s Forecast\\\\nApplications Branch uses Beautiful Soup in TopoGrabber, a script for\\\\ndownloading \"high resolution USGS datasets.\"\\\\n\\\\n']"
      ]
     },
     "execution_count": 82,
     "metadata": {},
     "output_type": "execute_result"
    }
   ],
   "source": [
    "## use ul as entry point\n",
    "soup.find_all('ul')\n",
    "## get hall of fame list from entry point\n",
    "[li.text for li in soup.find('ul').find_all('li')]\n"
   ]
  },
  {
   "cell_type": "code",
   "execution_count": 99,
   "metadata": {},
   "outputs": [
    {
     "data": {
      "text/plain": [
       "<ul>\\n\\n<li><a href=\"http://www.nytimes.com/2007/10/25/arts/design/25vide.html\">\"Movable\\n Type\"</a>, a work of digital art on display in the lobby of the New\\n York Times building, uses Beautiful Soup to scrape news feeds.\\n\\n</li><li>Reddit uses Beautiful Soup to <a>parse\\na page that\\'s been linked to and find a representative image</a>.\\n\\n</li><li>Alexander Harrowell uses Beautiful Soup to <a href=\"http://www.harrowell.org.uk/viktormap.html\">track the business\\n activities</a> of an arms merchant.\\n\\n</li><li>The developers of Python itself used Beautiful Soup to <a>migrate the Python\\nbug tracker from Sourceforge to Roundup</a>.\\n\\n</li><li>The <a href=\"http://www2.ljworld.com/\">Lawrence Journal-World</a>\\nuses Beautiful Soup to <a>gather\\nstatewide election results</a>.\\n\\n</li><li>The <a href=\"http://esrl.noaa.gov/gsd/fab/\">NOAA\\'s Forecast\\nApplications Branch</a> uses Beautiful Soup in <a>TopoGrabber</a>, a script for\\ndownloading \"high resolution USGS datasets.\"\\n\\n</li></ul>"
      ]
     },
     "execution_count": 99,
     "metadata": {},
     "output_type": "execute_result"
    }
   ],
   "source": [
    "soup.ul"
   ]
  },
  {
   "cell_type": "markdown",
   "metadata": {
    "slideshow": {
     "slide_type": "slide"
    }
   },
   "source": [
    "Advanced Example\n",
    "===============\n"
   ]
  },
  {
   "cell_type": "markdown",
   "metadata": {
    "slideshow": {
     "slide_type": "slide"
    }
   },
   "source": [
    "Scraping data science skills\n",
    "=============================\n",
    "\n",
    "- What skills are in demand for data scientists?\n",
    "- Should we have a lecture on Spark or only on MapReduce?\n",
    "\n",
    "We want to scrape the information from job advertisements for data scientists from indeed.com\n",
    "Let's scrape and find out!"
   ]
  },
  {
   "cell_type": "code",
   "execution_count": 48,
   "metadata": {
    "slideshow": {
     "slide_type": "slide"
    }
   },
   "outputs": [],
   "source": [
    "# Fixed url for job postings containing data scientist\n",
    "url = 'https://www.indeed.com/jobs?q=data+scientist&l=San+Francisco+Bay+Area%2C+CA'\n",
    "# read the website\n",
    "source = urlopen(url).read()\n",
    "# parse html code\n",
    "bs_tree = bs4.BeautifulSoup(source)"
   ]
  },
  {
   "cell_type": "code",
   "execution_count": 96,
   "metadata": {},
   "outputs": [
    {
     "data": {
      "text/plain": [
       "2682.0"
      ]
     },
     "execution_count": 96,
     "metadata": {},
     "output_type": "execute_result"
    }
   ],
   "source": [
    "job_count_string = bs_tree.find(id = 'searchCountPages')\n",
    "job_count_string=job_count_string.text\n",
    "float(job_count_string.split()[3].replace(',',''))"
   ]
  },
  {
   "cell_type": "code",
   "execution_count": 84,
   "metadata": {
    "slideshow": {
     "slide_type": "slide"
    }
   },
   "outputs": [
    {
     "name": "stdout",
     "output_type": "stream",
     "text": [
      "Search yielded 2,682 hits.\n",
      "2682\n"
     ]
    }
   ],
   "source": [
    "# see how many job postings we found\n",
    "job_count_string = bs_tree.find(id = 'searchCountPages').contents[0]\n",
    "job_count_string = job_count_string.split()[-2]\n",
    "print(\"Search yielded %s hits.\" % (job_count_string))\n",
    "\n",
    "# not that job_count so far is still a string, \n",
    "# not an integer, and the , separator prevents \n",
    "# us from just casting it to int\n",
    "\n",
    "job_count_digits = [int(d) for d in job_count_string if d.isdigit()]\n",
    "job_count = np.sum([digit*(10**exponent) for digit, exponent in \n",
    "                    zip(job_count_digits[::-1], range(len(job_count_digits)))])\n",
    "\n",
    "print (job_count)"
   ]
  },
  {
   "cell_type": "code",
   "execution_count": 50,
   "metadata": {},
   "outputs": [
    {
     "data": {
      "text/plain": [
       "'2,682'"
      ]
     },
     "execution_count": 50,
     "metadata": {},
     "output_type": "execute_result"
    }
   ],
   "source": [
    "job_count_string = bs_tree.find(id = 'searchCount').text\n",
    "job_count_string.split()[3]"
   ]
  },
  {
   "cell_type": "code",
   "execution_count": 97,
   "metadata": {
    "slideshow": {
     "slide_type": "slide"
    }
   },
   "outputs": [
    {
     "name": "stdout",
     "output_type": "stream",
     "text": [
      "269\n",
      "opening https://www.indeed.com/jobs?q=data+scientist&l=San+Francisco+Bay+Area%2C+CA&start=0\n",
      "We found a lot of jobs:  0\n"
     ]
    }
   ],
   "source": [
    "# The website is only listing 10 results per page, \n",
    "# so we need to scrape them page after page\n",
    "num_pages = int(np.ceil(job_count/10.0))\n",
    "\n",
    "base_url = 'http://www.indeed.com'\n",
    "job_links = []\n",
    "for i in range(1): #do range(num_pages) if you want them all\n",
    "    if i%10==0:\n",
    "        print (num_pages-i)\n",
    "    url = 'https://www.indeed.com/jobs?q=data+scientist&l=San+Francisco+Bay+Area%2C+CA&start=' + str(i*10)\n",
    "    print (\"opening {}\".format(url))\n",
    "    html_page = urlopen(url).read() \n",
    "    bs_tree = bs4.BeautifulSoup(html_page)\n",
    "    job_link_area = bs_tree.find(id = 'resultsCol')\n",
    "    job_postings = job_link_area.findAll(\"div\")\n",
    "    \n",
    "\n",
    "print (\"We found a lot of jobs: \", len(job_links))"
   ]
  },
  {
   "cell_type": "markdown",
   "metadata": {
    "slideshow": {
     "slide_type": "slide"
    }
   },
   "source": [
    "Another Example\n",
    "================\n",
    "https://github.com/kjam/python-web-scraping-tutorial\n",
    "\n",
    "\n"
   ]
  },
  {
   "cell_type": "markdown",
   "metadata": {
    "slideshow": {
     "slide_type": "slide"
    }
   },
   "source": [
    "Getting Data with an API\n",
    "=========================\n",
    "\n",
    "* API: application programming interface\n",
    "* some sites try to make your life easier\n",
    "* Twitter, New York Times, ImDB, rotten Tomatoes, Yelp, ..."
   ]
  },
  {
   "cell_type": "markdown",
   "metadata": {
    "slideshow": {
     "slide_type": "slide"
    }
   },
   "source": [
    "API keys\n",
    "=========\n",
    "\n",
    "* required for data access\n",
    "* identifies application (you)\n",
    "* monitors usage\n",
    "* limits rates"
   ]
  },
  {
   "cell_type": "markdown",
   "metadata": {
    "slideshow": {
     "slide_type": "slide"
    }
   },
   "source": [
    "JSON\n",
    "======\n",
    "\n",
    "* JavaScript Object Notation\n",
    "* human readable\n",
    "* transmit attribute-value pairs"
   ]
  },
  {
   "cell_type": "code",
   "execution_count": 53,
   "metadata": {
    "slideshow": {
     "slide_type": "slide"
    }
   },
   "outputs": [
    {
     "name": "stdout",
     "output_type": "stream",
     "text": [
      "{'a': 1, 'b': 2}\n",
      "{\"a\": 1, \"b\": 2}\n",
      "{'a': 1, 'b': 2}\n"
     ]
    }
   ],
   "source": [
    "a = {'a': 1, 'b':2}\n",
    "s = json.dumps(a)\n",
    "a2 = json.loads(s)\n",
    "\n",
    "## a is a dictionary\n",
    "print (a)\n",
    "## vs s is a string containing a in JSON encoding\n",
    "print (s)\n",
    "## reading back the keys are now in unicode\n",
    "print (a2)"
   ]
  },
  {
   "cell_type": "markdown",
   "metadata": {
    "slideshow": {
     "slide_type": "slide"
    }
   },
   "source": [
    "Twitter Example:\n",
    "================\n",
    "\n",
    "* API a bit more complicated\n",
    "* libraries make life easier\n",
    "* python-twitter\n",
    "\n",
    "https://github.com/bear/python-twitter\n",
    "\n",
    "What we are going to do is scrape Joe's twitter account, and then filter it for the interesting tweets. Defining interesting as tweets that have be re-tweeted at least 10 times. \n"
   ]
  },
  {
   "cell_type": "code",
   "execution_count": 56,
   "metadata": {},
   "outputs": [
    {
     "name": "stdout",
     "output_type": "stream",
     "text": [
      "Requirement already satisfied: python-twitter in /Users/agustinmagana/anaconda3/lib/python3.7/site-packages (3.5)\n",
      "Requirement already satisfied: requests-oauthlib in /Users/agustinmagana/anaconda3/lib/python3.7/site-packages (from python-twitter) (1.2.0)\n",
      "Requirement already satisfied: future in /Users/agustinmagana/anaconda3/lib/python3.7/site-packages (from python-twitter) (0.17.1)\n",
      "Requirement already satisfied: requests in /Users/agustinmagana/anaconda3/lib/python3.7/site-packages (from python-twitter) (2.19.1)\n",
      "Requirement already satisfied: oauthlib>=3.0.0 in /Users/agustinmagana/anaconda3/lib/python3.7/site-packages (from requests-oauthlib->python-twitter) (3.0.1)\n",
      "Requirement already satisfied: chardet<3.1.0,>=3.0.2 in /Users/agustinmagana/anaconda3/lib/python3.7/site-packages (from requests->python-twitter) (3.0.4)\n",
      "Requirement already satisfied: urllib3<1.24,>=1.21.1 in /Users/agustinmagana/anaconda3/lib/python3.7/site-packages (from requests->python-twitter) (1.23)\n",
      "Requirement already satisfied: idna<2.8,>=2.5 in /Users/agustinmagana/anaconda3/lib/python3.7/site-packages (from requests->python-twitter) (2.7)\n",
      "Requirement already satisfied: certifi>=2017.4.17 in /Users/agustinmagana/anaconda3/lib/python3.7/site-packages (from requests->python-twitter) (2019.3.9)\n",
      "\u001b[33mYou are using pip version 19.0.1, however version 19.2.3 is available.\n",
      "You should consider upgrading via the 'pip install --upgrade pip' command.\u001b[0m\n"
     ]
    }
   ],
   "source": [
    "!pip install python-twitter"
   ]
  },
  {
   "cell_type": "code",
   "execution_count": 57,
   "metadata": {
    "slideshow": {
     "slide_type": "slide"
    }
   },
   "outputs": [
    {
     "ename": "SyntaxError",
     "evalue": "invalid syntax (<ipython-input-57-f82de1d1ee62>, line 4)",
     "output_type": "error",
     "traceback": [
      "\u001b[0;36m  File \u001b[0;32m\"<ipython-input-57-f82de1d1ee62>\"\u001b[0;36m, line \u001b[0;32m4\u001b[0m\n\u001b[0;31m    cKey =\u001b[0m\n\u001b[0m           ^\u001b[0m\n\u001b[0;31mSyntaxError\u001b[0m\u001b[0;31m:\u001b[0m invalid syntax\n"
     ]
    }
   ],
   "source": [
    "import twitter\n",
    "\n",
    "## define the necessary keys\n",
    "cKey = \n",
    "cSecret = \n",
    "aKey = \n",
    "aSecret = \n",
    "\n",
    "## create the api object with the twitter-python library\n",
    "api = twitter.Api(consumer_key=cKey, consumer_secret=cSecret, access_token_key=aKey, access_token_secret=aSecret)\n"
   ]
  },
  {
   "cell_type": "code",
   "execution_count": 58,
   "metadata": {
    "slideshow": {
     "slide_type": "slide"
    }
   },
   "outputs": [
    {
     "ename": "NameError",
     "evalue": "name 'api' is not defined",
     "output_type": "error",
     "traceback": [
      "\u001b[0;31m---------------------------------------------------------------------------\u001b[0m",
      "\u001b[0;31mNameError\u001b[0m                                 Traceback (most recent call last)",
      "\u001b[0;32m<ipython-input-58-e917171761f4>\u001b[0m in \u001b[0;36m<module>\u001b[0;34m()\u001b[0m\n\u001b[1;32m      1\u001b[0m \u001b[0;31m## get the user timeline with screen_name = 'stat110'\u001b[0m\u001b[0;34m\u001b[0m\u001b[0;34m\u001b[0m\u001b[0m\n\u001b[0;32m----> 2\u001b[0;31m \u001b[0mtwitter_statuses\u001b[0m \u001b[0;34m=\u001b[0m \u001b[0mapi\u001b[0m\u001b[0;34m.\u001b[0m\u001b[0mGetUserTimeline\u001b[0m\u001b[0;34m(\u001b[0m\u001b[0mscreen_name\u001b[0m \u001b[0;34m=\u001b[0m \u001b[0;34m'gutyril'\u001b[0m\u001b[0;34m)\u001b[0m\u001b[0;34m\u001b[0m\u001b[0m\n\u001b[0m\u001b[1;32m      3\u001b[0m \u001b[0;34m\u001b[0m\u001b[0m\n\u001b[1;32m      4\u001b[0m \u001b[0;31m## create a data frame\u001b[0m\u001b[0;34m\u001b[0m\u001b[0;34m\u001b[0m\u001b[0m\n\u001b[1;32m      5\u001b[0m \u001b[0;31m## first get a list of panda Series or dict\u001b[0m\u001b[0;34m\u001b[0m\u001b[0;34m\u001b[0m\u001b[0m\n",
      "\u001b[0;31mNameError\u001b[0m: name 'api' is not defined"
     ]
    }
   ],
   "source": [
    "## get the user timeline with screen_name = 'stat110'\n",
    "twitter_statuses = api.GetUserTimeline(screen_name = 'gutyril')\n",
    "\n",
    "## create a data frame\n",
    "## first get a list of panda Series or dict\n",
    "pdSeriesList = [pd.Series(t.AsDict()) for t in twitter_statuses]\n",
    "\n",
    "## then create the data frame\n",
    "data = pd.DataFrame(pdSeriesList)\n",
    "\n",
    "data.head(10)"
   ]
  },
  {
   "cell_type": "code",
   "execution_count": 59,
   "metadata": {
    "slideshow": {
     "slide_type": "slide"
    }
   },
   "outputs": [
    {
     "ename": "NameError",
     "evalue": "name 'data' is not defined",
     "output_type": "error",
     "traceback": [
      "\u001b[0;31m---------------------------------------------------------------------------\u001b[0m",
      "\u001b[0;31mNameError\u001b[0m                                 Traceback (most recent call last)",
      "\u001b[0;32m<ipython-input-59-46274759534d>\u001b[0m in \u001b[0;36m<module>\u001b[0;34m()\u001b[0m\n\u001b[1;32m      1\u001b[0m \u001b[0;31m## filter tweets with enough retweet_count\u001b[0m\u001b[0;34m\u001b[0m\u001b[0;34m\u001b[0m\u001b[0m\n\u001b[0;32m----> 2\u001b[0;31m \u001b[0mmaybe_interesting\u001b[0m \u001b[0;34m=\u001b[0m \u001b[0mdata\u001b[0m\u001b[0;34m[\u001b[0m\u001b[0mdata\u001b[0m\u001b[0;34m.\u001b[0m\u001b[0mretweet_count\u001b[0m\u001b[0;34m>\u001b[0m\u001b[0;36m20\u001b[0m\u001b[0;34m]\u001b[0m\u001b[0;34m\u001b[0m\u001b[0m\n\u001b[0m\u001b[1;32m      3\u001b[0m \u001b[0;34m\u001b[0m\u001b[0m\n\u001b[1;32m      4\u001b[0m \u001b[0;31m## get the text of these tweets\u001b[0m\u001b[0;34m\u001b[0m\u001b[0;34m\u001b[0m\u001b[0m\n\u001b[1;32m      5\u001b[0m \u001b[0mtweet_text\u001b[0m \u001b[0;34m=\u001b[0m \u001b[0mmaybe_interesting\u001b[0m\u001b[0;34m.\u001b[0m\u001b[0mtext\u001b[0m\u001b[0;34m\u001b[0m\u001b[0m\n",
      "\u001b[0;31mNameError\u001b[0m: name 'data' is not defined"
     ]
    }
   ],
   "source": [
    "## filter tweets with enough retweet_count\n",
    "maybe_interesting = data[data.retweet_count>20]\n",
    "\n",
    "## get the text of these tweets\n",
    "tweet_text = maybe_interesting.text\n",
    "\n",
    "## print them out\n",
    "text = tweet_text.values\n",
    "\n",
    "for t in text:\n",
    "    print ('######')\n",
    "    print (t)"
   ]
  },
  {
   "cell_type": "code",
   "execution_count": 100,
   "metadata": {},
   "outputs": [],
   "source": [
    "import requests"
   ]
  },
  {
   "cell_type": "code",
   "execution_count": 101,
   "metadata": {},
   "outputs": [],
   "source": [
    "response = requests.get('http://sitl.diputados.gob.mx/LXIV_leg/curricula.php?dipt=484')"
   ]
  },
  {
   "cell_type": "code",
   "execution_count": 102,
   "metadata": {},
   "outputs": [
    {
     "data": {
      "text/plain": [
       "200"
      ]
     },
     "execution_count": 102,
     "metadata": {},
     "output_type": "execute_result"
    }
   ],
   "source": [
    "response.status_code"
   ]
  },
  {
   "cell_type": "code",
   "execution_count": 105,
   "metadata": {},
   "outputs": [
    {
     "data": {
      "text/plain": [
       "'b\\'\\\\n\\\\n\\\\n \\\\t\\\\n<!DOCTYPE html PUBLIC \"-//W3C//DTD HTML 4.01 Transitional//EN\" \"http://www.w3.org/TR/html4/loose.dtd\">\\\\n<html>\\\\n<head>\\\\n<meta http-equiv=\"Content-Type\" content=\"text/html; charset=ISO-8859-1\">\\\\n<script src=\"./javascripts/anim_imag.js\" type=\"text/javascript\" language=\"JavaScript\"></script>\\\\n<link rel=\"stylesheet\" type=\"text/css\" href=\"./include/styles_diputados.css\" />\\\\n<link rel=\"stylesheet\" type=\"text/css\" href=\"./include/formatonvo.css\" />\\\\n<title>Curricula LXIV</title>\\\\n<style>\\\\n.fondoimg {\\\\nbackground:url(images/fondo_fot_5.png) no-repeat center fixed;\\\\n-webkit-background-size: cover;\\\\n-moz-background-size: cover;\\\\n-o-background-size: cover;\\\\nbackground-size: cover;\\\\n}\\\\n.fondoimg2 {\\\\nbackground-image: url(images/fondo_fot_7.png);\\\\n  -webkit-background-size: 100% 100%;           /* Safari 3.0 */\\\\n     -moz-background-size: 100% 100%;           /* Gecko 1.9.2 (Firefox 3.6) */\\\\n       -o-background-size: 100% 100%;           /* Opera 9.5 */\\\\n          background-size: 100% 100%;           /* Gecko 2.0 (Firefox 4.0) and other CSS3-compliant browsers */\\\\n  -moz-border-image: url(bg-image.png) 0;    /* Gecko 1.9.1 (Firefox 3.5) */\\\\n\\\\n}\\\\n\\\\n}\\\\n.cajasombra {\\\\n    box-shadow: 5px 5px grey;\\\\n}\\\\n\\\\n.example1 {\\\\n    background-image: url(images/fondo_fot_5.png)\\\\n    background-position: right bottom\\\\n    background-repeat: no-repeat\\\\n    padding: 15px;\\\\n}\\\\n\\\\n\\\\n.fotodip {\\\\n    border: 2px solid #ddd;\\\\n    border-radius: 8px;\\\\n    padding: 5px;\\\\n    width: 100px;\\\\n    box-shadow: 0 0 2px 2px rgba(167, 120, 37, 0.4);\\\\n}\\\\n \\\\n\\\\n\\\\n\\\\n\\\\n.tableInfo {\\\\n\\\\twidth: 90%;\\\\n\\\\talign:center;\\\\n\\\\tborder-collapse: collapse;\\\\n\\\\tborder-spacing: 0;\\\\n\\\\tborder: none;\\\\n\\\\tline-height: 24px;\\\\n\\\\ttext-align: justify;\\\\n}\\\\t\\\\n.tableInfo th {\\\\n\\\\tbackground: #7D8F81;\\\\n\\\\tcolor: #FFF;\\\\n  \\\\tfont-weight: bold;\\\\n  \\\\tpadding: 10px 0;\\\\n  \\\\ttext-transform: uppercase;\\\\n  \\\\ttext-align: center;\\\\n}\\\\n.tableInfo td {\\\\n\\\\tpadding: 10px 0;\\\\n}\\\\n.tableInfo tr td {\\\\n\\\\tbackground: url(../images/iconos_principales/noise-diagonal.png);\\\\t\\\\n}\\\\n.curricula {\\\\n\\\\twidth: 100%;\\\\n\\\\tbackground: rgba(255, 255, 255, 0.75);\\\\n\\\\ttext-align: left;\\\\n\\\\tmargin: 0 auto 10px auto;\\\\n\\\\tpadding: 10px 20px;\\\\n\\\\n}\\\\n\\\\n\\\\n.comision {\\\\n\\\\twidth: 100%;\\\\n\\\\tbackground: rgba(255, 255, 255, 0.75);\\\\n\\\\ttext-align: left;\\\\n\\\\tmargin: 0 auto 10px auto;\\\\n\\\\tpadding: 10px 0px;\\\\n}\\\\n.iniciativas {\\\\n\\\\twidth: 100%;\\\\n\\\\tbackground: rgba(255, 255, 255, 0.75);\\\\n\\\\ttext-align: left;\\\\n\\\\tmargin: 0 auto 10px auto;\\\\n\\\\tpadding: 10px 0px;\\\\n}\\\\n\\\\n.asistencias {\\\\n\\\\twidth: 100%;\\\\n\\\\tbackground: rgba(255, 255, 255, 0.75);\\\\n\\\\ttext-align: left;\\\\n\\\\tmargin: 0 auto 10px auto;\\\\n\\\\tpadding: 10px 0px;\\\\n}\\\\n\\\\n.votaciones {\\\\n\\\\twidth: 100%;\\\\n\\\\tbackground: rgba(255, 255, 255, 0.75);\\\\n\\\\ttext-align: left;\\\\n\\\\tmargin: 0 auto 10px auto;\\\\n\\\\tpadding: 10px 0px;\\\\n}\\\\n\\\\n\\\\n.legislatura {\\\\n\\\\twidth: 95%;\\\\n\\\\t/*background: rgba(255, 255, 255, 0.75);*/\\\\n\\\\ttext-align: left;\\\\n\\\\tmargin: 0 auto 10px auto;\\\\n\\\\tpadding: 10px 0px;\\\\n}\\\\n\\\\n.border_box_claro {\\\\n\\\\tborder: 1px solid #C4C4C4;\\\\n\\\\tbox-shadow: 5px 5px 5px #C4C4C4;\\\\n}\\\\n\\\\n\\\\n.textocurri\\\\n{\\\\n\\\\tfont-size: 9pt;\\\\n\\\\tpadding-left:2%;\\\\n\\\\tFONT-FAMILY: \"Arial Narrow\",arial, verdana;\\\\n}\\\\n\\\\n.textocurrienc\\\\n{\\\\n\\\\tfont-size: 10pt;\\\\n\\\\tpadding-left:2%;\\\\n\\\\tFONT-FAMILY: \"Arial Narrow\",arial, verdana;\\\\n}\\\\n\\\\n</style>\\\\n\\\\n\\\\n\\\\n\\\\n\\\\n</head>\\\\n\\\\n \\\\n \\\\n\\\\n\\\\n\\\\n\\\\n\\\\n\\\\n<body leftmargin=\"0\" topmargin=\"0\">\\\\n\\\\n\\\\n<div class=\"one_block\"><script type=\"text/javascript\" src=\"http://code.jquery.com/jquery-1.10.2.min.js\"></script>\\\\n\\\\n<table align=\"center\" width=\"760\" border=\"0\" cellspacing=\"0\" cellpadding=\"0\">\\\\n<tr>\\\\n\\\\t<td width=\"760\" valign=\"top\"><img src=\"images/encbzd_1.png\" width=\"760\" height=\"115\" border=\"0\"></td>\\\\n</tr>\\\\n\\\\n </table>\\\\n\\\\n<br>\\\\n\\\\n\\\\n\\\\n<table width=\"760\" border=\"0\" align=\"center\" cellpadding=\"0\" cellspacing=\"0\"  class=\"cajasombra\">  \\\\n\\\\n\\\\n<tr>\\\\n<td  >\\\\n\\\\n<table  width=\"760\"  border=\"0\" > \\\\n\\\\n<tr>\\\\n<td width=\"20%\" align=\"center\" valign=\"top\"><img class=\"fotodip\" src=./fotos_lxivconfondo/386_foto_chica.jpg width=\"90\" height=\"130\" /></td>\\\\n<td width=\"2%\">&nbsp;</td>\\\\n<td width=\"64%\" align=\"left\" valign=\"middle\" >\\\\n   <table width=\"500\" height=\"0\" border=\"0\" align=\"center\" cellpadding=\"0\" cellspacing=\"0\" class=\"fondoimg2\" >  \\\\n\\\\n<tbody >\\\\n\\\\n\\\\n<tr >\\\\n<td height=\"23\" colspan=\"2\" class=\"textocurrienc\"><center><strong>Dip. Pedro Daniel Abasolo S\\\\xe1nchez</strong></center></td>\\\\n</tr>\\\\n\\\\n<tr >\\\\n<td width=\"130\" height=\"20\" class=\"textocurri\">Tipo de elecci\\\\xf3n:</td>\\\\n<td width=\"470\" class=\"textocurri\"><strong>Representaci\\\\xf3n proporcional</strong></td>\\\\n</tr>\\\\n\\\\n<tr>\\\\n<td width=\"130\" height=\"20\" class=\"textocurri\">Entidad:</td>\\\\n<td width=\"470\" class=\"textocurri\"><strong>M\\\\xe9xico </strong>\\\\n\\\\n&nbsp;&nbsp;&nbsp;<b>|</b>&nbsp;&nbsp;Circunscripci\\\\xf3n:  &nbsp;\\\\n<strong>5 </strong>\\\\n\\\\n&nbsp;&nbsp;&nbsp;<b>|</b>&nbsp;&nbsp;&nbsp;</font>&nbsp;\\\\n<strong>H-275 </strong>\\\\n\\\\n</td>\\\\n</tr>\\\\n<tr >\\\\n<td width=\"130\" height=\"20\" class=\"textocurri\">Correo electr\\\\xf3nico:</td>\\\\n<td width=\"470\" class=\"textocurri\"><strong>pedro.abasolo@diputados.gob.mx </strong></td>\\\\n</tr>\\\\n\\\\n<tr>\\\\n<td width=\"130\" height=\"20\" class=\"textocurri\">Onom\\\\xe1stico: </td>\\\\n<td width=\"470\" class=\"textocurri\"><strong>3-febrero </strong></td>\\\\n</tr>\\\\n\\\\n<tr>\\\\n\\\\t\\\\t\\\\t\\\\t\\\\t<td width=\"130\" height=\"20\" class=\"textocurri\">Suplente:</td>\\\\n\\\\t\\\\t\\\\t\\\\t\\\\t<td width=\"470\" class=\"textocurri\">Carlos Alejandro Mendoza \\\\xc1lvarez\\\\n\\\\t\\\\t\\\\t\\\\t\\\\t\\\\n\\\\n\\\\n </td>\\\\n\\\\t\\\\t\\\\t\\\\t     \\\\n\\\\n</tr>\\\\n\\\\n</tbody>\\\\n\\\\n</table></td>\\\\n\\\\n\\\\n<td width=\"12%\" valign=\"middle\"><div align=\"center\">\\\\n\\\\n\\\\t\\\\t\\\\t\\\\t\\\\t\\\\t\\\\t\\\\t\\\\t    <img src=\"images/LogoMorena.jpg\" width=\"80\" height=\"80\">\\\\n\\\\t\\\\t\\\\t\\\\t\\\\t\\\\t\\\\t\\\\t\\\\t     \\\\n\\\\n\\\\n\\\\n\\\\n</div>\\\\n&nbsp;\\\\n\\\\n</td>\\\\n</tr>\\\\n\\\\n </table></td>\\\\n</tr> \\\\n</table>  <!--aqui cerraria la tabla principal de la curricula -->\\\\n<br><br>\\\\n\\\\n<table width=\"750\" border=\"0\" align=\"center\"  >\\\\n\\\\n<tr><td ><table align=\"center\" width=\"760\" border=\"0\" cellspacing=\"2\" cellpadding=\"2\"><tr>\\\\n<td>\\\\n<img src=\"images/comi_pertnc.jpg\" width=\"250\" height=\"28\">\\\\n</td></tr>\\\\n<tr>\\\\n\\\\t\\\\t\\\\t\\\\t\\\\n\\\\t\\\\t\\\\t    <td  align=\"left\"  >\\\\n\\\\t\\\\t\\\\t\\\\t\\\\n\\\\t\\\\t\\\\t\\\\t       <span class=\"Estilo67\">ORDINARIA</span> \\\\n\\\\n \\\\n\\\\n\\\\t\\\\t\\\\t\\\\t     \\\\n\\\\n\\\\t\\\\t\\\\t\\\\t\\\\t   \\\\t\\\\t\\\\t            <a href=\"integrantes_de_comisionlxiv.php?comt=32\" target=\"_self\" class=\"linkNegroSin\"> Juventud y Diversidad Sexual (Secretar\\\\xeda) </a>&nbsp; | \\\\n \\\\t\\\\t\\\\t             \\\\n\\\\n\\\\t\\\\t\\\\t\\\\t\\\\t   \\\\t\\\\t\\\\t            <a href=\"integrantes_de_comisionlxiv.php?comt=45\" target=\"_self\" class=\"linkNegroSin\"> Seguridad P\\\\xfablica  </a>&nbsp; | \\\\n \\\\t\\\\t\\\\t             \\\\n\\\\n\\\\t\\\\t\\\\t\\\\t\\\\t   \\\\t\\\\t\\\\t            <a href=\"integrantes_de_comisionlxiv.php?comt=47\" target=\"_self\" class=\"linkNegroSin\"> Trabajo y Previsi\\\\xf3n Social  </a>&nbsp; | \\\\n \\\\t\\\\t\\\\t            \\\\t  </td></tr>\\\\n\\\\n</table>\\\\n\\\\n<!-- <div style=\"width: 95%; margin: 10px auto;\" class=\"border_box_claro\"> -->\\\\n\\\\n<table width=\"760\" border=\"0\" align=\"center\" cellpadding=\"0\" cellspacing=\"0\">\\\\n<tr>\\\\n<td>\\\\n\\\\n<table align=\"center\" class=\"border_box_claro\"> \\\\n\\\\n\\\\t<table class=\"tableInfo\" id=\"test\">\\\\n\\\\t\\\\t<tr>\\\\n\\\\t\\\\t\\\\t<td  align=\"center\" width=\"30%\" class=\"uno\" style=\"border: 1px solid #C4C4c4;\"><a id=\"accordin_show\"><strong>Ficha curricular</strong></a><a id=\"accordin_hide\" style=\"display: none;\"><strong>Ficha curricular</strong></a></td>\\\\n\\\\t\\\\t\\\\t<td align=\"center\" width=\"30%\" class=\"tres\" style=\"border: 1px solid #C4C4c4;\"><a id=\"accordin_show_Ini\"><strong>Iniciativas</strong></a></td>\\\\n\\\\t\\\\t\\\\t<td align=\"center\" width=\"30%\" class=\"dos\" style=\"border: 1px solid #C4C4c4;\"><a id=\"accordin_show_Com\"><strong>Proposiciones</strong></a></td>\\\\n\\\\t\\\\t\\\\t<td align=\"center\" width=\"30%\" class=\"cinco\" style=\"border: 1px solid #C4C4c4;\"><a  href=\\\\\\'asistencias_diputados_xperiodonplxiv.php?dipt=484\\\\\\' target=\"_self\"  id=\"accordin_show_Asis\"><strong>Asistencias</strong></a></td>\\\\n\\\\n\\\\t\\\\t\\\\t<td align=\"center\" width=\"30%\" class=\"seis\" style=\"border: 1px solid #C4C4c4;\"><a  href=\\\\\\'votaciones_diputados_xperiodonplxiv.php?dipt=484\\\\\\' target=\"_self\"  id=\"accordin_show_Votas\"><strong>Votaciones</strong></a></td>\\\\n\\\\n\\\\t\\\\t\\\\t\\\\n\\\\t\\\\t</tr>\\\\n\\\\t</table>\\\\n\\\\t\\\\n\\\\t<div class=\"curricula\" style=\"display: none;\">\\\\n\\\\t\\\\t<table align=\"center\" width=\"760\" border=\"0\" cellspacing=\"2\" cellpadding=\"2\">\\\\n\\\\n\\\\n\\\\t\\\\t\\\\t     \\\\n\\\\t\\\\t\\\\t      \\\\t\\\\t                  <TR><TD bgcolor=\"#FFFFFF\" colspan=5 valign=\"bottom\" align=\"left\" class=\"TitulosVerde\">ESCOLARIDAD</TD></TR>\\\\n\\\\n\\\\t\\\\t\\\\t      \\\\t\\\\t\\\\t      <tr>\\\\n\\\\t\\\\t\\\\t        <td width=\"300\" class=\"textoNegro\">Secundaria</td>\\\\n\\\\t\\\\t\\\\t        <td width=\"300\" class=\"textoNegro\">Operador en Microcomputadoras</td>\\\\n\\\\t\\\\t\\\\t        <td width=\"160\" class=\"textoNegro\">2001-2003</td>\\\\n                              \\\\t\\\\t     </tr>\\\\n \\\\n\\\\t\\\\t\\\\t      \\\\t\\\\t                  <TR><TD bgcolor=\"#FFFFFF\" colspan=5 valign=\"bottom\" align=\"left\" class=\"TitulosVerde\">ADMINISTRACI\\\\xd3N P\\\\xdaBLICA LOCAL</TD></TR>\\\\n\\\\n\\\\t\\\\t\\\\t      \\\\t\\\\t\\\\t      <tr>\\\\n\\\\t\\\\t\\\\t        <td width=\"300\" class=\"textoNegro\">Asesor 18 Regidor</td>\\\\n\\\\t\\\\t\\\\t        <td width=\"300\" class=\"textoNegro\">H. Ayuntamiento de Nezahualc\\\\xf3yotl</td>\\\\n\\\\t\\\\t\\\\t        <td width=\"160\" class=\"textoNegro\">2009-2012</td>\\\\n                              \\\\t\\\\t     </tr>\\\\n \\\\n\\\\t\\\\t\\\\t      \\\\t\\\\t\\\\t      <tr>\\\\n\\\\t\\\\t\\\\t        <td width=\"300\" class=\"textoNegro\">Asesor 18 Regidor</td>\\\\n\\\\t\\\\t\\\\t        <td width=\"300\" class=\"textoNegro\">H. Ayuntamiento de Nezahualc\\\\xf3yotl</td>\\\\n\\\\t\\\\t\\\\t        <td width=\"160\" class=\"textoNegro\">2012-2015</td>\\\\n                              \\\\t\\\\t     </tr>\\\\n\\\\n\\\\n\\\\n\\\\t\\\\t</table>\\\\n\\\\t</div>\\\\n\\\\n\\\\n\\\\n\\\\t<div class=\"comision\" style=\"display: none;\">\\\\n<!-- de sde aqui propos -->\\\\n\\\\n\\\\n\\\\t<table width=\"1250\" border=\"0\" align=\"center\" cellpadding=\"0\" cellspacing=\"0\" valign=\"top\">\\\\n       <tr>\\\\n         <td width=\"300\" align=\"left\" >&nbsp;</TD> \\\\n         <td width=\"600\" align=\"center\" ><span class=\"Estilo61\">PROPOSICIONES  PRESENTADAS POR DIPUTADO <BR>EN LA LXIV LEGISLATURA TURNADAS A COMISI\\\\xd3N </span></TD> \\\\n         <td width=\"350\" align=\"right\" ><span class=\"Estilo1\"><b>SECRETAR\\\\xcdA GENERAL</b> <BR> SECRETAR\\\\xcdA DE SERVICIOS PARLAMENTARIOS <BR> <b><i>Direcci\\\\xf3n General de Apoyo Parlamentario</i></b></span></TD>\\\\n       </tr>\\\\n     </table>  \\\\n<br>\\\\n\\\\n\\\\n\\\\n<table align=\"center\" width=\"775\" border=\"0\" cellspacing=\"2\" cellpadding=\"2\">\\\\n\\\\t\\\\t\\\\t  <tr>\\\\t<td colspan=\"7\" width=\"775\" height=\"10\" valign=\"top\"><img src=\"images/h_line.gif\" width=\"749\" height=\"1\" vspace=\"10\"></td></tr><tr>\\\\t<td class=\"EncabezadoVerde\" colspan=\"7\" valign=\"bottom\" align=\"left\" >Proposiciones presentadas y estatus ante el Pleno</td></tr><tr>\\\\t<td colspan=\"7\" width=\"775\" height=\"10\" valign=\"top\"><img src=\"images/h_line.gif\" width=\"749\" height=\"1\" vspace=\"10\"></td></tr>\\\\t\\\\t\\\\t  <tr>\\\\n\\\\t\\\\t\\\\t    <td width=\"155\" bgcolor=\"#595843\" class=\"Estilo51\" align=\"center\">Tipo de presentaci\\\\xf3n</td>\\\\n\\\\t\\\\t\\\\t    <td width=\"100\" bgcolor=\"#595843\" class=\"Estilo51\" align=\"center\">Total</td>\\\\n\\\\t\\\\t\\\\t    <td width=\"100\" bgcolor=\"#595843\" class=\"Estilo51\" align=\"center\">Aprobadas</td>\\\\n\\\\t\\\\t\\\\t    <td width=\"100\" bgcolor=\"#595843\" class=\"Estilo51\" align=\"center\">Desechadas</td>\\\\n\\\\t\\\\t\\\\t    <td width=\"100\" bgcolor=\"#595843\" class=\"Estilo51\" align=\"center\">Atendidas</td>\\\\n\\\\t\\\\t\\\\t    <td width=\"100\" bgcolor=\"#595843\" class=\"Estilo51\" align=\"center\">Retiradas</td>\\\\n\\\\t\\\\t\\\\t    <td width=\"100\" bgcolor=\"#595843\" class=\"Estilo51\" align=\"center\">Pendientes</td>\\\\n\\\\n\\\\t\\\\t\\\\t  </tr>\\\\n\\\\n\\\\t\\\\t\\\\t\\\\n\\\\n\\\\n\\\\t\\\\t\\\\t  <tr bgcolor=\"#E3DAC1\">\\\\n                            <td width=\"150\" class=\"textoNegro\"  align=\"center\">Proponente</td>\\\\n\\\\t\\\\t\\\\t                            <td width=\"100\" class=\"textoNegro\" bgcolor=\"#CCCCCC\" align=\"center\">1 </td>  \\\\n\\\\n\\\\n\\\\t\\\\t\\\\t    <td width=\"100\" class=\"textoNegro\" align=\"center\"><b>1</b></td>\\\\n\\\\t\\\\t\\\\t    <td width=\"100\" class=\"textoNegro\" align=\"center\">0</td>\\\\n                            <td width=\"100\" class=\"textoNegro\" align=\"center\"><b>0</b> </td>\\\\n\\\\t\\\\t\\\\t    <td width=\"100\" class=\"textoNegro\" align=\"center\">0</td>\\\\n\\\\t\\\\t\\\\t    <td width=\"100\" class=\"textoNegro\" align=\"center\"><b>0</b></td>\\\\n\\\\n\\\\n\\\\n\\\\n\\\\n\\\\n\\\\t\\\\t\\\\t  <tr bgcolor=\"#FFFFFF\">\\\\n                            <td width=\"150\" class=\"textoNegro\"  align=\"center\">Diversos Grupos Parlamentarios</td>\\\\n\\\\t\\\\t\\\\t                            <td width=\"100\" class=\"textoNegro\" bgcolor=\"#CCCCCC\" align=\"center\">1 </td>  \\\\n\\\\n\\\\n\\\\t\\\\t\\\\t    <td width=\"100\" class=\"textoNegro\" align=\"center\"><b>0</b></td>\\\\n\\\\t\\\\t\\\\t    <td width=\"100\" class=\"textoNegro\" align=\"center\">1</td>\\\\n                            <td width=\"100\" class=\"textoNegro\" align=\"center\"><b>0</b> </td>\\\\n\\\\t\\\\t\\\\t    <td width=\"100\" class=\"textoNegro\" align=\"center\">0</td>\\\\n\\\\t\\\\t\\\\t    <td width=\"100\" class=\"textoNegro\" align=\"center\"><b>0</b></td>\\\\n\\\\n\\\\n\\\\n\\\\n\\\\n\\\\n\\\\t\\\\t\\\\t  <tr bgcolor=\"#E3DAC1\">\\\\n                            <td width=\"150\" class=\"textoNegro\"  align=\"center\">De Grupo</td>\\\\n\\\\t\\\\t\\\\t                            <td width=\"100\" class=\"textoNegro\" bgcolor=\"#CCCCCC\" align=\"center\">12 </td>  \\\\n\\\\n\\\\n\\\\t\\\\t\\\\t    <td width=\"100\" class=\"textoNegro\" align=\"center\"><b>3</b></td>\\\\n\\\\t\\\\t\\\\t    <td width=\"100\" class=\"textoNegro\" align=\"center\">7</td>\\\\n                            <td width=\"100\" class=\"textoNegro\" align=\"center\"><b>0</b> </td>\\\\n\\\\t\\\\t\\\\t    <td width=\"100\" class=\"textoNegro\" align=\"center\">1</td>\\\\n\\\\t\\\\t\\\\t    <td width=\"100\" class=\"textoNegro\" align=\"center\"><b>1</b></td>\\\\n\\\\n\\\\n\\\\n\\\\n\\\\n                          </tr> \\\\n\\\\n\\\\n\\\\t\\\\t\\\\t  <tr bgcolor=\"#FFFFFF\">\\\\n                            <td width=\"150\" class=\"textoNegro\" align=\"center\">TOTAL</td>\\\\n                            <td width=\"100\" class=\"textoNegro\" bgcolor=\"#CCCCCC\" align=\"center\">14</td>\\\\n\\\\t\\\\t\\\\t    <td width=\"100\" class=\"textoNegro\" align=\"center\"><b>4</b></td>\\\\n\\\\t\\\\t\\\\t    <td width=\"100\" class=\"textoNegro\" align=\"center\">8</td>\\\\n                            <td width=\"100\" class=\"textoNegro\" align=\"center\"><b>0</b> </td>\\\\n\\\\t\\\\t\\\\t    <td width=\"100\" class=\"textoNegro\" align=\"center\">1</td>\\\\n\\\\t\\\\t\\\\t    <td width=\"100\" class=\"textoNegro\" align=\"center\"><b>1</b></td>\\\\n\\\\n                          </tr>\\\\n<tr>\\\\n<td colspan=7>&nbsp;\\\\n</td>\\\\n</tr>\\\\n\\\\n\\\\t\\\\t\\\\t\\\\n\\\\t\\\\t\\\\t</table>\\\\n\\\\n\\\\n\\\\n\\\\n<table width=\"1250\" border=\"1\" align=\"center\" cellpadding=\"0\" cellspacing=\"0\" valign=\"top\">\\\\n     <tr><td width=\"350\" align=\"center\" bgcolor=\"#E3DAC1\"><span class=\"Estilo61\">PROPOSICI\\\\xd3N</span></TD>\\\\n         <td width=\"100\" align=\"center\" bgcolor=\"#E3DAC1\"><span class=\"Estilo61\">TURNO A COMISI\\\\xd3N</span></TD> \\\\n         <td width=\"350\" align=\"center\" bgcolor=\"#E3DAC1\"><span class=\"Estilo61\">RESOLUTIVOS DEL PROPONENTE</span></TD> \\\\n         <td width=\"350\" align=\"center\" bgcolor=\"#E3DAC1\"><span class=\"Estilo61\">RESOLUTIVOS APROBADOS</span></TD> \\\\n         <td width=\"100\" align=\"center\" bgcolor=\"#E3DAC1\"><span class=\"Estilo61\">TR\\\\xc1MITE</span></TD>\\\\n     </tr><tr>\\\\n\\\\t\\\\t\\\\t \\\\t\\\\t\\\\t    <td width=\"350\" valign=\"top\" class=\"Estilo69\"><span class=\"Estilo71\"><b>1 </b> &nbsp; Por la que se condenan los actos de intromisi\\\\xf3n del Gobierno de Puebla en las elecciones para gobernador y se llama arestablecer el orden democr\\\\xe1tico en la entidad.</span><br><br><br><span class=\"Estilo71\">Diversos Grupos Parlamentarios: <b>Abasolo S\\\\xe1nchez Pedro Daniel (MORENA)</b></span> </td>\\\\n\\\\t\\\\t\\\\t    <td width=\"100\" valign=\"top\" align=\"center\" class=\"Estilo69\"><span class=\"Estilo71\">Fecha de presentaci\\\\xf3n:<b> 4-Septiembre-2018</b><br></span><br>\\\\n\\\\t\\\\t\\\\t    \\\\t\\\\t\\\\t\\\\t &nbsp;\\\\t\\\\t\\\\t\\\\t<b>- Gobernaci\\\\xf3n y Poblaci\\\\xf3n</b><br>\\\\n\\\\t\\\\t\\\\t                    </span></td>\\\\n\\\\t\\\\t\\\\t<td width=\"350\" valign=\"top\" class=\"Estilo69\"><span class=\"Estilo71\">Primero. La C\\\\xe1mara de Diputados del honorable Congreso de laUni\\\\xf3n condena todo los actos de intromisi\\\\xf3n realizados gobierno dePuebla en el proceso electoral local, con la finalidad de coaccionar elvoto o afectar la equidad en la contienda. <br> <br>Segundo. La C\\\\xe1mara de Diputados del honorable Congreso de laUni\\\\xf3n solicita atentamente al Instituto Nacional Electoral que inicie,de oficio, un procedimiento de investigaci\\\\xf3n al gobierno estatal dePuebla, encabezado. por Jos\\\\xe9 Antonio Gali Fayad, por la comisi\\\\xf3n deactos que vulneran de manera grave los principios constitucionales decerteza, legalidad, independencia, imparcialidad, m\\\\xe1xima publicidad yobjetividad en los procesos electorales. <br> <br>Tercero. La C\\\\xe1mara de Diputados del honorable Congreso de laUni\\\\xf3n se pronuncia porque se reestablezca el orden democr\\\\xe1tico en elestado de Puebla y las autoridades electorales competentes reparen lavulneraci\\\\xf3n a la voluntad ciudadana en la elecci\\\\xf3n de gobernadorrealizada el pasado 1 de julio. <br> <br>Cuarto. La C\\\\xe1mara de Diputados del honorable Congreso de laUni\\\\xf3n hace un en\\\\xe9rgico llamado al Instituto Estatal Electoral de Pueblay Tribunal Electoral del Estado de Puebla para que se abstengan deemitir actos y resoluciones que contravengan los principios rectores enmateria electoral de independencia, imparcialidad, objetividad,legalidad, certeza y m\\\\xe1xima publicidad que mandata la Constituci\\\\xf3nPol\\\\xedtica de los Estados Unidos Mexicanos para toda autoridad en lamateria.</span></td>\\\\n\\\\t\\\\t        <td width=\"350\" valign=\"top\" class=\"Estilo69\"><span class=\"Estilo71\">.</span></td>\\\\n\\\\t\\\\t        <td width=\"100\" valign=\"top\" align=\"center\" class=\"Estilo69\"><span class=\"Estilo71\"><b>Desechada (art. 184, num 2)</b> \\\\n\\\\n\\\\n\\\\t\\\\t\\\\t  \\\\t\\\\t\\\\t    <br> <b> con fecha </b> 28-Enero-2019\\\\t\\\\t\\\\t  \\\\n\\\\n\\\\n\\\\n </span><br><br><br><span class=\"Estilo71\">Publicaci\\\\xf3n en Gaceta:<a href=\\\\\\'http://gaceta.diputados.gob.mx/Gaceta/64/2018/sep/20180904-V.html#Proposicion1 \\\\\\' target=\"_blank\" class=\"linkTitulo\"> <b>4-Septiembre-2018</b></a></span></td>\\\\n\\\\t\\\\t         </tr>\\\\n\\\\t\\\\t\\\\t    <td width=\"350\" valign=\"top\" class=\"Estilo69\"><span class=\"Estilo71\"><b>2 </b> &nbsp; Por el cual se exhorta al gobernador de Veracruz a abstenerse en estricto cumplimiento de sus obligaciones constitucionales y legales de enajenar bienes muebles que represente un da\\\\xf1o a la hacienda p\\\\xfablica local o un acto de sabotaje de las capacidades operativas de la pr\\\\xf3xima administraci\\\\xf3n,</span><br><br><br><span class=\"Estilo71\">De Grupo: <b>Abasolo S\\\\xe1nchez Pedro Daniel (MORENA)</b></span> </td>\\\\n\\\\t\\\\t\\\\t    <td width=\"100\" valign=\"top\" align=\"center\" class=\"Estilo69\"><span class=\"Estilo71\">Fecha de presentaci\\\\xf3n:<b> 20-Septiembre-2018</b><br></span><br>\\\\n\\\\t\\\\t\\\\t    \\\\t\\\\t\\\\t\\\\t &nbsp;\\\\t\\\\t\\\\t\\\\t<b>- Urgente Resoluci\\\\xf3n</b><br>\\\\n\\\\t\\\\t\\\\t                    </span></td>\\\\n\\\\t\\\\t\\\\t<td width=\"350\" valign=\"top\" class=\"Estilo69\"><span class=\"Estilo71\">\\\\xdanico. La C\\\\xe1mara de Diputados del Congreso de la Uni\\\\xf3n exhorta al gobernador de Veracruz, Miguel \\\\xc1ngel Yunes Linares, para que, en estricto cumplimiento de sus obligaciones constitucionales y legales, se abstenga de realizar enajenaci\\\\xf3n alguna de bienes muebles e inmuebles que represente un da\\\\xf1o a la hacienda p\\\\xfablica del estado de Veracruz de Ignacio de la Llave o un acto de sabotaje a la capacidad operativa del pr\\\\xf3ximo gobierno.</span></td>\\\\n\\\\t\\\\t        <td width=\"350\" valign=\"top\" class=\"Estilo69\"><span class=\"Estilo71\">\\\\xdanico. La C\\\\xe1mara de Diputados del Congreso de la Uni\\\\xf3n exhorta al gobernador de Veracruz, Miguel \\\\xc1ngel Yunes Linares, para que, en estricto cumplimiento de sus obligaciones constitucionales y legales, se abstenga de realizar enajenaci\\\\xf3n alguna de bienes muebles e inmuebles que represente un da\\\\xf1o a la hacienda p\\\\xfablica del estado de Veracruz de Ignacio de la Llave o un acto de sabotaje a la capacidad operativa del pr\\\\xf3ximo gobierno.</span></td>\\\\n\\\\t\\\\t        <td width=\"100\" valign=\"top\" align=\"center\" class=\"Estilo69\"><span class=\"Estilo71\"><b>Aprobada</b> \\\\n\\\\n\\\\n\\\\t\\\\t\\\\t  \\\\t\\\\t\\\\t    <br> <b> con fecha </b> 20-Septiembre-2018\\\\t\\\\t\\\\t  \\\\n\\\\n\\\\n\\\\n </span><br><br><br><span class=\"Estilo71\">Publicaci\\\\xf3n en Gaceta:<a href=\\\\\\'http://gaceta.diputados.gob.mx/Gaceta/64/2018/sep/20180920-II.html#ProposicionUOR1 \\\\\\' target=\"_blank\" class=\"linkTitulo\"> <b>20-Septiembre-2018</b></a></span></td>\\\\n\\\\t\\\\t         </tr>\\\\n\\\\t\\\\t\\\\t    <td width=\"350\" valign=\"top\" class=\"Estilo69\"><span class=\"Estilo71\"><b>3 </b> &nbsp; Relativo a la restituci\\\\xf3n del fondo de ahorro de ex braceros</span><br><br><br><span class=\"Estilo71\">De Grupo: <b>Abasolo S\\\\xe1nchez Pedro Daniel (MORENA)</b></span> </td>\\\\n\\\\t\\\\t\\\\t    <td width=\"100\" valign=\"top\" align=\"center\" class=\"Estilo69\"><span class=\"Estilo71\">Fecha de presentaci\\\\xf3n:<b> 18-Octubre-2018</b><br></span><br>\\\\n\\\\t\\\\t\\\\t    \\\\t\\\\t\\\\t\\\\t &nbsp;\\\\t\\\\t\\\\t\\\\t<b>- Gobernaci\\\\xf3n y Poblaci\\\\xf3n</b><br>\\\\n\\\\t\\\\t\\\\t                    </span></td>\\\\n\\\\t\\\\t\\\\t<td width=\"350\" valign=\"top\" class=\"Estilo69\"><span class=\"Estilo71\">Primero. Se exhorta respetuosamente a la Secretaria de Gobernaci\\\\xf3n y a la Secretar\\\\xeda de Relaciones Exteriores para que a trav\\\\xe9s de la colaboraci\\\\xf3n entre dependencias; diputados y senadores integrantes de la LXIV legislatura y representantes de organizaciones de ex braceros, se realice la instalaci\\\\xf3n de una mesa de an\\\\xe1lisis para la elaboraci\\\\xf3n de un balance, cuyo prop\\\\xf3sito sea alcanzar acuerdos y una soluci\\\\xf3n justa y definitiva para la restituci\\\\xf3n de los fondos de ahorro de este sector social. <br> <br>Segundo. Esta soberan\\\\xeda exhorta a la Secretar\\\\xeda de Gobernaci\\\\xf3n a que realice un censo y elabore la base de datos respectiva con todos los datos y nombres de los ex braceros y beneficiarios de \\\\xe9stos, a efecto de determinar qu\\\\xe9 personas tienen derecho al pago del fondo de ahorro, creado con el Programa Bracero, entre 1942 y 1964. <br> <br>Tercero. Esta soberan\\\\xeda exhorta a la Secretar\\\\xeda de Relaciones Exteriores a que realice una investigaci\\\\xf3n exhaustiva con el gobierno de los Estados Unidos de Am\\\\xe9rica, a efecto de determinar los nombres, cuentas, y cantidades que ahorr\\\\xf3 cada uno de los migrantes mexicanos llamados \\\\xbfbraceros\\\\xbf, entre 1942 y 1964, debiendo rendir cuentas exactas y transparentes respecto del destino de sus ahorros con la colaboraci\\\\xf3n de los bancos norteamericanos. <br> <br>Cuarto. Hacemos un respetuoso exhorto a la Suprema Corte de Justicia de la Naci\\\\xf3n para que emita la resoluci\\\\xf3n del expediente de amparo en revisi\\\\xf3n 1152/2016, respetando los derechos humanos y de las garant\\\\xedas previstas en los art\\\\xedculos 1o., 5o., 8o., 14 y 16 de nuestra Carta Magna, as\\\\xed como de las disposiciones previstas en la Convenci\\\\xf3n internacional sobre la protecci\\\\xf3n de los derechos de todos los trabajadores migratorios y de sus familiares, de la que M\\\\xe9xico es parte. <br> <br>Quinto. Se solicita la remisi\\\\xf3n del presente exhorto y de las determinaciones que se tomen sobre la conformaci\\\\xf3n de la mesa de an\\\\xe1lisis, al licenciado Andr\\\\xe9s Manuel L\\\\xf3pez Obrador, presidente electo de M\\\\xe9xico, inform\\\\xe1ndole sobre la solicitud de audiencia que tenga a bien conceder a una representaci\\\\xf3n de las organizaciones de ex braceros, de ser posible antes del primero de diciembre pr\\\\xf3ximo.</span></td>\\\\n\\\\t\\\\t        <td width=\"350\" valign=\"top\" class=\"Estilo69\"><span class=\"Estilo71\">.</span></td>\\\\n\\\\t\\\\t        <td width=\"100\" valign=\"top\" align=\"center\" class=\"Estilo69\"><span class=\"Estilo71\"><b>Desechada (art. 184, num 2)</b> \\\\n\\\\n\\\\n\\\\t\\\\t\\\\t  \\\\t\\\\t\\\\t    <br> <b> con fecha </b> 28-Enero-2019\\\\t\\\\t\\\\t  \\\\n\\\\n\\\\n\\\\n </span><br><br><br><span class=\"Estilo71\">Publicaci\\\\xf3n en Gaceta:<a href=\\\\\\'http://gaceta.diputados.gob.mx/Gaceta/64/2018/sep/20180904-V.html#Proposicion10 \\\\\\' target=\"_blank\" class=\"linkTitulo\"> <b>4-Septiembre-2018</b></a></span></td>\\\\n\\\\t\\\\t         </tr>\\\\n\\\\t\\\\t\\\\t    <td width=\"350\" valign=\"top\" class=\"Estilo69\"><span class=\"Estilo71\"><b>4 </b> &nbsp; Punto de acuerdo, por el que se solicita la creaci\\\\xf3n de la Comisi\\\\xf3n Especial de Seguimiento a las Investigaciones relacionadas con los hechos ocurridos en Iguala, Guerrero, a alumnos de la Escuela Normal Rural de Ayotzinapa Ra\\\\xfal Isidro Burgos.</span><br><br><br><span class=\"Estilo71\">De Grupo: <b>Abasolo S\\\\xe1nchez Pedro Daniel (MORENA)</b></span> </td>\\\\n\\\\t\\\\t\\\\t    <td width=\"100\" valign=\"top\" align=\"center\" class=\"Estilo69\"><span class=\"Estilo71\">Fecha de presentaci\\\\xf3n:<b> 23-Octubre-2018</b><br></span><br>\\\\n\\\\t\\\\t\\\\t    \\\\t\\\\t\\\\t\\\\t &nbsp;\\\\t\\\\t\\\\t\\\\t<b>- Junta de Coordinaci\\\\xf3n Pol\\\\xedtica</b><br>\\\\n\\\\t\\\\t\\\\t                    </span></td>\\\\n\\\\t\\\\t\\\\t<td width=\"350\" valign=\"top\" class=\"Estilo69\"><span class=\"Estilo71\">\\\\xdanico. Se solicita, en t\\\\xe9rminos del art\\\\xedculo 42 de la Ley Org\\\\xe1nica del Congreso General de los Estados Unidos Mexicanos, la creaci\\\\xf3n de la Comisi\\\\xf3n Especial de Seguimiento a las Investigaciones relacionadas por los hechos ocurridos en Iguala, Guerrero, a alumnos de la escuela normal rural de Ayotzinapa Ra\\\\xfal Isidro Burgos, para la presente legislatura.</span></td>\\\\n\\\\t\\\\t        <td width=\"350\" valign=\"top\" class=\"Estilo69\"><span class=\"Estilo71\">.</span></td>\\\\n\\\\t\\\\t        <td width=\"100\" valign=\"top\" align=\"center\" class=\"Estilo69\"><span class=\"Estilo71\"><b>Pendiente</b> \\\\n\\\\n\\\\n\\\\t\\\\t\\\\t  \\\\n\\\\n\\\\n\\\\n </span><br><br><br><span class=\"Estilo71\">Publicaci\\\\xf3n en Gaceta:<a href=\\\\\\'http://gaceta.diputados.gob.mx/Gaceta/64/2018/sep/20180918-IV.html#Proposicion1 \\\\\\' target=\"_blank\" class=\"linkTitulo\"> <b>23-Octubre-2018</b></a></span></td>\\\\n\\\\t\\\\t         </tr>\\\\n\\\\t\\\\t\\\\t    <td width=\"350\" valign=\"top\" class=\"Estilo69\"><span class=\"Estilo71\"><b>5 </b> &nbsp; Relativo a conocer y discutir otras soluciones t\\\\xe9cnicas viables propuestas por la comunidad respecto al proyecto de la presa El Zapotillo, en los estados de Jalisco y Guanajuato</span><br><br><br><span class=\"Estilo71\">De Grupo: <b>Abasolo S\\\\xe1nchez Pedro Daniel (MORENA)</b></span> </td>\\\\n\\\\t\\\\t\\\\t    <td width=\"100\" valign=\"top\" align=\"center\" class=\"Estilo69\"><span class=\"Estilo71\">Fecha de presentaci\\\\xf3n:<b> 23-Octubre-2018</b><br></span><br>\\\\n\\\\t\\\\t\\\\t    \\\\t\\\\t\\\\t\\\\t &nbsp;\\\\t\\\\t\\\\t\\\\t<b>- Recursos Hidr\\\\xe1ulicos, Agua Potable y Saneamiento</b><br>\\\\n\\\\t\\\\t\\\\t                    </span></td>\\\\n\\\\t\\\\t\\\\t<td width=\"350\" valign=\"top\" class=\"Estilo69\"><span class=\"Estilo71\">\\\\xdanico. La C\\\\xe1mara de Diputados del honorable Congreso de la Uni\\\\xf3n exhorta al Ejecutivo federal, por medio de la Comisi\\\\xf3n Nacional del Agua, y a los gobiernos de los estados de Jalisco y Guanajuato a establecer mesas de di\\\\xe1logo con especialistas del sector acad\\\\xe9mico, representantes de las comunidades de Temacapul\\\\xedn, Acasico y Palmarejo del municipio de Ca\\\\xf1adas de Obreg\\\\xf3n, Jalisco, y con los equipos de transici\\\\xf3n del gobierno federal y del estado de Jalisco para conocer y discutir otras soluciones t\\\\xe9cnicas viables que la comunidad propone con respecto al proyecto de la presa El Zapotillo.</span></td>\\\\n\\\\t\\\\t        <td width=\"350\" valign=\"top\" class=\"Estilo69\"><span class=\"Estilo71\">\\\\xdaNICO. La C\\\\xe1mara de Diputados exhorta a la Comisi\\\\xf3n Nacional del Agua (CONAGUA) para que junto con los Gobiernos de los estados de Jalisco y Guanajuato establezcan Soluciones T\\\\xe9cnicas y Viables respecto al Proyecto de la presa El Zapotillo, oyendo en todo momento a las comunidades aleda\\\\xf1as a dicha presa.</span></td>\\\\n\\\\t\\\\t        <td width=\"100\" valign=\"top\" align=\"center\" class=\"Estilo69\"><span class=\"Estilo71\"><b>Aprobada</b> \\\\n\\\\n\\\\n\\\\t\\\\t\\\\t  \\\\t\\\\t\\\\t    <br> <b> con fecha </b> 14-Febrero-2019\\\\t\\\\t\\\\t  \\\\n\\\\n\\\\n\\\\n </span><br><br><br><span class=\"Estilo71\">Publicaci\\\\xf3n en Gaceta:<a href=\\\\\\'http://gaceta.diputados.gob.mx/Gaceta/64/2018/oct/20181023-III.html#Proposicion18 \\\\\\' target=\"_blank\" class=\"linkTitulo\"> <b>23-Octubre-2018</b></a></span></td>\\\\n\\\\t\\\\t         </tr>\\\\n\\\\t\\\\t\\\\t    <td width=\"350\" valign=\"top\" class=\"Estilo69\"><span class=\"Estilo71\"><b>6 </b> &nbsp;  que exhorta al gobierno federal, para que, en el marco de la celebraci\\\\xf3n de la Conferencia de las Partes del Convenio Marco para el Control del Tabaco de la Organizaci\\\\xf3n Mundial de la Salud en Ginebra, Suiza, del 1 al 6 de octubre del presente, incluya en el posicionamiento de M\\\\xe9xico, el avance espec\\\\xedfico en las disposiciones de control de la oferta respecto a dicho convenio, particularmente las acciones emprendidas en defensa de los productores nacionales de tabaco</span><br><br><br><span class=\"Estilo71\">De Grupo: <b>Abasolo S\\\\xe1nchez Pedro Daniel (MORENA)</b></span> </td>\\\\n\\\\t\\\\t\\\\t    <td width=\"100\" valign=\"top\" align=\"center\" class=\"Estilo69\"><span class=\"Estilo71\">Fecha de presentaci\\\\xf3n:<b> 23-Octubre-2018</b><br></span><br>\\\\n\\\\t\\\\t\\\\t    \\\\t\\\\t\\\\t\\\\t &nbsp;\\\\t\\\\t\\\\t\\\\t<b>- Desarrollo y Conservaci\\\\xf3n Rural, Agr\\\\xedcola y Autosuficiencia Alimentaria </b><br>\\\\n\\\\t\\\\t\\\\t                    </span></td>\\\\n\\\\t\\\\t\\\\t<td width=\"350\" valign=\"top\" class=\"Estilo69\"><span class=\"Estilo71\">\\\\xdanico. La honorable C\\\\xe1mara de Diputados exhorta respetuosamente al titular del gobierno federal para que, en el \\\\xe1mbito de sus competencias, y en el marco de la celebraci\\\\xf3n de la Conferencia de las Partes del Convenio Marco para el Control del Tabaco de la Organizaci\\\\xf3n Mundial de la Salud en Ginebra, Suiza, del 1 al 6 de octubre del presente, incluya en el posicionamiento de M\\\\xe9xico el avance espec\\\\xedfico en las disposiciones de control de la oferta respecto a dicho convenio, particularmente las acciones emprendidas en defensa de los productores nacionales de tabaco, as\\\\xed como las medidas realizadas para cumplir con el art\\\\xedculo 17 relativas al apoyo a actividades alternativas econ\\\\xf3micamente viables.</span></td>\\\\n\\\\t\\\\t        <td width=\"350\" valign=\"top\" class=\"Estilo69\"><span class=\"Estilo71\">.</span></td>\\\\n\\\\t\\\\t        <td width=\"100\" valign=\"top\" align=\"center\" class=\"Estilo69\"><span class=\"Estilo71\"><b>Desechada (art. 184, num 2)</b> \\\\n\\\\n\\\\n\\\\t\\\\t\\\\t  \\\\t\\\\t\\\\t    <br> <b> con fecha </b> 28-Enero-2019\\\\t\\\\t\\\\t  \\\\n\\\\n\\\\n\\\\n </span><br><br><br><span class=\"Estilo71\">Publicaci\\\\xf3n en Gaceta:<a href=\\\\\\'http://gaceta.diputados.gob.mx/Gaceta/64/2018/oct/20181004-II.html#Proposicion2 \\\\\\' target=\"_blank\" class=\"linkTitulo\"> <b>23-Octubre-2018</b></a></span></td>\\\\n\\\\t\\\\t         </tr>\\\\n\\\\t\\\\t\\\\t    <td width=\"350\" valign=\"top\" class=\"Estilo69\"><span class=\"Estilo71\"><b>7 </b> &nbsp; Por el que se exhorta al Infonavit, a que suspenda los desalojos de viviendas, la venta de cartera vencida, vivienda adjudicada, la cobranza extrajudicial y haga p\\\\xfablico el procedimiento de cancelaci\\\\xf3n de contrato a favor de la empresa Telra Reality, empresa contratada para el control del programa CAMBIAVIT</span><br><br><br><span class=\"Estilo71\">De Grupo: <b>Abasolo S\\\\xe1nchez Pedro Daniel (MORENA)</b></span> </td>\\\\n\\\\t\\\\t\\\\t    <td width=\"100\" valign=\"top\" align=\"center\" class=\"Estilo69\"><span class=\"Estilo71\">Fecha de presentaci\\\\xf3n:<b> 23-Octubre-2018</b><br></span><br>\\\\n\\\\t\\\\t\\\\t    \\\\t\\\\t\\\\t\\\\t &nbsp;\\\\t\\\\t\\\\t\\\\t<b>- Vivienda</b><br>\\\\n\\\\t\\\\t\\\\t                    </span></td>\\\\n\\\\t\\\\t\\\\t<td width=\"350\" valign=\"top\" class=\"Estilo69\"><span class=\"Estilo71\">Primero. La C\\\\xe1mara de Diputados del Congreso de la Uni\\\\xf3n, en estricto respeto al principio federalista de divisi\\\\xf3n de poderes, extiende un respetuoso exhorto al ciudadano director general del Instituto del Fondo Nacional de la Vivienda para los Trabajadores, a efecto de que, en cumplimiento a su mandato legal, suspenda los desalojos de vivienda en todo el territorio nacional, hasta en tanto no se revise la pol\\\\xedtica p\\\\xfablica en materia de vivienda. <br> <br>Segundo . Suspenda la venta de cartera vencida y vivienda adjudicada a favor de particulares, analizando la prioridad que se tiene de respetar el derecho al acceso a la vivienda a favor de los derechohabientes. <br> <br>Tercero. Suspenda la cobranza extrajudicial por parte del Instituto, realizada por empresas subcontratadas, salvaguardo en todo momento el respeto a la dignidad de las personas, y en un marco estrictamente apegado a derecho. <br> <br>Cuarto . Haga p\\\\xfablico el procedimiento que llev\\\\xf3 a cabo para el pago de 5 mil 88 millones de pesos por la cancelaci\\\\xf3n del contrato a la empresa Telra Reality, empresa contratada para el control del programa Cambiavit, y que justifique el motivo de dicho pago, as\\\\xed como el impacto que tuvo este pago en los recursos de la subcuenta de vivienda propiedad de los trabajadores.</span></td>\\\\n\\\\t\\\\t        <td width=\"350\" valign=\"top\" class=\"Estilo69\"><span class=\"Estilo71\">.</span></td>\\\\n\\\\t\\\\t        <td width=\"100\" valign=\"top\" align=\"center\" class=\"Estilo69\"><span class=\"Estilo71\"><b>Desechada (art. 184, num 2)</b> \\\\n\\\\n\\\\n\\\\t\\\\t\\\\t  \\\\t\\\\t\\\\t    <br> <b> con fecha </b> 28-Enero-2019\\\\t\\\\t\\\\t  \\\\n\\\\n\\\\n\\\\n </span><br><br><br><span class=\"Estilo71\">Publicaci\\\\xf3n en Gaceta:<a href=\\\\\\'http://gaceta.diputados.gob.mx/Gaceta/64/2018/oct/20181004-II.html#Proposicion23 \\\\\\' target=\"_blank\" class=\"linkTitulo\"> <b>23-Octubre-2018</b></a></span></td>\\\\n\\\\t\\\\t         </tr>\\\\n\\\\t\\\\t\\\\t    <td width=\"350\" valign=\"top\" class=\"Estilo69\"><span class=\"Estilo71\"><b>8 </b> &nbsp; Relativo a la problem\\\\xe1tica que enfrentan las Sociedades Cooperativas de Ahorro y Pr\\\\xe9stamo</span><br><br><br><span class=\"Estilo71\">De Grupo: <b>Abasolo S\\\\xe1nchez Pedro Daniel (MORENA)</b></span> </td>\\\\n\\\\t\\\\t\\\\t    <td width=\"100\" valign=\"top\" align=\"center\" class=\"Estilo69\"><span class=\"Estilo71\">Fecha de presentaci\\\\xf3n:<b> 23-Octubre-2018</b><br></span><br>\\\\n\\\\t\\\\t\\\\t    \\\\t\\\\t\\\\t\\\\t &nbsp;\\\\t\\\\t\\\\t\\\\t<b>- Econom\\\\xeda Social y Fomento del Cooperativismo</b><br>\\\\n\\\\t\\\\t\\\\t                    </span></td>\\\\n\\\\t\\\\t\\\\t<td width=\"350\" valign=\"top\" class=\"Estilo69\"><span class=\"Estilo71\">\\\\xdanico. La C\\\\xe1mara de Diputados del honorable Congreso de la Uni\\\\xf3n, cita a una reuni\\\\xf3n de trabajo ante la Comisi\\\\xf3n de Econom\\\\xeda Social y Fomento del Cooperativismo, al titular de la Comisi\\\\xf3n Nacional Bancaria y de Valores, a efecto de analizar la problem\\\\xe1tica que enfrentan las Sociedades Cooperativas de Ahorro y Pr\\\\xe9stamo, y en su caso, se revisen los procedimientos que han impuesto cargas excesivas u observaciones que ponen en riesgo la subsistencia o el funcionamiento de las Sociedades de Ahorro y Cr\\\\xe9dito a las que se hace referencia en la exposici\\\\xf3n de motivos que dio origen al presente acuerdo.</span></td>\\\\n\\\\t\\\\t        <td width=\"350\" valign=\"top\" class=\"Estilo69\"><span class=\"Estilo71\">.</span></td>\\\\n\\\\t\\\\t        <td width=\"100\" valign=\"top\" align=\"center\" class=\"Estilo69\"><span class=\"Estilo71\"><b>Desechada (art. 184, num 2)</b> \\\\n\\\\n\\\\n\\\\t\\\\t\\\\t  \\\\t\\\\t\\\\t    <br> <b> con fecha </b> 28-Enero-2019\\\\t\\\\t\\\\t  \\\\n\\\\n\\\\n\\\\n </span><br><br><br><span class=\"Estilo71\">Publicaci\\\\xf3n en Gaceta:<a href=\\\\\\'http://gaceta.diputados.gob.mx/Gaceta/64/2018/oct/20181018-IV.html#Proposicion30 \\\\\\' target=\"_blank\" class=\"linkTitulo\"> <b>23-Octubre-2018</b></a></span></td>\\\\n\\\\t\\\\t         </tr>\\\\n\\\\t\\\\t\\\\t    <td width=\"350\" valign=\"top\" class=\"Estilo69\"><span class=\"Estilo71\"><b>9 </b> &nbsp; por el que se aprueba la realizaci\\\\xf3n de la Convenci\\\\xf3n Nacional Hacendaria el nueve de noviembre de 2018</span><br><br><br><span class=\"Estilo71\">De Grupo: <b>Abasolo S\\\\xe1nchez Pedro Daniel (MORENA)</b></span> </td>\\\\n\\\\t\\\\t\\\\t    <td width=\"100\" valign=\"top\" align=\"center\" class=\"Estilo69\"><span class=\"Estilo71\">Fecha de presentaci\\\\xf3n:<b> 23-Octubre-2018</b><br></span><br>\\\\n\\\\t\\\\t\\\\t    \\\\t\\\\t\\\\t\\\\t &nbsp;\\\\t\\\\t\\\\t\\\\t<b>- Hacienda y Cr\\\\xe9dito P\\\\xfablico</b><br>\\\\n\\\\t\\\\t\\\\t                    </span></td>\\\\n\\\\t\\\\t\\\\t<td width=\"350\" valign=\"top\" class=\"Estilo69\"><span class=\"Estilo71\">\\\\xdanico. El pleno de la C\\\\xe1mara de Diputados del Congreso de la Uni\\\\xf3n aprueba la realizaci\\\\xf3n de la Convenci\\\\xf3n Nacional Hacendaria en los t\\\\xe9rminos rese\\\\xf1ados en la exposici\\\\xf3n de motivos de este punto de acuerdo e instruye a las instancias correspondientes a ofrecer las facilidades necesarias para su realizaci\\\\xf3n.</span></td>\\\\n\\\\t\\\\t        <td width=\"350\" valign=\"top\" class=\"Estilo69\"><span class=\"Estilo71\">.</span></td>\\\\n\\\\t\\\\t        <td width=\"100\" valign=\"top\" align=\"center\" class=\"Estilo69\"><span class=\"Estilo71\"><b>Desechada (art. 184, num 2)</b> \\\\n\\\\n\\\\n\\\\t\\\\t\\\\t  \\\\t\\\\t\\\\t    <br> <b> con fecha </b> 28-Enero-2019\\\\t\\\\t\\\\t  \\\\n\\\\n\\\\n\\\\n </span><br><br><br><span class=\"Estilo71\">Publicaci\\\\xf3n en Gaceta:<a href=\\\\\\'http://gaceta.diputados.gob.mx/Gaceta/64/2018/sep/20180925-III.html#Proposicion30 \\\\\\' target=\"_blank\" class=\"linkTitulo\"> <b>23-Octubre-2018</b></a></span></td>\\\\n\\\\t\\\\t         </tr>\\\\n\\\\t\\\\t\\\\t    <td width=\"350\" valign=\"top\" class=\"Estilo69\"><span class=\"Estilo71\"><b>10 </b> &nbsp; Relativo a los fondos que se necesitar\\\\xe1n para la reconstrucci\\\\xf3n de los hogares de los damnificados resultantes de la depresi\\\\xf3n Tropical 19-E</span><br><br><br><span class=\"Estilo71\">De Grupo: <b>Abasolo S\\\\xe1nchez Pedro Daniel (MORENA)</b></span> </td>\\\\n\\\\t\\\\t\\\\t    <td width=\"100\" valign=\"top\" align=\"center\" class=\"Estilo69\"><span class=\"Estilo71\">Fecha de presentaci\\\\xf3n:<b> 23-Octubre-2018</b><br></span><br>\\\\n\\\\t\\\\t\\\\t    \\\\t\\\\t\\\\t\\\\t &nbsp;\\\\t\\\\t\\\\t\\\\t<b>- Gobernaci\\\\xf3n y Poblaci\\\\xf3n</b><br>\\\\n\\\\t\\\\t\\\\t                    </span></td>\\\\n\\\\t\\\\t\\\\t<td width=\"350\" valign=\"top\" class=\"Estilo69\"><span class=\"Estilo71\">Primero. Que la C\\\\xe1mara de Diputados del Congreso de la Uni\\\\xf3n exhorte respetuosamente a la Secretar\\\\xeda de Hacienda y Cr\\\\xe9dito P\\\\xfablico para que agilice los dict\\\\xe1menes t\\\\xe9cnicos para determinar la cantidad de recursos econ\\\\xf3micos que se deber\\\\xe1 asignar para la reconstrucci\\\\xf3n a las familias de los 11 municipios de Sinaloa, Ahome, El Fuerte, Choix, Guasave, Sinaloa, Angostura, Salvador Alvarado, Mocorito, Badiraguato, Navolato y Culiac\\\\xe1n, afectados por el desastre natural de la depresi\\\\xf3n Tropical 19-E. <br> <br>Segundo. Que la C\\\\xe1mara de Diputados del Congreso de la Uni\\\\xf3n exhorte respetuosamente a la Secretar\\\\xeda de Gobernaci\\\\xf3n, de la cual depende el Sistema Nacional de Protecci\\\\xf3n Civil y cuyo instrumento financiero para subsanar desastres es el Fonden, que transparente el padr\\\\xf3n de damnificados, montos asignados y la forma en que se asignar\\\\xe1 los recursos econ\\\\xf3micos para la reconstrucci\\\\xf3n de los hogares y patrimonio de las familias de los 11 municipios de Sinaloa, Ahome, El Fuerte, Choix, Guasave, Sinaloa, Angostura, Salvador Alvarado, Mocorito, Badiraguato, Navolato y Culiac\\\\xe1n, afectados por el desastre natural de la depresi\\\\xf3n tropical 19-E, mediante publicaciones en los medios de comunicaci\\\\xf3n.</span></td>\\\\n\\\\t\\\\t        <td width=\"350\" valign=\"top\" class=\"Estilo69\"><span class=\"Estilo71\">.</span></td>\\\\n\\\\t\\\\t        <td width=\"100\" valign=\"top\" align=\"center\" class=\"Estilo69\"><span class=\"Estilo71\"><b>Desechada (art. 184, num 2)</b> \\\\n\\\\n\\\\n\\\\t\\\\t\\\\t  \\\\t\\\\t\\\\t    <br> <b> con fecha </b> 28-Enero-2019\\\\t\\\\t\\\\t  \\\\n\\\\n\\\\n\\\\n </span><br><br><br><span class=\"Estilo71\">Publicaci\\\\xf3n en Gaceta:<a href=\\\\\\'http://gaceta.diputados.gob.mx/Gaceta/64/2018/oct/20181009-III.html#Proposicion26 \\\\\\' target=\"_blank\" class=\"linkTitulo\"> <b>23-Octubre-2018</b></a></span></td>\\\\n\\\\t\\\\t         </tr>\\\\n\\\\t\\\\t\\\\t    <td width=\"350\" valign=\"top\" class=\"Estilo69\"><span class=\"Estilo71\"><b>11 </b> &nbsp; Por el que se exhorta al Congreso de Jalisco, a abrogar el Decreto N\\\\xfamero 27228/LXII/19, publicado el pasado 31 de enero 2019, por medio del cual se modifica el art\\\\xedculo 25 de la Ley Org\\\\xe1nica del Poder Ejecutivo, que abroga la Ley del Instituto Jalisciense de las Mujeres y lo extingue</span><br><br><br><span class=\"Estilo71\">De Grupo: <b>Abasolo S\\\\xe1nchez Pedro Daniel (MORENA)</b></span> </td>\\\\n\\\\t\\\\t\\\\t    <td width=\"100\" valign=\"top\" align=\"center\" class=\"Estilo69\"><span class=\"Estilo71\">Fecha de presentaci\\\\xf3n:<b> 6-Febrero-2019</b><br></span><br>\\\\n\\\\t\\\\t\\\\t    \\\\t\\\\t\\\\t\\\\t &nbsp;\\\\t\\\\t\\\\t\\\\t<b>- Igualdad de G\\\\xe9nero</b><br>\\\\n\\\\t\\\\t\\\\t                    </span></td>\\\\n\\\\t\\\\t\\\\t<td width=\"350\" valign=\"top\" class=\"Estilo69\"><span class=\"Estilo71\">\\\\xdanico. La C\\\\xe1mara de Diputados del honorable Congreso de la Uni\\\\xf3n, con pleno respeto a la soberan\\\\xeda de la entidad, exhorta al Congreso del estado libre y soberano de Jalisco, a que, en el ejercicio de sus facultades, abrogue el decreto n\\\\xfamero 27228/LXII/19, publicado el pasado 31 de enero del presente a\\\\xf1o, por medio del cual se modifica el art\\\\xedculo 25 de la Ley Org\\\\xe1nica del Poder Ejecutivo, que abroga la Ley del Instituto Jalisciense de las Mujeres y extingue a dicho Instituto.</span></td>\\\\n\\\\t\\\\t        <td width=\"350\" valign=\"top\" class=\"Estilo69\"><span class=\"Estilo71\">.</span></td>\\\\n\\\\t\\\\t        <td width=\"100\" valign=\"top\" align=\"center\" class=\"Estilo69\"><span class=\"Estilo71\"><b>Retirada</b> \\\\n\\\\n\\\\n\\\\t\\\\t\\\\t  \\\\n\\\\n\\\\n\\\\n </span><br><br><br><span class=\"Estilo71\">Publicaci\\\\xf3n en Gaceta:<a href=\\\\\\'http://gaceta.diputados.gob.mx/Gaceta/64/2019/feb/20190206-IV.html#Proposicion1 \\\\\\' target=\"_blank\" class=\"linkTitulo\"> <b>6-Febrero-2019</b></a></span></td>\\\\n\\\\t\\\\t         </tr>\\\\n\\\\t\\\\t\\\\t    <td width=\"350\" valign=\"top\" class=\"Estilo69\"><span class=\"Estilo71\"><b>12 </b> &nbsp; Sobre la pol\\\\xedtica del gobierno mexicano respecto a Venezuela</span><br><br><br><span class=\"Estilo71\">De Grupo: <b>Abasolo S\\\\xe1nchez Pedro Daniel (MORENA)</b></span> </td>\\\\n\\\\t\\\\t\\\\t    <td width=\"100\" valign=\"top\" align=\"center\" class=\"Estilo69\"><span class=\"Estilo71\">Fecha de presentaci\\\\xf3n:<b> 14-Febrero-2019</b><br></span><br>\\\\n\\\\t\\\\t\\\\t    \\\\t\\\\t\\\\t\\\\t &nbsp;\\\\t\\\\t\\\\t\\\\t<b>- Urgente Resoluci\\\\xf3n</b><br>\\\\n\\\\t\\\\t\\\\t                    </span></td>\\\\n\\\\t\\\\t\\\\t<td width=\"350\" valign=\"top\" class=\"Estilo69\"><span class=\"Estilo71\">Primero. La C\\\\xe1mara de Diputados del Congreso de la Uni\\\\xf3n, expresa su apoyo a la conducta de neutralidad y puente de comunicaci\\\\xf3n asumida por el gobierno de M\\\\xe9xico frente al conflicto diplom\\\\xe1tico internacional surgido en relaci\\\\xf3n con la situaci\\\\xf3n interna de la Rep\\\\xfablica Bolivariana de Venezuela. <br> <br>Segundo. La C\\\\xe1mara de Diputados se congratula por la disposici\\\\xf3n de los gobiernos de la Rep\\\\xfablica Oriental del Uruguay y de los Estados Unidos Mexicanos, as\\\\xed como la de los pa\\\\xedses de la Comunidad del Caribe, para abordar la compleja situaci\\\\xf3n que prevalece en Venezuela a trav\\\\xe9s del di\\\\xe1logo para la negociaci\\\\xf3n, en un marco de respeto al derecho internacional y los derechos humanos.</span></td>\\\\n\\\\t\\\\t        <td width=\"350\" valign=\"top\" class=\"Estilo69\"><span class=\"Estilo71\">Primero. La C\\\\xe1mara de Diputados del Congreso de la Uni\\\\xf3n, expresa su apoyo a la conducta de neutralidad y puente de comunicaci\\\\xf3n asumida por el gobierno de M\\\\xe9xico frente al conflicto diplom\\\\xe1tico internacional surgido en relaci\\\\xf3n con la situaci\\\\xf3n interna de la Rep\\\\xfablica Bolivariana de Venezuela. <br> <br>Segundo. La C\\\\xe1mara de Diputados se congratula por la disposici\\\\xf3n de los gobiernos de la Rep\\\\xfablica Oriental del Uruguay y de los Estados Unidos Mexicanos, as\\\\xed como la de los pa\\\\xedses de la Comunidad del Caribe, para abordar la compleja situaci\\\\xf3n que prevalece en Venezuela a trav\\\\xe9s del di\\\\xe1logo para la negociaci\\\\xf3n, en un marco de respeto al derecho internacional y los derechos humanos.</span></td>\\\\n\\\\t\\\\t        <td width=\"100\" valign=\"top\" align=\"center\" class=\"Estilo69\"><span class=\"Estilo71\"><b>Aprobada</b> \\\\n\\\\n\\\\n\\\\t\\\\t\\\\t  \\\\t\\\\t\\\\t    <br> <b> con fecha </b> 14-Febrero-2019\\\\t\\\\t\\\\t  \\\\n\\\\n\\\\n\\\\n </span><br><br><br><span class=\"Estilo71\">Publicaci\\\\xf3n en Gaceta:<a href=\\\\\\'http://gaceta.diputados.gob.mx/Gaceta/64/2019/feb/20190214-VI.html#ProposicionUOR1 \\\\\\' target=\"_blank\" class=\"linkTitulo\"> <b>14-Febrero-2019</b></a></span></td>\\\\n\\\\t\\\\t         </tr>\\\\n\\\\t\\\\t\\\\t    <td width=\"350\" valign=\"top\" class=\"Estilo69\"><span class=\"Estilo71\"><b>13 </b> &nbsp; Por el que se exhorta a diversas dependencias, a invertir los recursos del Fondo Metropolitano que correspondan a la Zona Metropolitana del Valle de M\\\\xe9xico, en la construcci\\\\xf3n de infraestructura del Sistema 1 de Ferrocarriles Suburbanos, as\\\\xed como a elaborar los estudios y proyecto ejecutivo para su ampliaci\\\\xf3n hasta el municipio de Huehuetoca, Estado de M\\\\xe9xico</span><br><br><br><span class=\"Estilo71\">De Grupo: <b>Abasolo S\\\\xe1nchez Pedro Daniel (MORENA)</b></span> </td>\\\\n\\\\t\\\\t\\\\t    <td width=\"100\" valign=\"top\" align=\"center\" class=\"Estilo69\"><span class=\"Estilo71\">Fecha de presentaci\\\\xf3n:<b> 8-Abril-2019</b><br></span><br>\\\\n\\\\t\\\\t\\\\t    \\\\t\\\\t\\\\t\\\\t &nbsp;\\\\t\\\\t\\\\t\\\\t<b>- Infraestructura</b><br>\\\\n\\\\t\\\\t\\\\t                    </span></td>\\\\n\\\\t\\\\t\\\\t<td width=\"350\" valign=\"top\" class=\"Estilo69\"><span class=\"Estilo71\">\\\\xdanico. Que a fin de que se cumpla cabalmente con lo que marca el Presupuesto de Egresos de la Federaci\\\\xf3n para el Ejercicio Fiscal de 2019 y los Lineamientos del Fondo Metropolitano, se exhorta a la Secretar\\\\xeda de Hacienda y Cr\\\\xe9dito P\\\\xfablico, Secretar\\\\xeda de Desarrollo Agrario, Territorial y Urbano, Secretar\\\\xeda de Medio Ambiente y Recursos Naturales y a los gobiernos estatales del Estado de M\\\\xe9xico, Ciudad de M\\\\xe9xico e Hidalgo, a invertir los recursos del Fondo Metropolitano que correspondan a la Zona Metropolitana del Valle de M\\\\xe9xico, aprobados para el ejercicio fiscal 2019, en la construcci\\\\xf3n de infraestructura que le brinde al Sistema 1 de Ferrocarriles Suburbanos, en todas sus estaciones, interconectividad peatonal , especialmente para personas con discapacidad y movilidad limitada; interconectividad ciclista , a trav\\\\xe9s de ciclo v\\\\xedas y biciestacionamientos; e interconectividad con el resto de sistemas de transporte p\\\\xfablico , as\\\\xed como en la elaboraci\\\\xf3n de los estudios y del proyecto ejecutivo para su ampliaci\\\\xf3n hasta el municipio de Huehuetoca, Estado de M\\\\xe9xico, beneficiando y garantizando el inter\\\\xe9s de las y los Ciudadanos de la Zona Metropolitana del Valle de M\\\\xe9xico.</span></td>\\\\n\\\\t\\\\t        <td width=\"350\" valign=\"top\" class=\"Estilo69\"><span class=\"Estilo71\">.</span></td>\\\\n\\\\t\\\\t        <td width=\"100\" valign=\"top\" align=\"center\" class=\"Estilo69\"><span class=\"Estilo71\"><b>Desechada (art. 184, num 2)</b> \\\\n\\\\n\\\\n\\\\t\\\\t\\\\t  \\\\t\\\\t\\\\t    <br> <b> con fecha </b> 31-Mayo-2019\\\\t\\\\t\\\\t  \\\\n\\\\n\\\\n\\\\n </span><br><br><br><span class=\"Estilo71\">Publicaci\\\\xf3n en Gaceta:<a href=\\\\\\'http://gaceta.diputados.gob.mx/Gaceta/64/2019/abr/20190408-III.html#Proposicion27 \\\\\\' target=\"_blank\" class=\"linkTitulo\"> <b>8-Abril-2019</b></a></span></td>\\\\n\\\\t\\\\t         </tr>\\\\n\\\\t\\\\t\\\\t    <td width=\"350\" valign=\"top\" class=\"Estilo69\"><span class=\"Estilo71\"><b>14 </b> &nbsp; Por el que exhorta al titular del gobierno del Estado de M\\\\xe9xico para que, a trav\\\\xe9s de la Secretar\\\\xeda de Finanzas de dicho estado, se libere el Fondo Estatal de Fortalecimiento Municipal, en favor de los municipios que integran el Estado de M\\\\xe9xico.</span><br><br><br><span class=\"Estilo71\">Proponente: <b>Abasolo S\\\\xe1nchez Pedro Daniel (MORENA)</b></span> </td>\\\\n\\\\t\\\\t\\\\t    <td width=\"100\" valign=\"top\" align=\"center\" class=\"Estilo69\"><span class=\"Estilo71\">Fecha de presentaci\\\\xf3n:<b> 3-Julio-2019</b><br></span><br>\\\\n\\\\t\\\\t\\\\t    \\\\t\\\\t\\\\t\\\\t &nbsp;\\\\t\\\\t\\\\t\\\\t<b>- Tercera Comisi\\\\xf3n: Hacienda y Cr\\\\xe9dito P\\\\xfablico, Agricultura y Fomento, Comunicaciones y Obras P\\\\xfablicas</b><br>\\\\n\\\\t\\\\t\\\\t                    </span></td>\\\\n\\\\t\\\\t\\\\t<td width=\"350\" valign=\"top\" class=\"Estilo69\"><span class=\"Estilo71\">\\\\xdanico. La Comisi\\\\xf3n Permanente del H. Congreso de la Uni\\\\xf3n, exhorta respetuosamente al Titular del Gobierno del Estado de M\\\\xe9xico, para que, a trav\\\\xe9s de la Secretar\\\\xeda de Finanzas de dicho estado, se libere el Fondo Estatal de Fortalecimiento Municipal (FEFOM), en favor de los municipios que integran el Estado de M\\\\xe9xico.</span></td>\\\\n\\\\t\\\\t        <td width=\"350\" valign=\"top\" class=\"Estilo69\"><span class=\"Estilo71\">\\\\xdaNICO. La Comisi\\\\xf3n Permanente del Honorable Congreso de la Uni\\\\xf3n, exhorta respetuosamente a la Secretar\\\\xeda de Finanzas del Gobierno del Estado de M\\\\xe9xico, a efecto de que se considere la liberaci\\\\xf3n del Fondo Estatal de Fortalecimiento Municipal (FEFOM), en favor de los municipios que integran el Estado de M\\\\xe9xico.</span></td>\\\\n\\\\t\\\\t        <td width=\"100\" valign=\"top\" align=\"center\" class=\"Estilo69\"><span class=\"Estilo71\"><b>Aprobada</b> \\\\n\\\\n\\\\n\\\\t\\\\t\\\\t  \\\\t\\\\t\\\\t    <br> <b> con fecha </b> 7-Agosto-2019\\\\t\\\\t\\\\t  \\\\n\\\\n\\\\n\\\\n </span><br><br><br><span class=\"Estilo71\">Publicaci\\\\xf3n en Gaceta:<a href=\\\\\\'http://www.senado.gob.mx/64/gaceta_comision_permanente/documento/97098 \\\\\\' target=\"_blank\" class=\"linkTitulo\"> <b>--</b></a></span></td>\\\\n\\\\t\\\\t         </tr>\\\\n\\\\t\\\\t</table>\\\\n\\\\t\\\\t\\\\n\\\\n<!--- hasta aqui proposiciones -->\\\\n\\\\t</div>\\\\n\\\\n<div class=\"asistencias\" style=\"display: none;\">\\\\n</div>\\\\n\\\\n<div class=\"votaciones\" style=\"display: none;\">\\\\n</div>\\\\n\\\\n\\\\n\\\\t<div class=\"iniciativas\" style=\"display: none;\">\\\\n\\\\n\\\\n\\\\t<table width=\"760\" border=\"0\" align=\"center\" cellpadding=\"0\" cellspacing=\"0\" valign=\"top\">\\\\n\\\\t            <tr>\\\\n\\\\t              <td width=\"150\" align=\"left\" ><!--<img src=\"images/logo_camara.png\" width=\"80\" height=\"80\">-->&nbsp;</TD> \\\\n\\\\t              <td width=\"400\" align=\"center\" ><span class=\"Estilo61\">INICIATIVAS PRESENTADAS POR DIPUTADO <BR>EN LA LXIV LEGISLATURA TURNADAS A COMISI\\\\xd3N </span></TD> \\\\n\\\\t              <td width=\"210\" align=\"right\" ><span class=\"Estilo1\"><b>SECRETAR\\\\xcdA GENERAL</b> <BR> SECRETAR\\\\xcdA DE SERVICIOS PARLAMENTARIOS <BR> <b><i>Direcci\\\\xf3n General de Apoyo Parlamentario</i></b></span></TD>\\\\n\\\\t           </tr>\\\\n\\\\t</table>  \\\\n\\\\n\\\\n\\\\n<table align=\"center\" width=\"775\" border=\"0\" cellspacing=\"2\" cellpadding=\"2\">\\\\n\\\\t\\\\t\\\\t  <tr>\\\\t<td colspan=\"7\" width=\"775\" height=\"10\" valign=\"top\"><img src=\"images/h_line.gif\" width=\"749\" height=\"1\" vspace=\"10\"></td></tr><tr>\\\\t<td class=\"EncabezadoVerde\" colspan=\"7\" valign=\"bottom\" align=\"left\" >Iniciativas presentadas y estatus ante el Pleno</td></tr><tr>\\\\t<td colspan=\"7\" width=\"775\" height=\"10\" valign=\"top\"><img src=\"images/h_line.gif\" width=\"749\" height=\"1\" vspace=\"10\"></td></tr>\\\\t\\\\t\\\\t  <tr>\\\\n\\\\t\\\\t\\\\t    <td width=\"155\" bgcolor=\"#595843\" class=\"Estilo51\" align=\"center\">Tipo de presentaci\\\\xf3n</td>\\\\n\\\\t\\\\t\\\\t    <td width=\"100\" bgcolor=\"#595843\" class=\"Estilo51\" align=\"center\">Total</td>\\\\n\\\\t\\\\t\\\\t    <td width=\"100\" bgcolor=\"#595843\" class=\"Estilo51\" align=\"center\">Aprobadas</td>\\\\n\\\\t\\\\t\\\\t    <td width=\"100\" bgcolor=\"#595843\" class=\"Estilo51\" align=\"center\">Desechadas</td>\\\\n\\\\t\\\\t\\\\t    <td width=\"100\" bgcolor=\"#595843\" class=\"Estilo51\" align=\"center\">Atendidas</td>\\\\n\\\\t\\\\t\\\\t    <td width=\"100\" bgcolor=\"#595843\" class=\"Estilo51\" align=\"center\">Retiradas</td>\\\\n\\\\t\\\\t\\\\t    <td width=\"100\" bgcolor=\"#595843\" class=\"Estilo51\" align=\"center\">Pendientes</td>\\\\n\\\\n\\\\t\\\\t\\\\t  </tr>\\\\n\\\\n\\\\t\\\\t\\\\t\\\\n\\\\n\\\\n\\\\t\\\\t\\\\t  <tr bgcolor=\"#E3DAC1\">\\\\n                            <td width=\"150\" class=\"textoNegro\"  align=\"center\">Adherente</td>\\\\n\\\\n                            <td width=\"100\" class=\"textoNegro\" bgcolor=\"#cccccc\" align=\"center\">1 </td>  \\\\n\\\\n\\\\n\\\\t\\\\t\\\\t    <td width=\"100\" class=\"textoNegro\" align=\"center\"><b>0</b></td>\\\\n\\\\t\\\\t\\\\t    <td width=\"100\" class=\"textoNegro\" align=\"center\">0</td>\\\\n                            <td width=\"100\" class=\"textoNegro\" align=\"center\"><b>0</b> </td>\\\\n\\\\t\\\\t\\\\t    <td width=\"100\" class=\"textoNegro\" align=\"center\">0</td>\\\\n\\\\t\\\\t\\\\t    <td width=\"100\" class=\"textoNegro\" align=\"center\"><b>1</b></td>\\\\n\\\\n\\\\n\\\\t\\\\t\\\\t\\\\n\\\\n\\\\n\\\\n\\\\t\\\\t\\\\t  <tr bgcolor=\"#FFFFFF\">\\\\n                            <td width=\"150\" class=\"textoNegro\"  align=\"center\">De Grupo</td>\\\\n\\\\n                            <td width=\"100\" class=\"textoNegro\" bgcolor=\"#cccccc\" align=\"center\">15 </td>  \\\\n\\\\n\\\\n\\\\t\\\\t\\\\t    <td width=\"100\" class=\"textoNegro\" align=\"center\"><b>10</b></td>\\\\n\\\\t\\\\t\\\\t    <td width=\"100\" class=\"textoNegro\" align=\"center\">0</td>\\\\n                            <td width=\"100\" class=\"textoNegro\" align=\"center\"><b>0</b> </td>\\\\n\\\\t\\\\t\\\\t    <td width=\"100\" class=\"textoNegro\" align=\"center\">0</td>\\\\n\\\\t\\\\t\\\\t    <td width=\"100\" class=\"textoNegro\" align=\"center\"><b>5</b></td>\\\\n\\\\n\\\\n\\\\t\\\\t\\\\t\\\\n\\\\n\\\\n                          </tr> \\\\n\\\\n\\\\n\\\\t\\\\t\\\\t  <tr bgcolor=\"#E3DAC1\">\\\\n                            <td width=\"150\" class=\"textoNegro\" align=\"center\">TOTAL</td>\\\\n                            <td width=\"100\" class=\"textoNegro\" bgcolor=\"#cccccc\" align=\"center\">16</td>\\\\n\\\\t\\\\t\\\\t    <td width=\"100\" class=\"textoNegro\" align=\"center\"><b>10</b></td>\\\\n\\\\t\\\\t\\\\t    <td width=\"100\" class=\"textoNegro\" align=\"center\">0</td>\\\\n                            <td width=\"100\" class=\"textoNegro\" align=\"center\"><b>0</b> </td>\\\\n\\\\t\\\\t\\\\t    <td width=\"100\" class=\"textoNegro\" align=\"center\">0</td>\\\\n\\\\t\\\\t\\\\t    <td width=\"100\" class=\"textoNegro\" align=\"center\"><b>6</b></td>\\\\n\\\\n                          </tr>\\\\n<tr>\\\\n<td colspan=7>&nbsp;\\\\n</td>\\\\n</tr>\\\\n\\\\n\\\\t\\\\t\\\\t\\\\n\\\\t\\\\t\\\\t</table>\\\\n\\\\n\\\\n\\\\n\\\\n\\\\t<table width=\"900\" border=\"1\" align=\"center\" cellpadding=\"0\" cellspacing=\"0\" valign=\"top\">\\\\n\\\\t     <tr>\\\\n\\\\t         <td width=\"350\" align=\"center\" bgcolor=\"#E3DAC1\"><span class=\"Estilo61\">INICIATIVA</span></TD>\\\\n\\\\t         <td width=\"100\" align=\"center\" bgcolor=\"#E3DAC1\"><span class=\"Estilo61\">TURNO A COMISI\\\\xd3N</span></TD> \\\\n\\\\t         <td width=\"350\" align=\"center\" bgcolor=\"#E3DAC1\"><span class=\"Estilo61\">SINOPSIS</span></TD> \\\\n\\\\t         <td width=\"100\" align=\"center\" bgcolor=\"#E3DAC1\"><span class=\"Estilo61\">TR\\\\xc1MITE EN EL PLENO</span></TD>\\\\n\\\\t     </tr>\\\\n\\\\t     <tr>\\\\n\\\\n\\\\t\\\\t\\\\t\\\\t \\\\t\\\\t<td width=\"350\" valign=\"top\" class=\"Estilo69\"><span class=\"Estilo71\"><b>1 </b> &nbsp; \\\\n\\\\t\\\\t\\\\tProyecto de decreto que reforma y adiciona diversas disposiciones de la Constituci\\\\xf3n Pol\\\\xedtica de los Estados Unidos Mexicanos, en materia de inmunidad de servidores p\\\\xfablicos.</span><br><br><br>\\\\n\\\\t\\\\t\\\\t<span class=\"Estilo71\">De Grupo: <b>\\\\n\\\\t\\\\t\\\\tAbasolo S\\\\xe1nchez Pedro Daniel (MORENA)</b></span>\\\\n\\\\t\\\\t\\\\t\\\\t\\\\t </td>\\\\n\\\\t\\\\t <td width=\"100\" valign=\"top\" align=\"center\" class=\"Estilo69\"><span class=\"Estilo71\">Fecha de presentaci\\\\xf3n:<b> \\\\n\\\\t\\\\t\\\\t4-Septiembre-2018</b><br></span><br>\\\\n\\\\t\\\\t\\\\t    \\\\t\\\\t\\\\t    \\\\t\\\\t\\\\t\\\\t &nbsp;\\\\t\\\\t\\\\t\\\\t<b>- Puntos Constitucionales</b><br>\\\\n\\\\t\\\\t\\\\t     </span>\\\\n\\\\t\\\\t   </td>\\\\n  \\\\t\\\\t   <td width=\"350\" valign=\"top\" class=\"Estilo69\"><span class=\"Estilo71\">Establecer que los servidores p\\\\xfablicos puedan ser sujetos de procedimiento penal en libertad.</span></td>\\\\n\\\\t\\\\t    <td width=\"100\" valign=\"top\" align=\"center\" class=\"Estilo69\"><span class=\"Estilo71\"><b>Aprobada</b> \\\\n\\\\t\\\\t\\\\t \\\\t\\\\t\\\\t <br>  con fecha \\\\n\\\\t\\\\t\\\\t <a href=\"dictameneslxiv_ld.php?tipot=&pert=0&init=6\" target=\"_blank\" class=\"linkTitulo\"> \\\\n\\\\t\\\\t\\\\t27-Noviembre-2018 </a>\\\\n\\\\t\\\\t\\\\t\\\\t\\\\t\\\\t</span><br><br><br><span class=\"Estilo71\">Publicaci\\\\xf3n en Gaceta:<a href=\\\\\\'http://gaceta.diputados.gob.mx/Gaceta/64/2018/sep/20180904-III.html#Iniciativa1\\\\\\' target=\"_blank\" \\\\t\\\\t\\\\tclass=\"linkTitulo\"> <b>4-Septiembre-2018</b></a></span>\\\\n\\\\t\\\\t  </td>\\\\n\\\\t\\\\t</tr>\\\\n\\\\t\\\\t  \\\\t\\\\t<td width=\"350\" valign=\"top\" class=\"Estilo69\"><span class=\"Estilo71\"><b>2 </b> &nbsp; \\\\n\\\\t\\\\t\\\\tProyecto de Decreto que reforma, adiciona y deroga diversas disposiciones de la Ley sobre Refugiados, Protecci\\\\xf3n Complementaria y Asilo Pol\\\\xedtico.</span><br><br><br>\\\\n\\\\t\\\\t\\\\t<span class=\"Estilo71\">De Grupo: <b>\\\\n\\\\t\\\\t\\\\tAbasolo S\\\\xe1nchez Pedro Daniel (MORENA)</b></span>\\\\n\\\\t\\\\t\\\\t\\\\t\\\\t </td>\\\\n\\\\t\\\\t <td width=\"100\" valign=\"top\" align=\"center\" class=\"Estilo69\"><span class=\"Estilo71\">Fecha de presentaci\\\\xf3n:<b> \\\\n\\\\t\\\\t\\\\t6-Septiembre-2018</b><br></span><br>\\\\n\\\\t\\\\t\\\\t    \\\\t\\\\t\\\\t    \\\\t\\\\t\\\\t\\\\t &nbsp;\\\\t\\\\t\\\\t\\\\t<b>- Relaciones Exteriores</b><br>\\\\n\\\\t\\\\t\\\\t     </span>\\\\n\\\\t\\\\t   </td>\\\\n  \\\\t\\\\t   <td width=\"350\" valign=\"top\" class=\"Estilo69\"><span class=\"Estilo71\">Establecer que el solicitante de la condici\\\\xf3n de refugiado tendr\\\\xe1 derecho a orientaci\\\\xf3n, asesor\\\\xeda y representaci\\\\xf3n jur\\\\xeddica adecuada y gratuita por un abogado, al cual elegir\\\\xe1 libremente. Garantizar el acceso al servicio de defensor\\\\xeda p\\\\xfablica, de conformidad con lo establecido en la Ley Federal de Defensor\\\\xeda P\\\\xfablica. Tambi\\\\xe9n tendr\\\\xe1 derecho a que su abogado comparezca en todos los actos del procedimiento.</span></td>\\\\n\\\\t\\\\t    <td width=\"100\" valign=\"top\" align=\"center\" class=\"Estilo69\"><span class=\"Estilo71\"><b>Pendiente</b> \\\\n\\\\t\\\\t\\\\t \\\\t\\\\t\\\\t</span><br><br><br><span class=\"Estilo71\">Publicaci\\\\xf3n en Gaceta:<a href=\\\\\\'http://gaceta.diputados.gob.mx/Gaceta/64/2018/sep/20180904-III.html#Iniciativa16\\\\\\' target=\"_blank\" \\\\t\\\\t\\\\tclass=\"linkTitulo\"> <b>4-Septiembre-2018</b></a></span>\\\\n\\\\t\\\\t  </td>\\\\n\\\\t\\\\t</tr>\\\\n\\\\t\\\\t  \\\\t\\\\t<td width=\"350\" valign=\"top\" class=\"Estilo69\"><span class=\"Estilo71\"><b>3 </b> &nbsp; \\\\n\\\\t\\\\t\\\\tProyecto de Decreto que expide la Ley de Austeridad Republicana.</span><br><br><br>\\\\n\\\\t\\\\t\\\\t<span class=\"Estilo71\">De Grupo: <b>\\\\n\\\\t\\\\t\\\\tAbasolo S\\\\xe1nchez Pedro Daniel (MORENA)</b></span>\\\\n\\\\t\\\\t\\\\t\\\\t\\\\t </td>\\\\n\\\\t\\\\t <td width=\"100\" valign=\"top\" align=\"center\" class=\"Estilo69\"><span class=\"Estilo71\">Fecha de presentaci\\\\xf3n:<b> \\\\n\\\\t\\\\t\\\\t11-Septiembre-2018</b><br></span><br>\\\\n\\\\t\\\\t\\\\t    \\\\t\\\\t\\\\t    \\\\t\\\\t\\\\t\\\\tUnidas&nbsp;\\\\t\\\\t\\\\t\\\\t<b>- Hacienda y Cr\\\\xe9dito P\\\\xfablico</b><br>\\\\n\\\\t\\\\t\\\\t    \\\\t\\\\t\\\\t\\\\t<b>- Presupuesto y Cuenta P\\\\xfablica</b><br>\\\\n\\\\t\\\\t\\\\t     </span>\\\\n\\\\t\\\\t   </td>\\\\n  \\\\t\\\\t   <td width=\"350\" valign=\"top\" class=\"Estilo69\"><span class=\"Estilo71\">Crear un ordenamiento jur\\\\xeddico con el objeto de aplicar medidas de austeridad en la programaci\\\\xf3n y ejecuci\\\\xf3n del gasto gubernamental, como pol\\\\xedtica de Estado.</span></td>\\\\n\\\\t\\\\t    <td width=\"100\" valign=\"top\" align=\"center\" class=\"Estilo69\"><span class=\"Estilo71\"><b>Aprobada</b> \\\\n\\\\t\\\\t\\\\t \\\\t\\\\t\\\\t <br>  con fecha \\\\n\\\\t\\\\t\\\\t <a href=\"dictameneslxiv_ld.php?tipot=&pert=0&init=25\" target=\"_blank\" class=\"linkTitulo\"> \\\\n\\\\t\\\\t\\\\t30-Abril-2019 </a>\\\\n\\\\t\\\\t\\\\t\\\\t\\\\t\\\\t</span><br><br><br><span class=\"Estilo71\">Publicaci\\\\xf3n en Gaceta:<a href=\\\\\\'http://gaceta.diputados.gob.mx/Gaceta/64/2018/sep/20180911-II.html#Iniciativa1\\\\\\' target=\"_blank\" \\\\t\\\\t\\\\tclass=\"linkTitulo\"> <b>11-Septiembre-2018</b></a></span>\\\\n\\\\t\\\\t  </td>\\\\n\\\\t\\\\t</tr>\\\\n\\\\t\\\\t  \\\\t\\\\t<td width=\"350\" valign=\"top\" class=\"Estilo69\"><span class=\"Estilo71\"><b>4 </b> &nbsp; \\\\n\\\\t\\\\t\\\\tProyecto de Decreto que reforma y adiciona diversas disposiciones de la Constituci\\\\xf3n Pol\\\\xedtica de los Estados Unidos Mexicanos, en materia de revocaci\\\\xf3n de mandato.</span><br><br><br>\\\\n\\\\t\\\\t\\\\t<span class=\"Estilo71\">De Grupo: <b>\\\\n\\\\t\\\\t\\\\tAbasolo S\\\\xe1nchez Pedro Daniel (MORENA)</b></span>\\\\n\\\\t\\\\t\\\\t\\\\t\\\\t </td>\\\\n\\\\t\\\\t <td width=\"100\" valign=\"top\" align=\"center\" class=\"Estilo69\"><span class=\"Estilo71\">Fecha de presentaci\\\\xf3n:<b> \\\\n\\\\t\\\\t\\\\t27-Septiembre-2018</b><br></span><br>\\\\n\\\\t\\\\t\\\\t    \\\\t\\\\t\\\\t    \\\\t\\\\t\\\\t\\\\t &nbsp;\\\\t\\\\t\\\\t\\\\t<b>- Puntos Constitucionales</b><br>\\\\n\\\\t\\\\t\\\\t     </span>\\\\n\\\\t\\\\t   </td>\\\\n  \\\\t\\\\t   <td width=\"350\" valign=\"top\" class=\"Estilo69\"><span class=\"Estilo71\">Prever el procedimiento para la revocaci\\\\xf3n de mandato del Presidente de la Rep\\\\xfablica.</span></td>\\\\n\\\\t\\\\t    <td width=\"100\" valign=\"top\" align=\"center\" class=\"Estilo69\"><span class=\"Estilo71\"><b>Aprobada</b> \\\\n\\\\t\\\\t\\\\t \\\\t\\\\t\\\\t <br>  con fecha \\\\n\\\\t\\\\t\\\\t <a href=\"dictameneslxiv_ld.php?tipot=&pert=0&init=104\" target=\"_blank\" class=\"linkTitulo\"> \\\\n\\\\t\\\\t\\\\t14-Marzo-2019 </a>\\\\n\\\\t\\\\t\\\\t\\\\t\\\\t\\\\t</span><br><br><br><span class=\"Estilo71\">Publicaci\\\\xf3n en Gaceta:<a href=\\\\\\'http://gaceta.diputados.gob.mx/Gaceta/64/2018/sep/20180925-II.html#Iniciativa11\\\\\\' target=\"_blank\" \\\\t\\\\t\\\\tclass=\"linkTitulo\"> <b>25-Septiembre-2018</b></a></span>\\\\n\\\\t\\\\t  </td>\\\\n\\\\t\\\\t</tr>\\\\n\\\\t\\\\t  \\\\t\\\\t<td width=\"350\" valign=\"top\" class=\"Estilo69\"><span class=\"Estilo71\"><b>5 </b> &nbsp; \\\\n\\\\t\\\\t\\\\tProyecto de Decreto que expide la Ley del Instituto Nacional de Pueblos Ind\\\\xedgenas y abroga la Ley de la Comisi\\\\xf3n Nacional para el Desarrollo de los Pueblos Ind\\\\xedgenas.</span><br><br><br>\\\\n\\\\t\\\\t\\\\t<span class=\"Estilo71\">De Grupo: <b>\\\\n\\\\t\\\\t\\\\tAbasolo S\\\\xe1nchez Pedro Daniel (MORENA)</b></span>\\\\n\\\\t\\\\t\\\\t\\\\t\\\\t </td>\\\\n\\\\t\\\\t <td width=\"100\" valign=\"top\" align=\"center\" class=\"Estilo69\"><span class=\"Estilo71\">Fecha de presentaci\\\\xf3n:<b> \\\\n\\\\t\\\\t\\\\t2-Octubre-2018</b><br></span><br>\\\\n\\\\t\\\\t\\\\t    \\\\t\\\\t\\\\t    \\\\t\\\\t\\\\t\\\\t &nbsp;\\\\t\\\\t\\\\t\\\\t<b>- Pueblos Ind\\\\xedgenas</b><br>\\\\n\\\\t\\\\t\\\\t    \\\\t\\\\t\\\\t\\\\tCon Opini\\\\xf3n de&nbsp;\\\\t\\\\t\\\\t\\\\t<b>- Presupuesto y Cuenta P\\\\xfablica</b><br>\\\\n\\\\t\\\\t\\\\t     </span>\\\\n\\\\t\\\\t   </td>\\\\n  \\\\t\\\\t   <td width=\"350\" valign=\"top\" class=\"Estilo69\"><span class=\"Estilo71\">Crear un ordenamiento jur\\\\xeddico con el objeto de dise\\\\xf1ar, establecer, ejecutar, orientar, coordinar, promover, dar seguimiento y evaluar las pol\\\\xedticas, programas, proyectos, estrategias y acciones de la Administraci\\\\xf3n P\\\\xfablica Federal, para el reconocimiento e implementaci\\\\xf3n de los derechos de los pueblos ind\\\\xedgenas y su desarrollo integral, intercultural y sostenible, de conformidad con lo dispuesto en la Constituci\\\\xf3n Pol\\\\xedtica de los Estados Unidos Mexicanos y en los instrumentos jur\\\\xeddicos internacionales de los que el pa\\\\xeds es parte. Abrogar la Ley de la Comisi\\\\xf3n Nacional para el Desarrollo de los Pueblos Ind\\\\xedgenas.</span></td>\\\\n\\\\t\\\\t    <td width=\"100\" valign=\"top\" align=\"center\" class=\"Estilo69\"><span class=\"Estilo71\"><b>Aprobada</b> \\\\n\\\\t\\\\t\\\\t \\\\t\\\\t\\\\t <br>  con fecha \\\\n\\\\t\\\\t\\\\t <a href=\"dictameneslxiv_ld.php?tipot=&pert=0&init=137\" target=\"_blank\" class=\"linkTitulo\"> \\\\n\\\\t\\\\t\\\\t22-Noviembre-2018 </a>\\\\n\\\\t\\\\t\\\\t\\\\t\\\\t\\\\t</span><br><br><br><span class=\"Estilo71\">Publicaci\\\\xf3n en Gaceta:<a href=\\\\\\'http://gaceta.diputados.gob.mx/Gaceta/64/2018/oct/20181002-II.html#Iniciativa1\\\\\\' target=\"_blank\" \\\\t\\\\t\\\\tclass=\"linkTitulo\"> <b>2-Octubre-2018</b></a></span>\\\\n\\\\t\\\\t  </td>\\\\n\\\\t\\\\t</tr>\\\\n\\\\t\\\\t  \\\\t\\\\t<td width=\"350\" valign=\"top\" class=\"Estilo69\"><span class=\"Estilo71\"><b>6 </b> &nbsp; \\\\n\\\\t\\\\t\\\\tProyecto de Decreto que reforma el art\\\\xedculo 21 de la Ley Org\\\\xe1nica de la Administraci\\\\xf3n P\\\\xfablica Federal.</span><br><br><br>\\\\n\\\\t\\\\t\\\\t<span class=\"Estilo71\">De Grupo: <b>\\\\n\\\\t\\\\t\\\\tAbasolo S\\\\xe1nchez Pedro Daniel (MORENA)</b></span>\\\\n\\\\t\\\\t\\\\t\\\\t\\\\t </td>\\\\n\\\\t\\\\t <td width=\"100\" valign=\"top\" align=\"center\" class=\"Estilo69\"><span class=\"Estilo71\">Fecha de presentaci\\\\xf3n:<b> \\\\n\\\\t\\\\t\\\\t9-Octubre-2018</b><br></span><br>\\\\n\\\\t\\\\t\\\\t    \\\\t\\\\t\\\\t    \\\\t\\\\t\\\\t\\\\t &nbsp;\\\\t\\\\t\\\\t\\\\t<b>- Gobernaci\\\\xf3n y Poblaci\\\\xf3n</b><br>\\\\n\\\\t\\\\t\\\\t     </span>\\\\n\\\\t\\\\t   </td>\\\\n  \\\\t\\\\t   <td width=\"350\" valign=\"top\" class=\"Estilo69\"><span class=\"Estilo71\">Precisar que el presidente de la Rep\\\\xfablica, podr\\\\xe1 constituir comisiones intersecretariales, consultivas y presidenciales a trav\\\\xe9s de decretos y establecer las disposiciones que deben contener.</span></td>\\\\n\\\\t\\\\t    <td width=\"100\" valign=\"top\" align=\"center\" class=\"Estilo69\"><span class=\"Estilo71\"><b>Aprobada</b> \\\\n\\\\t\\\\t\\\\t \\\\t\\\\t\\\\t <br>  con fecha \\\\n\\\\t\\\\t\\\\t <a href=\"dictameneslxiv_ld.php?tipot=&pert=0&init=177\" target=\"_blank\" class=\"linkTitulo\"> \\\\n\\\\t\\\\t\\\\t13-Noviembre-2018 </a>\\\\n\\\\t\\\\t\\\\t\\\\t\\\\t\\\\t</span><br><br><br><span class=\"Estilo71\">Publicaci\\\\xf3n en Gaceta:<a href=\\\\\\'http://gaceta.diputados.gob.mx/Gaceta/64/2018/oct/20181002-II.html#Iniciativa8\\\\\\' target=\"_blank\" \\\\t\\\\t\\\\tclass=\"linkTitulo\"> <b>2-Octubre-2018</b></a></span>\\\\n\\\\t\\\\t  </td>\\\\n\\\\t\\\\t</tr>\\\\n\\\\t\\\\t  \\\\t\\\\t<td width=\"350\" valign=\"top\" class=\"Estilo69\"><span class=\"Estilo71\"><b>7 </b> &nbsp; \\\\n\\\\t\\\\t\\\\tProyecto de decreto que reforma, adiciona y deroga diversas disposiciones de la Ley Org\\\\xe1nica de la Administraci\\\\xf3n P\\\\xfablica Federal.</span><br><br><br>\\\\n\\\\t\\\\t\\\\t<span class=\"Estilo71\">De Grupo: <b>\\\\n\\\\t\\\\t\\\\tAbasolo S\\\\xe1nchez Pedro Daniel (MORENA)</b></span>\\\\n\\\\t\\\\t\\\\t\\\\t\\\\t </td>\\\\n\\\\t\\\\t <td width=\"100\" valign=\"top\" align=\"center\" class=\"Estilo69\"><span class=\"Estilo71\">Fecha de presentaci\\\\xf3n:<b> \\\\n\\\\t\\\\t\\\\t18-Octubre-2018</b><br></span><br>\\\\n\\\\t\\\\t\\\\t    \\\\t\\\\t\\\\t    \\\\t\\\\t\\\\t\\\\t &nbsp;\\\\t\\\\t\\\\t\\\\t<b>- Gobernaci\\\\xf3n y Poblaci\\\\xf3n</b><br>\\\\n\\\\t\\\\t\\\\t    \\\\t\\\\t\\\\t\\\\tCon Opini\\\\xf3n de&nbsp;\\\\t\\\\t\\\\t\\\\t<b>- Seguridad P\\\\xfablica</b><br>\\\\n\\\\t\\\\t\\\\t     </span>\\\\n\\\\t\\\\t   </td>\\\\n  \\\\t\\\\t   <td width=\"350\" valign=\"top\" class=\"Estilo69\"><span class=\"Estilo71\">Prever diversas modificaciones relacionadas con la estructura y funcionamiento de la Administraci\\\\xf3n P\\\\xfablica Federal.</span></td>\\\\n\\\\t\\\\t    <td width=\"100\" valign=\"top\" align=\"center\" class=\"Estilo69\"><span class=\"Estilo71\"><b>Aprobada</b> \\\\n\\\\t\\\\t\\\\t \\\\t\\\\t\\\\t <br>  con fecha \\\\n\\\\t\\\\t\\\\t <a href=\"dictameneslxiv_ld.php?tipot=&pert=0&init=238\" target=\"_blank\" class=\"linkTitulo\"> \\\\n\\\\t\\\\t\\\\t13-Noviembre-2018 </a>\\\\n\\\\t\\\\t\\\\t\\\\t\\\\t\\\\t</span><br><br><br><span class=\"Estilo71\">Publicaci\\\\xf3n en Gaceta:<a href=\\\\\\'http://gaceta.diputados.gob.mx/Gaceta/64/2018/oct/20181018-II.html#Iniciativa1\\\\\\' target=\"_blank\" \\\\t\\\\t\\\\tclass=\"linkTitulo\"> <b>18-Octubre-2018</b></a></span>\\\\n\\\\t\\\\t  </td>\\\\n\\\\t\\\\t</tr>\\\\n\\\\t\\\\t  \\\\t\\\\t<td width=\"350\" valign=\"top\" class=\"Estilo69\"><span class=\"Estilo71\"><b>8 </b> &nbsp; \\\\n\\\\t\\\\t\\\\tProyecto de Decreto reforma el art\\\\xedculo 34 de la Ley sobre el Escudo, la Bandera y el Himno Nacionales.</span><br><br><br>\\\\n\\\\t\\\\t\\\\t<span class=\"Estilo71\">De Grupo: <b>\\\\n\\\\t\\\\t\\\\tAbasolo S\\\\xe1nchez Pedro Daniel (MORENA)</b></span>\\\\n\\\\t\\\\t\\\\t\\\\t\\\\t </td>\\\\n\\\\t\\\\t <td width=\"100\" valign=\"top\" align=\"center\" class=\"Estilo69\"><span class=\"Estilo71\">Fecha de presentaci\\\\xf3n:<b> \\\\n\\\\t\\\\t\\\\t31-Octubre-2018</b><br></span><br>\\\\n\\\\t\\\\t\\\\t    \\\\t\\\\t\\\\t    \\\\t\\\\t\\\\t\\\\t &nbsp;\\\\t\\\\t\\\\t\\\\t<b>- Gobernaci\\\\xf3n y Poblaci\\\\xf3n</b><br>\\\\n\\\\t\\\\t\\\\t     </span>\\\\n\\\\t\\\\t   </td>\\\\n  \\\\t\\\\t   <td width=\"350\" valign=\"top\" class=\"Estilo69\"><span class=\"Estilo71\">Adecuar el orden de los colores dispuestos para la banda presidencial, correspondiendo el color verde a la franja superior.</span></td>\\\\n\\\\t\\\\t    <td width=\"100\" valign=\"top\" align=\"center\" class=\"Estilo69\"><span class=\"Estilo71\"><b>Aprobada</b> \\\\n\\\\t\\\\t\\\\t \\\\t\\\\t\\\\t <br>  con fecha \\\\n\\\\t\\\\t\\\\t <a href=\"dictameneslxiv_ld.php?tipot=&pert=0&init=315\" target=\"_blank\" class=\"linkTitulo\"> \\\\n\\\\t\\\\t\\\\t22-Noviembre-2018 </a>\\\\n\\\\t\\\\t\\\\t\\\\t\\\\t\\\\t</span><br><br><br><span class=\"Estilo71\">Publicaci\\\\xf3n en Gaceta:<a href=\\\\\\'http://gaceta.diputados.gob.mx/Gaceta/64/2018/oct/20181030-II.html#Iniciativa1\\\\\\' target=\"_blank\" \\\\t\\\\t\\\\tclass=\"linkTitulo\"> <b>30-Octubre-2018</b></a></span>\\\\n\\\\t\\\\t  </td>\\\\n\\\\t\\\\t</tr>\\\\n\\\\t\\\\t  \\\\t\\\\t<td width=\"350\" valign=\"top\" class=\"Estilo69\"><span class=\"Estilo71\"><b>9 </b> &nbsp; \\\\n\\\\t\\\\t\\\\tProyecto de Decreto que reforma, adiciona y deroga diversas disposiciones de la Ley del Diario Oficial de la Federaci\\\\xf3n y Gacetas Gubernamentales.</span><br><br><br>\\\\n\\\\t\\\\t\\\\t<span class=\"Estilo71\">De Grupo: <b>\\\\n\\\\t\\\\t\\\\tAbasolo S\\\\xe1nchez Pedro Daniel (MORENA)</b></span>\\\\n\\\\t\\\\t\\\\t\\\\t\\\\t </td>\\\\n\\\\t\\\\t <td width=\"100\" valign=\"top\" align=\"center\" class=\"Estilo69\"><span class=\"Estilo71\">Fecha de presentaci\\\\xf3n:<b> \\\\n\\\\t\\\\t\\\\t6-Noviembre-2018</b><br></span><br>\\\\n\\\\t\\\\t\\\\t    \\\\t\\\\t\\\\t    \\\\t\\\\t\\\\t\\\\t &nbsp;\\\\t\\\\t\\\\t\\\\t<b>- Gobernaci\\\\xf3n y Poblaci\\\\xf3n</b><br>\\\\n\\\\t\\\\t\\\\t     </span>\\\\n\\\\t\\\\t   </td>\\\\n  \\\\t\\\\t   <td width=\"350\" valign=\"top\" class=\"Estilo69\"><span class=\"Estilo71\">Favorecer la m\\\\xe1xima publicidad, accesibilidad y disponibilidad del Diario; publicar los acuerdos y resoluciones emitidos por el Consejo de la Judicatura Federal, el Tribunal Electoral del Poder Judicial de la Federaci\\\\xf3n, los \\\\xd3rganos Constitucionales Aut\\\\xf3nomos y los relativos a la actividad parlamentaria de inter\\\\xe9s general; establecer la impresi\\\\xf3n de ejemplares, y la gratuidad del acceso a la edici\\\\xf3n electr\\\\xf3nica y determinar las condiciones de acceso a la edici\\\\xf3n electr\\\\xf3nica y la expedici\\\\xf3n de copias certificadas.</span></td>\\\\n\\\\t\\\\t    <td width=\"100\" valign=\"top\" align=\"center\" class=\"Estilo69\"><span class=\"Estilo71\"><b>Aprobada</b> \\\\n\\\\t\\\\t\\\\t \\\\t\\\\t\\\\t <br>  con fecha \\\\n\\\\t\\\\t\\\\t <a href=\"dictameneslxiv_ld.php?tipot=&pert=0&init=329\" target=\"_blank\" class=\"linkTitulo\"> \\\\n\\\\t\\\\t\\\\t13-Diciembre-2018 </a>\\\\n\\\\t\\\\t\\\\t\\\\t\\\\t\\\\t</span><br><br><br><span class=\"Estilo71\">Publicaci\\\\xf3n en Gaceta:<a href=\\\\\\'http://gaceta.diputados.gob.mx/Gaceta/64/2018/nov/20181106-III.html#Iniciativa8\\\\\\' target=\"_blank\" \\\\t\\\\t\\\\tclass=\"linkTitulo\"> <b>6-Noviembre-2018</b></a></span>\\\\n\\\\t\\\\t  </td>\\\\n\\\\t\\\\t</tr>\\\\n\\\\t\\\\t  \\\\t\\\\t<td width=\"350\" valign=\"top\" class=\"Estilo69\"><span class=\"Estilo71\"><b>10 </b> &nbsp; \\\\n\\\\t\\\\t\\\\tProyecto de Decreto que reforma diversas disposiciones de la Constituci\\\\xf3n Pol\\\\xedtica de los Estados Unidos Mexicanos.</span><br><br><br>\\\\n\\\\t\\\\t\\\\t<span class=\"Estilo71\">De Grupo: <b>\\\\n\\\\t\\\\t\\\\tAbasolo S\\\\xe1nchez Pedro Daniel (MORENA)</b></span>\\\\n\\\\t\\\\t\\\\t\\\\t\\\\t </td>\\\\n\\\\t\\\\t <td width=\"100\" valign=\"top\" align=\"center\" class=\"Estilo69\"><span class=\"Estilo71\">Fecha de presentaci\\\\xf3n:<b> \\\\n\\\\t\\\\t\\\\t20-Noviembre-2018</b><br></span><br>\\\\n\\\\t\\\\t\\\\t    \\\\t\\\\t\\\\t    \\\\t\\\\t\\\\t\\\\t &nbsp;\\\\t\\\\t\\\\t\\\\t<b>- Puntos Constitucionales</b><br>\\\\n\\\\t\\\\t\\\\t    \\\\t\\\\t\\\\t\\\\tCon Opini\\\\xf3n de&nbsp;\\\\t\\\\t\\\\t\\\\t<b>- Gobernaci\\\\xf3n y Poblaci\\\\xf3n</b><br>\\\\n\\\\t\\\\t\\\\t     </span>\\\\n\\\\t\\\\t   </td>\\\\n  \\\\t\\\\t   <td width=\"350\" valign=\"top\" class=\"Estilo69\"><span class=\"Estilo71\">Establecer las funciones y atribuciones de la Guardia Nacional, conocer por la autoridad civil correspondiente, las faltas y delitos cometidos por sus integrantes; precisar que bajo ninguna de circunstancias, un detenido podr\\\\xe1 ser trasladado ni resguardado en instalaciones militares. Facultar al Congreso para expedir las leyes que reglamenten la organizaci\\\\xf3n, adscripci\\\\xf3n, armamento, disciplina, profesionalizaci\\\\xf3n y uso de la fuerza de la Guardia Nacional. Regir a la Guardia Nacional, por sus propias leyes. Proporcionar por el Estado a los miembros de la guardia nacional, las prestaciones de seguridad social.</span></td>\\\\n\\\\t\\\\t    <td width=\"100\" valign=\"top\" align=\"center\" class=\"Estilo69\"><span class=\"Estilo71\"><b>Aprobada</b> \\\\n\\\\t\\\\t\\\\t \\\\t\\\\t\\\\t <br>  con fecha \\\\n\\\\t\\\\t\\\\t <a href=\"dictameneslxiv_ld.php?tipot=&pert=0&init=452\" target=\"_blank\" class=\"linkTitulo\"> \\\\n\\\\t\\\\t\\\\t16-Enero-2019 </a>\\\\n\\\\t\\\\t\\\\t\\\\t\\\\t\\\\t</span><br><br><br><span class=\"Estilo71\">Publicaci\\\\xf3n en Gaceta:<a href=\\\\\\'http://gaceta.diputados.gob.mx/Gaceta/64/2018/nov/20181120-II.html#Iniciativa225\\\\\\' target=\"_blank\" \\\\t\\\\t\\\\tclass=\"linkTitulo\"> <b>20-Noviembre-2018</b></a></span>\\\\n\\\\t\\\\t  </td>\\\\n\\\\t\\\\t</tr>\\\\n\\\\t\\\\t  \\\\t\\\\t<td width=\"350\" valign=\"top\" class=\"Estilo69\"><span class=\"Estilo71\"><b>11 </b> &nbsp; \\\\n\\\\t\\\\t\\\\tProyecto de Decreto que reforma el art\\\\xedculo 213-Bis del C\\\\xf3digo Penal Federal</span><br><br><br>\\\\n\\\\t\\\\t\\\\t<span class=\"Estilo71\">De Grupo: <b>\\\\n\\\\t\\\\t\\\\tAbasolo S\\\\xe1nchez Pedro Daniel (MORENA)</b></span>\\\\n\\\\t\\\\t\\\\t\\\\t\\\\t </td>\\\\n\\\\t\\\\t <td width=\"100\" valign=\"top\" align=\"center\" class=\"Estilo69\"><span class=\"Estilo71\">Fecha de presentaci\\\\xf3n:<b> \\\\n\\\\t\\\\t\\\\t20-Noviembre-2018</b><br></span><br>\\\\n\\\\t\\\\t\\\\t    \\\\t\\\\t\\\\t    \\\\t\\\\t\\\\t\\\\t &nbsp;\\\\t\\\\t\\\\t\\\\t<b>- Justicia</b><br>\\\\n\\\\t\\\\t\\\\t     </span>\\\\n\\\\t\\\\t   </td>\\\\n  \\\\t\\\\t   <td width=\"350\" valign=\"top\" class=\"Estilo69\"><span class=\"Estilo71\">.</span></td>\\\\n\\\\t\\\\t    <td width=\"100\" valign=\"top\" align=\"center\" class=\"Estilo69\"><span class=\"Estilo71\"><b>Pendiente</b> \\\\n\\\\t\\\\t\\\\t \\\\t\\\\t\\\\t</span><br><br><br><span class=\"Estilo71\">Publicaci\\\\xf3n en Gaceta:<a href=\\\\\\'http://gaceta.diputados.gob.mx/Gaceta/64/2018/oct/20181025-II.html#Iniciativa1\\\\\\' target=\"_blank\" \\\\t\\\\t\\\\tclass=\"linkTitulo\"> <b>25-Octubre-2018</b></a></span>\\\\n\\\\t\\\\t  </td>\\\\n\\\\t\\\\t</tr>\\\\n\\\\t\\\\t  \\\\t\\\\t<td width=\"350\" valign=\"top\" class=\"Estilo69\"><span class=\"Estilo71\"><b>12 </b> &nbsp; \\\\n\\\\t\\\\t\\\\tProyecto de Decreto para inscribir con letras de oro en el Muro de Honor de la C\\\\xe1mara de Diputados del Congreso de la Uni\\\\xf3n el nombre de Ignacio Ram\\\\xedrez \"El Nigromante\"</span><br><br><br>\\\\n\\\\t\\\\t\\\\t<span class=\"Estilo71\">De Grupo: <b>\\\\n\\\\t\\\\t\\\\tAbasolo S\\\\xe1nchez Pedro Daniel (MORENA)</b></span>\\\\n\\\\t\\\\t\\\\t\\\\t\\\\t </td>\\\\n\\\\t\\\\t <td width=\"100\" valign=\"top\" align=\"center\" class=\"Estilo69\"><span class=\"Estilo71\">Fecha de presentaci\\\\xf3n:<b> \\\\n\\\\t\\\\t\\\\t13-Diciembre-2018</b><br></span><br>\\\\n\\\\t\\\\t\\\\t    \\\\t\\\\t\\\\t    \\\\t\\\\t\\\\t\\\\t &nbsp;\\\\t\\\\t\\\\t\\\\t<b>- R\\\\xe9gimen, Reglamentos y Pr\\\\xe1cticas Parlamentarias</b><br>\\\\n\\\\t\\\\t\\\\t     </span>\\\\n\\\\t\\\\t   </td>\\\\n  \\\\t\\\\t   <td width=\"350\" valign=\"top\" class=\"Estilo69\"><span class=\"Estilo71\">Inscribir con letras de oro en el Muro de Honor de la C\\\\xe1mara de Diputados del Congreso de la Uni\\\\xf3n el nombre de Ignacio Ram\\\\xedrez \"El Nigromante\"</span></td>\\\\n\\\\t\\\\t    <td width=\"100\" valign=\"top\" align=\"center\" class=\"Estilo69\"><span class=\"Estilo71\"><b>Pendiente</b> \\\\n\\\\t\\\\t\\\\t \\\\t\\\\t\\\\t</span><br><br><br><span class=\"Estilo71\">Publicaci\\\\xf3n en Gaceta:<a href=\\\\\\'http://gaceta.diputados.gob.mx/Gaceta/64/2018/dic/20181211-IV.html#Iniciativa15\\\\\\' target=\"_blank\" \\\\t\\\\t\\\\tclass=\"linkTitulo\"> <b>11-Diciembre-2018</b></a></span>\\\\n\\\\t\\\\t  </td>\\\\n\\\\t\\\\t</tr>\\\\n\\\\t\\\\t  \\\\t\\\\t<td width=\"350\" valign=\"top\" class=\"Estilo69\"><span class=\"Estilo71\"><b>13 </b> &nbsp; \\\\n\\\\t\\\\t\\\\tProyecto de Decreto que reforma y adiciona diversas disposiciones de la Ley Federal para Prevenir y Sancionar los Delitos Cometidos en Materia de Hidrocarburos.</span><br><br><br>\\\\n\\\\t\\\\t\\\\t<span class=\"Estilo71\">De Grupo: <b>\\\\n\\\\t\\\\t\\\\tAbasolo S\\\\xe1nchez Pedro Daniel (MORENA)</b></span>\\\\n\\\\t\\\\t\\\\t\\\\t\\\\t </td>\\\\n\\\\t\\\\t <td width=\"100\" valign=\"top\" align=\"center\" class=\"Estilo69\"><span class=\"Estilo71\">Fecha de presentaci\\\\xf3n:<b> \\\\n\\\\t\\\\t\\\\t9-Enero-2019</b><br></span><br>\\\\n\\\\t\\\\t\\\\t    \\\\t\\\\t\\\\t    \\\\t\\\\t\\\\t\\\\t &nbsp;\\\\t\\\\t\\\\t\\\\t<b>- Justicia</b><br>\\\\n\\\\t\\\\t\\\\t     </span>\\\\n\\\\t\\\\t   </td>\\\\n  \\\\t\\\\t   <td width=\"350\" valign=\"top\" class=\"Estilo69\"><span class=\"Estilo71\">Incluir como sanci\\\\xf3n el decomiso de activos y la suspensi\\\\xf3n del derecho a solicitar un nuevo permiso para la realizaci\\\\xf3n de la actividad permisionada; emitir la suspensi\\\\xf3n de los permisos o del procedimiento de su otorgamiento, indefinidamente, hasta que el Ministerio P\\\\xfablico Federal o el Poder Judicial de la Federaci\\\\xf3n soliciten el levantamiento de la suspensi\\\\xf3n y establecer la obligaci\\\\xf3n de los titulares de permisos de distribuci\\\\xf3n y transporte de hidrocarburos, petrol\\\\xedferos y petroqu\\\\xedmicos, de incorporar un sistema de geo posicionamiento en las unidades vehiculares utilizadas para el desarrollo de sus actividades.</span></td>\\\\n\\\\t\\\\t    <td width=\"100\" valign=\"top\" align=\"center\" class=\"Estilo69\"><span class=\"Estilo71\"><b>Aprobada</b> \\\\n\\\\t\\\\t\\\\t \\\\t\\\\t\\\\t <br>  con fecha \\\\n\\\\t\\\\t\\\\t <a href=\"dictameneslxiv_ld.php?tipot=&pert=0&init=758\" target=\"_blank\" class=\"linkTitulo\"> \\\\n\\\\t\\\\t\\\\t9-Abril-2019 </a>\\\\n\\\\t\\\\t\\\\t\\\\t\\\\t\\\\t</span><br><br><br><span class=\"Estilo71\">Publicaci\\\\xf3n en Gaceta:<a href=\\\\\\'http://gaceta.diputados.gob.mx/Gaceta/64/2019/ene/20190109-II.html#Iniciativa9\\\\\\' target=\"_blank\" \\\\t\\\\t\\\\tclass=\"linkTitulo\"> <b>9-Enero-2019</b></a></span>\\\\n\\\\t\\\\t  </td>\\\\n\\\\t\\\\t</tr>\\\\n\\\\t\\\\t  \\\\t\\\\t<td width=\"350\" valign=\"top\" class=\"Estilo69\"><span class=\"Estilo71\"><b>14 </b> &nbsp; \\\\n\\\\t\\\\t\\\\tProyecto de decreto que reforma, adiciona y deroga diversas disposiciones de la Ley de Petr\\\\xf3leos Mexicanos</span><br><br><br>\\\\n\\\\t\\\\t\\\\t<span class=\"Estilo71\">De Grupo: <b>\\\\n\\\\t\\\\t\\\\tAbasolo S\\\\xe1nchez Pedro Daniel (MORENA)</b></span>\\\\n\\\\t\\\\t\\\\t\\\\t\\\\t </td>\\\\n\\\\t\\\\t <td width=\"100\" valign=\"top\" align=\"center\" class=\"Estilo69\"><span class=\"Estilo71\">Fecha de presentaci\\\\xf3n:<b> \\\\n\\\\t\\\\t\\\\t15-Enero-2019</b><br></span><br>\\\\n\\\\t\\\\t\\\\t    \\\\t\\\\t\\\\t    \\\\t\\\\t\\\\t\\\\t &nbsp;\\\\t\\\\t\\\\t\\\\t<b>- Energ\\\\xeda</b><br>\\\\n\\\\t\\\\t\\\\t     </span>\\\\n\\\\t\\\\t   </td>\\\\n  \\\\t\\\\t   <td width=\"350\" valign=\"top\" class=\"Estilo69\"><span class=\"Estilo71\">.</span></td>\\\\n\\\\t\\\\t    <td width=\"100\" valign=\"top\" align=\"center\" class=\"Estilo69\"><span class=\"Estilo71\"><b>Pendiente</b> \\\\n\\\\t\\\\t\\\\t \\\\t\\\\t\\\\t</span><br><br><br><span class=\"Estilo71\">Publicaci\\\\xf3n en Gaceta:<a href=\\\\\\'http://gaceta.diputados.gob.mx/Gaceta/64/2019/ene/20190109-II.html#Iniciativa4\\\\\\' target=\"_blank\" \\\\t\\\\t\\\\tclass=\"linkTitulo\"> <b>9-Enero-2019</b></a></span>\\\\n\\\\t\\\\t  </td>\\\\n\\\\t\\\\t</tr>\\\\n\\\\t\\\\t  \\\\t\\\\t<td width=\"350\" valign=\"top\" class=\"Estilo69\"><span class=\"Estilo71\"><b>15 </b> &nbsp; \\\\n\\\\t\\\\t\\\\tProyecto de decreto por el que se reforma y adiciona el art\\\\xedculo 2o. De la Ley Federal contra la Delincuencia Organizada</span><br><br><br>\\\\n\\\\t\\\\t\\\\t<span class=\"Estilo71\">De Grupo: <b>\\\\n\\\\t\\\\t\\\\tAbasolo S\\\\xe1nchez Pedro Daniel (MORENA)</b></span>\\\\n\\\\t\\\\t\\\\t\\\\t\\\\t </td>\\\\n\\\\t\\\\t <td width=\"100\" valign=\"top\" align=\"center\" class=\"Estilo69\"><span class=\"Estilo71\">Fecha de presentaci\\\\xf3n:<b> \\\\n\\\\t\\\\t\\\\t14-Febrero-2019</b><br></span><br>\\\\n\\\\t\\\\t\\\\t    \\\\t\\\\t\\\\t    \\\\t\\\\t\\\\t\\\\t &nbsp;\\\\t\\\\t\\\\t\\\\t<b>- Justicia</b><br>\\\\n\\\\t\\\\t\\\\t     </span>\\\\n\\\\t\\\\t   </td>\\\\n  \\\\t\\\\t   <td width=\"350\" valign=\"top\" class=\"Estilo69\"><span class=\"Estilo71\">Incluir en el cat\\\\xe1logo de delitos que pueden configurar delincuencia organizada y, por tanto, ameritar prisi\\\\xf3n preventiva oficiosa, los delitos en materia de hidrocarburos, petrol\\\\xedferos o petroqu\\\\xedmicos previstos en la Ley Federal para Prevenir y Sancionar los Delitos Cometidos en Materia de Hidrocarburos; los delitos electorales consistentes en el uso il\\\\xedcito de programas sociales con fines electorales, y los hechos de corrupci\\\\xf3n, trat\\\\xe1ndose de los delitos de enriquecimiento il\\\\xedcito y ejercicio abusivo de funciones.</span></td>\\\\n\\\\t\\\\t    <td width=\"100\" valign=\"top\" align=\"center\" class=\"Estilo69\"><span class=\"Estilo71\"><b>Pendiente</b> \\\\n\\\\t\\\\t\\\\t \\\\t\\\\t\\\\t</span><br><br><br><span class=\"Estilo71\">Publicaci\\\\xf3n en Gaceta:<a href=\\\\\\'http://gaceta.diputados.gob.mx/Gaceta/64/2019/feb/20190214-V.html#Iniciativa33\\\\\\' target=\"_blank\" \\\\t\\\\t\\\\tclass=\"linkTitulo\"> <b>14-Febrero-2019</b></a></span>\\\\n\\\\t\\\\t  </td>\\\\n\\\\t\\\\t</tr>\\\\n\\\\t\\\\t  \\\\t\\\\t<td width=\"350\" valign=\"top\" class=\"Estilo69\"><span class=\"Estilo71\"><b>16 </b> &nbsp; \\\\n\\\\t\\\\t\\\\tProyecto de decreto que reforma y adiciona los art\\\\xedculos 4\\\\xba y 73\\\\xba de la Constituci\\\\xf3n Pol\\\\xedtica de los Estados Unidos Mexicanos.</span><br><br><br>\\\\n\\\\t\\\\t\\\\t<span class=\"Estilo71\">Adherente: <b>\\\\n\\\\t\\\\t\\\\tAbasolo S\\\\xe1nchez Pedro Daniel (MORENA)</b></span>\\\\n\\\\t\\\\t\\\\t\\\\t\\\\t </td>\\\\n\\\\t\\\\t <td width=\"100\" valign=\"top\" align=\"center\" class=\"Estilo69\"><span class=\"Estilo71\">Fecha de presentaci\\\\xf3n:<b> \\\\n\\\\t\\\\t\\\\t30-Abril-2019</b><br></span><br>\\\\n\\\\t\\\\t\\\\t    \\\\t\\\\t\\\\t    \\\\t\\\\t\\\\t\\\\t &nbsp;\\\\t\\\\t\\\\t\\\\t<b>- Puntos Constitucionales</b><br>\\\\n\\\\t\\\\t\\\\t     </span>\\\\n\\\\t\\\\t   </td>\\\\n  \\\\t\\\\t   <td width=\"350\" valign=\"top\" class=\"Estilo69\"><span class=\"Estilo71\">Establecer el derecho de las personas j\\\\xf3venes al desarrollo integral y facultar al Congreso para expedir leyes que lo garanticen.</span></td>\\\\n\\\\t\\\\t    <td width=\"100\" valign=\"top\" align=\"center\" class=\"Estilo69\"><span class=\"Estilo71\"><b>Pendiente</b> \\\\n\\\\t\\\\t\\\\t \\\\t\\\\t\\\\t</span><br><br><br><span class=\"Estilo71\">Publicaci\\\\xf3n en Gaceta:<a href=\\\\\\'http://gaceta.diputados.gob.mx/Gaceta/64/2019/abr/20190425-V.html#Iniciativa5\\\\\\' target=\"_blank\" \\\\t\\\\t\\\\tclass=\"linkTitulo\"> <b>25-Abril-2019</b></a></span>\\\\n\\\\t\\\\t  </td>\\\\n\\\\t\\\\t</tr>\\\\n\\\\t\\\\t  \\\\t\\\\t</table>\\\\n\\\\t\\\\t\\\\t\\\\t</div>\\\\n\\\\n\\\\n\\\\n</table>\\\\n\\\\n</td></tr></table>\\\\n\\\\n\\\\n\\\\n<table width=\"843\" border=\"0\" align=\"center\" >\\\\n\\\\n\\\\n\\\\n\\\\n\\\\n\\\\t<tr>\\\\n\\\\t\\\\t<td>\\\\n<img src=\"./images/PIE_curriculums.png\" width=\"1024\" height=\"111\">\\\\n\\\\n\\\\t\\\\t\\\\t\\\\t\\\\t</td>\\\\n\\\\t</tr>\\\\n</table>\\\\n\\\\n\\\\n</div>\\\\n<script>\\\\n    var FontResizer = function(element) {\\\\n        element = $(element);\\\\n\\\\n        var more = $(\\\\\\'#more\\\\\\'),\\\\n            less = $(\\\\\\'#less\\\\\\');\\\\n\\\\n        var increment = function() {\\\\n            var origSize = element.css(\\\\\\'fontSize\\\\\\');\\\\n            var absSize = parseInt(origSize);\\\\n            absSize++;\\\\n            element.css(\\\\\\'fontSize\\\\\\', absSize + \\\\\\'px\\\\\\');\\\\n        }\\\\n\\\\n        var decrement = function() {\\\\n            var origSize = element.css(\\\\\\'fontSize\\\\\\');\\\\n            var absSize = parseInt(origSize);\\\\n            absSize--;\\\\n            element.css(\\\\\\'fontSize\\\\\\', absSize + \\\\\\'px\\\\\\');\\\\n        }\\\\n\\\\n        this.resize = function() {\\\\n            more.click(function() {\\\\n                increment();\\\\n                return false;\\\\n            });\\\\n\\\\n            less.click(function() {\\\\n                decrement();\\\\n                return false;\\\\n            });\\\\n        };\\\\n    }\\\\n\\\\n    var resizer = new FontResizer(\\\\\\'#test\\\\\\');\\\\n    var conresizer = new FontResizer(\\\\\\'#contenido\\\\\\');\\\\n    var resizerTable = new FontResizer(\\\\\\'table\\\\\\');\\\\n    conresizer.resize();\\\\n    resizerTable.resize();\\\\n    resizer.resize();\\\\n\\\\n    $(document).ready(function(){\\\\n        $(\"#accordin_show\").click(function(){\\\\n            $(\"#accordin_show\").hide();\\\\n            $(\"#accordin_hide\").show();\\\\n            $(\\\\\\'.curricula\\\\\\').show(1000);\\\\n            $(\\\\\\'.uno\\\\\\').css(\\\\\\'background\\\\\\', \\\\\\'rgba(100, 100, 100, 0.5)\\\\\\')\\\\n            $(\\\\\\'.comision\\\\\\').hide(1000);\\\\n            $(\\\\\\'.dos\\\\\\').css(\\\\\\'background\\\\\\', \\\\\\'\\\\\\')\\\\n            $(\\\\\\'.iniciativas\\\\\\').hide(1000);\\\\n            $(\\\\\\'.tres\\\\\\').css(\\\\\\'background\\\\\\', \\\\\\'\\\\\\')\\\\n        });\\\\n        $(\"#accordin_hide\").click(function(){\\\\n            $(\"#accordin_show\").show();\\\\n            $(\"#accordin_hide\").hide();\\\\n            $(\\\\\\'.curricula\\\\\\').hide(1000);\\\\n            $(\\\\\\'.uno\\\\\\').css(\\\\\\'background\\\\\\', \\\\\\'\\\\\\')\\\\n        });\\\\n    });\\\\n\\\\n    $(document).ready(function(){\\\\n            $(\\\\\\'.curricula\\\\\\').show(1000);\\\\n            $(\\\\\\'.uno\\\\\\').css(\\\\\\'background\\\\\\', \\\\\\'rgba(100, 100, 100, 0.5)\\\\\\')\\\\n            $(\\\\\\'.comision\\\\\\').hide(1000);\\\\n            $(\\\\\\'.dos\\\\\\').css(\\\\\\'background\\\\\\', \\\\\\'\\\\\\')\\\\n            $(\\\\\\'.iniciativas\\\\\\').hide(1000);\\\\n            $(\\\\\\'.tres\\\\\\').css(\\\\\\'background\\\\\\', \\\\\\'\\\\\\')\\\\n\\\\n\\\\n\\\\n        $(\"#accordin_show_Com\").click(function(){\\\\n            $(\\\\\\'.comision\\\\\\').show(1000);\\\\n            $(\\\\\\'.curricula\\\\\\').hide(1000);\\\\n            $(\\\\\\'.uno\\\\\\').css(\\\\\\'background\\\\\\', \\\\\\'\\\\\\')\\\\n            $(\\\\\\'.iniciativas\\\\\\').hide(1000);\\\\n            $(\\\\\\'.legislatura\\\\\\').hide(1000);\\\\n            $(\\\\\\'.asistencias\\\\\\').hide(1000);\\\\n            $(\\\\\\'.dos\\\\\\').css(\\\\\\'background\\\\\\', \\\\\\'rgba(100, 100, 100, 0.5)\\\\\\')\\\\n            $(\\\\\\'.tres\\\\\\').css(\\\\\\'background\\\\\\', \\\\\\'\\\\\\')\\\\n            $(\\\\\\'.cuatro\\\\\\').css(\\\\\\'background\\\\\\', \\\\\\'\\\\\\')\\\\n            $(\\\\\\'.cinco\\\\\\').css(\\\\\\'background\\\\\\', \\\\\\'\\\\\\')\\\\n        });\\\\n        $(\"#accordin_show_Ini\").click(function(){\\\\n            $(\\\\\\'.comision\\\\\\').hide(1000);\\\\n            $(\\\\\\'.curricula\\\\\\').hide(1000);\\\\n            $(\\\\\\'.iniciativas\\\\\\').show(1000);\\\\n            $(\\\\\\'.legislatura\\\\\\').hide(1000);\\\\n            $(\\\\\\'.asistencias\\\\\\').hide(1000);\\\\n            $(\\\\\\'.uno\\\\\\').css(\\\\\\'background\\\\\\', \\\\\\'\\\\\\')\\\\n            $(\\\\\\'.dos\\\\\\').css(\\\\\\'background\\\\\\', \\\\\\'\\\\\\')\\\\n            $(\\\\\\'.tres\\\\\\').css(\\\\\\'background\\\\\\', \\\\\\'rgba(100, 100, 100, 0.5)\\\\\\')\\\\n            $(\\\\\\'.cuatro\\\\\\').css(\\\\\\'background\\\\\\', \\\\\\'\\\\\\')\\\\n            $(\\\\\\'.cinco\\\\\\').css(\\\\\\'background\\\\\\', \\\\\\'\\\\\\')\\\\n        });\\\\n\\\\n        $(\"#accordin_show_Asis\").click(function(){\\\\n            $(\\\\\\'.comision\\\\\\').hide(1000);\\\\n            $(\\\\\\'.curricula\\\\\\').hide(1000);\\\\n            $(\\\\\\'.iniciativas\\\\\\').hide(1000);\\\\n            $(\\\\\\'.legislatura\\\\\\').hide(1000);\\\\n            $(\\\\\\'.asistencias\\\\\\').show(1000);\\\\n            $(\\\\\\'.uno\\\\\\').css(\\\\\\'background\\\\\\', \\\\\\'\\\\\\')\\\\n            $(\\\\\\'.dos\\\\\\').css(\\\\\\'background\\\\\\', \\\\\\'\\\\\\')\\\\n            $(\\\\\\'.tres\\\\\\').css(\\\\\\'background\\\\\\', \\\\\\'\\\\\\')\\\\n            $(\\\\\\'.cuatro\\\\\\').css(\\\\\\'background\\\\\\', \\\\\\'\\\\\\')\\\\n            $(\\\\\\'.cinco\\\\\\').css(\\\\\\'background\\\\\\', \\\\\\'rgba(100, 100, 100, 0.5)\\\\\\')\\\\n        });\\\\n\\\\n        $(\"#accordin_show_Leg\").click(function(){\\\\n            $(\\\\\\'.comision\\\\\\').hide(1000);\\\\n            $(\\\\\\'.iniciativas\\\\\\').hide(1000);\\\\n            $(\\\\\\'.legislatura\\\\\\').show(1000);\\\\n            $(\\\\\\'.dos\\\\\\').css(\\\\\\'background\\\\\\', \\\\\\'\\\\\\')\\\\n            $(\\\\\\'.tres\\\\\\').css(\\\\\\'background\\\\\\', \\\\\\'\\\\\\')\\\\n            $(\\\\\\'.cuatro\\\\\\').css(\\\\\\'background\\\\\\', \\\\\\'rgba(100, 100, 100, 0.5)\\\\\\')\\\\n            $(\\\\\\'.cinco\\\\\\').css(\\\\\\'background\\\\\\', \\\\\\'\\\\\\')\\\\n        });\\\\n    });\\\\n\\\\n    $(\".accordion-titulo\").click(function(){\\\\n        var contenido=$(this).next(\".accordion-content\");\\\\n\\\\n        if(contenido.css(\"display\")==\"none\"){    \\\\n            contenido.slideDown(250);         \\\\n            $(this).addClass(\"open\");\\\\n        } else{   \\\\n            contenido.slideUp(250);\\\\n            $(this).removeClass(\"open\");  \\\\n        }\\\\n    });\\\\n    \\\\n    var TRange=null\\\\n\\\\n    function findString (str) {\\\\n        if (parseInt(navigator.appVersion)<4) return;\\\\n        var strFound;\\\\n        if (window.find) {\\\\n\\\\n            strFound=self.find(str);\\\\n            if (!strFound) {\\\\n                strFound=self.find(str,0,1)\\\\n                while (self.find(str,0,1)) continue\\\\n                }\\\\n            } else if (navigator.appName.indexOf(\"Microsoft\")!=-1) {\\\\n                if (TRange!=null) {\\\\n                    TRange.collapse(false)\\\\n                    strFound=TRange.findText(str)\\\\n                    if (strFound) TRange.select()\\\\n                }\\\\n                if (TRange==null || strFound==0) {\\\\n                    TRange=self.document.body.createTextRange()\\\\n                    strFound=TRange.findText(str)\\\\n                    if (strFound) TRange.select()\\\\n                }\\\\n            }\\\\n        else if (navigator.appName==\"Opera\") {\\\\n            alert (\"Opera no lo soporta, lo sentimos...\")\\\\n            return;\\\\n        }\\\\n        if (!strFound) alert (\"No se encuentra dentro del documento la busqueda de: \\\\\\'\"+str+\"\\\\\\'!\")\\\\n        return;\\\\n    }\\\\n\\\\n\\\\t$(document).ready(main);\\\\n\\\\n\\\\tvar contador = 1;\\\\n\\\\n\\\\tfunction main () {\\\\n\\\\t\\\\t$(\\\\\\'.menu_bar\\\\\\').click(function(){\\\\n\\\\t\\\\t\\\\tif (contador == 1) {\\\\n\\\\t\\\\t\\\\t\\\\t$(\\\\\\'.cabesal nav\\\\\\').animate({\\\\n\\\\t\\\\t\\\\t\\\\t\\\\tleft: \\\\\\'0\\\\\\'\\\\n\\\\t\\\\t\\\\t\\\\t});\\\\n\\\\t\\\\t\\\\t\\\\tcontador = 0;\\\\n\\\\t\\\\t\\\\t} else {\\\\n\\\\t\\\\t\\\\t\\\\tcontador = 1;\\\\n\\\\t\\\\t\\\\t\\\\t$(\\\\\\'.cabesal nav\\\\\\').animate({\\\\n\\\\t\\\\t\\\\t\\\\t\\\\tleft: \\\\\\'-100%\\\\\\'\\\\n\\\\t\\\\t\\\\t\\\\t});\\\\n\\\\t\\\\t\\\\t}\\\\n\\\\t\\\\t});\\\\n\\\\n\\\\t\\\\t$(\\\\\\'.submenu\\\\\\').click(function(){\\\\n\\\\t\\\\t\\\\t$(this).children(\\\\\\'.children\\\\\\').slideToggle();\\\\n\\\\t\\\\t});\\\\n\\\\n        $(\\\\\\'.sub_menu_bar\\\\\\').click(function(){\\\\n            if (contador == 1) {\\\\n                $(\\\\\\'.sub_menu nav\\\\\\').animate({\\\\n                    left: \\\\\\'0\\\\\\'\\\\n                });\\\\n                contador = 0;\\\\n            } else {\\\\n                contador = 1;\\\\n                $(\\\\\\'.sub_menu nav\\\\\\').animate({\\\\n                    left: \\\\\\'-100%\\\\\\'\\\\n                });\\\\n            }\\\\n        });\\\\n\\\\t}\\\\n\\\\n    $(document).ready(function(){\\\\n\\\\n        $(\\\\\\'.back-top\\\\\\').click(function(){\\\\n            $(\\\\\\'body, html\\\\\\').animate({\\\\n                scrollTop: \\\\\\'0px\\\\\\'\\\\n            }, 300);\\\\n        });\\\\n\\\\n        $(window).scroll(function(){\\\\n            if( $(this).scrollTop() > 0 ){\\\\n                $(\\\\\\'.back-top\\\\\\').slideDown(300);\\\\n            } else {\\\\n                $(\\\\\\'.back-top\\\\\\').slideUp(300);\\\\n            }\\\\n        });\\\\n\\\\n    });\\\\n\\\\n    function digiClock() {  \\\\n        var crTime = new Date();\\\\n        var crHrs = crTime.getHours();  \\\\n        var crMns = crTime.getMinutes();  \\\\n        var crScs = crTime.getSeconds();  \\\\n        crMns = ( crMns < 10 ? \"0\" : \"\" ) + crMns;  \\\\n        crScs = ( crScs < 10 ? \"0\" : \"\" ) + crScs;  \\\\n        var timeOfDay = ( crHrs < 12 ) ? \"AM\" : \"PM\";  \\\\n        crHrs = ( crHrs > 12 ) ? crHrs - 12 : crHrs;  \\\\n        crHrs = ( crHrs == 0 ) ? 12 : crHrs;  \\\\n        var crTimeString = \"Mi\\\\xe9rcoles 13 de junio de 2018 \" + crHrs + \":\" + crMns + \":\" + crScs + \" \" + timeOfDay;  \\\\n      \\\\n        $(\"#clock\").html(crTimeString);\\\\n    }  \\\\n      \\\\n    $(document).ready(function(){  \\\\n       setInterval(\\\\\\'digiClock()\\\\\\', 1000);  \\\\n    }); \\\\n\\\\n    var swiper1 = new Swiper(\\\\\\'.swiper1\\\\\\', {\\\\n        scrollbar: \\\\\\'.swiper-scrollbar1\\\\\\',\\\\n        scrollbarHide: true,\\\\n        slidesPerView: \\\\\\'auto\\\\\\',\\\\n        centeredSlides: true,\\\\n        spaceBetween: 30,\\\\n        grabCursor: true,\\\\n        paginationClickable: true,\\\\n        nextButton: \\\\\\'.swiper-button-next1\\\\\\',\\\\n        prevButton: \\\\\\'.swiper-button-prev1\\\\\\',\\\\n        speed: 3000,    \\\\n        autoplay: 2500,\\\\n        autoplayDisableOnInteraction: false,\\\\n        loop: true\\\\n    });\\\\n\\\\n    var swiper6 = new Swiper(\\\\\\'.swiper6\\\\\\', {\\\\n            pagination: \\\\\\'.swiper-pagination6\\\\\\',\\\\n            paginationClickable: true,\\\\n            speed: 5000,    \\\\n            autoplay: 15000,\\\\n            loop: true\\\\n        });\\\\n\\\\n    var swiper = new Swiper(\\\\\\'.swiper7\\\\\\', {\\\\n        scrollbar: \\\\\\'.swiper-scrollbar7\\\\\\',\\\\n        scrollbarHide: true,\\\\n        effect: \\\\\\'coverflow\\\\\\',\\\\n        grabCursor: true,\\\\n        centeredSlides: true,\\\\n        slidesPerView: \\\\\\'auto\\\\\\',\\\\n        speed: 5000,    \\\\n        autoplay: 3000,\\\\n        loop: true,\\\\n        coverflow: {\\\\n            rotate: 50,\\\\n            stretch: 0,\\\\n            depth: 100,\\\\n            modifier: 1,\\\\n            slideShadows : true\\\\n        }\\\\n    });\\\\n</script>\\\\n\\\\n\\\\n</body>\\\\n</html>\\\\n\\''"
      ]
     },
     "execution_count": 105,
     "metadata": {},
     "output_type": "execute_result"
    }
   ],
   "source": [
    "str(response.content)"
   ]
  },
  {
   "cell_type": "code",
   "execution_count": null,
   "metadata": {},
   "outputs": [],
   "source": []
  }
 ],
 "metadata": {
  "celltoolbar": "Slideshow",
  "kernelspec": {
   "display_name": "Python 3",
   "language": "python",
   "name": "python3"
  },
  "language_info": {
   "codemirror_mode": {
    "name": "ipython",
    "version": 3
   },
   "file_extension": ".py",
   "mimetype": "text/x-python",
   "name": "python",
   "nbconvert_exporter": "python",
   "pygments_lexer": "ipython3",
   "version": "3.7.0"
  }
 },
 "nbformat": 4,
 "nbformat_minor": 1
}
