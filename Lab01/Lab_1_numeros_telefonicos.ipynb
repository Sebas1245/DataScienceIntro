{
 "cells": [
  {
   "cell_type": "markdown",
   "metadata": {},
   "source": [
    "# Lab 1: Corrigiendo números telefónicos a 10 dígitos"
   ]
  },
  {
   "cell_type": "markdown",
   "metadata": {},
   "source": [
    "Por disposición del Instituto Federal de Telecomunicaciones, a partir del 3 de agosto, la marcación a nivel nacional se homologará de una forma en la que todos los números, ya sea de teléfono fijo o celular, local o larga distancia, tengan un total de 10 dígitos.\n",
    "\n",
    "Por lo que para llamadas de larga distancia, los números de teléfono con prefijo 01, 044, 045 ya no se marcarán, y ahora se marcará sólo el número a 10 dígitos.\n",
    "\n",
    "Por ejemplo los siguientes números ahora se marcaran de la siguiente manera:\n",
    "(+52)18342547682 -> 8342547682\n",
    "01-945-6639852 -> 9456639852\n",
    "044-81-97452341 -> 8197452341\n",
    "\n",
    "Escribe en un Jupyter Notebook, un programa en Python que lea un archivo CSV con una lista de números de teléfono, transforme cada número al nuevo formato, y guarde un archivo CSV con los números corregidos. Se agrega un dataset ejemplo (directorio_ejemplo.csv)\n",
    "\n",
    "Puede ser tu propia lista de contactos para corregir tus propios números. Si usas google puedes descargarlos en contacts.google.com en la opción Exportar. Una vez terminado, puedes volver a subir tus números corregidos y evitar la grabación pidiéndote corregir la marcación.\n",
    "\n",
    "\n"
   ]
  },
  {
   "cell_type": "code",
   "execution_count": 68,
   "metadata": {},
   "outputs": [
    {
     "data": {
      "text/html": [
       "<div>\n",
       "<style scoped>\n",
       "    .dataframe tbody tr th:only-of-type {\n",
       "        vertical-align: middle;\n",
       "    }\n",
       "\n",
       "    .dataframe tbody tr th {\n",
       "        vertical-align: top;\n",
       "    }\n",
       "\n",
       "    .dataframe thead th {\n",
       "        text-align: right;\n",
       "    }\n",
       "</style>\n",
       "<table border=\"1\" class=\"dataframe\">\n",
       "  <thead>\n",
       "    <tr style=\"text-align: right;\">\n",
       "      <th></th>\n",
       "      <th>Phone 1 - Value</th>\n",
       "    </tr>\n",
       "  </thead>\n",
       "  <tbody>\n",
       "    <tr>\n",
       "      <th>0</th>\n",
       "      <td>+52 1 826 106 0402</td>\n",
       "    </tr>\n",
       "    <tr>\n",
       "      <th>1</th>\n",
       "      <td>27887672772537</td>\n",
       "    </tr>\n",
       "    <tr>\n",
       "      <th>2</th>\n",
       "      <td>847 878 09</td>\n",
       "    </tr>\n",
       "    <tr>\n",
       "      <th>3</th>\n",
       "      <td>(81) 1060 3146</td>\n",
       "    </tr>\n",
       "    <tr>\n",
       "      <th>4</th>\n",
       "      <td>(81) 1590 5880</td>\n",
       "    </tr>\n",
       "    <tr>\n",
       "      <th>...</th>\n",
       "      <td>...</td>\n",
       "    </tr>\n",
       "    <tr>\n",
       "      <th>76</th>\n",
       "      <td>(826) 105 2150</td>\n",
       "    </tr>\n",
       "    <tr>\n",
       "      <th>77</th>\n",
       "      <td>8119659391</td>\n",
       "    </tr>\n",
       "    <tr>\n",
       "      <th>78</th>\n",
       "      <td>81039856</td>\n",
       "    </tr>\n",
       "    <tr>\n",
       "      <th>79</th>\n",
       "      <td>8328 4046</td>\n",
       "    </tr>\n",
       "    <tr>\n",
       "      <th>80</th>\n",
       "      <td>1737 0447</td>\n",
       "    </tr>\n",
       "  </tbody>\n",
       "</table>\n",
       "<p>81 rows × 1 columns</p>\n",
       "</div>"
      ],
      "text/plain": [
       "       Phone 1 - Value\n",
       "0   +52 1 826 106 0402\n",
       "1       27887672772537\n",
       "2           847 878 09\n",
       "3       (81) 1060 3146\n",
       "4       (81) 1590 5880\n",
       "..                 ...\n",
       "76      (826) 105 2150\n",
       "77          8119659391\n",
       "78            81039856\n",
       "79           8328 4046\n",
       "80           1737 0447\n",
       "\n",
       "[81 rows x 1 columns]"
      ]
     },
     "execution_count": 68,
     "metadata": {},
     "output_type": "execute_result"
    }
   ],
   "source": [
    "import pandas as pd\n",
    "\n",
    "contacts = pd.read_csv('directorio_ejemplo.csv')\n",
    "\n",
    "contacts_phone_nums = pd.DataFrame(contacts, columns=['Phone 1 - Value'])\n",
    "\n",
    "contacts_phone_nums"
   ]
  },
  {
   "cell_type": "markdown",
   "metadata": {},
   "source": [
    "Aquí, defino la función encargada de hacer la limpieza. Aplicamos la función al dataframe de una sola columna para generar uno nuevo con los datos limpios."
   ]
  },
  {
   "cell_type": "code",
   "execution_count": 69,
   "metadata": {},
   "outputs": [
    {
     "data": {
      "text/html": [
       "<div>\n",
       "<style scoped>\n",
       "    .dataframe tbody tr th:only-of-type {\n",
       "        vertical-align: middle;\n",
       "    }\n",
       "\n",
       "    .dataframe tbody tr th {\n",
       "        vertical-align: top;\n",
       "    }\n",
       "\n",
       "    .dataframe thead th {\n",
       "        text-align: right;\n",
       "    }\n",
       "</style>\n",
       "<table border=\"1\" class=\"dataframe\">\n",
       "  <thead>\n",
       "    <tr style=\"text-align: right;\">\n",
       "      <th></th>\n",
       "      <th>Phone 1 - Value</th>\n",
       "    </tr>\n",
       "  </thead>\n",
       "  <tbody>\n",
       "    <tr>\n",
       "      <th>0</th>\n",
       "      <td>8261060402</td>\n",
       "    </tr>\n",
       "    <tr>\n",
       "      <th>1</th>\n",
       "      <td>N/A</td>\n",
       "    </tr>\n",
       "    <tr>\n",
       "      <th>2</th>\n",
       "      <td>N/A</td>\n",
       "    </tr>\n",
       "    <tr>\n",
       "      <th>3</th>\n",
       "      <td>8110603146</td>\n",
       "    </tr>\n",
       "    <tr>\n",
       "      <th>4</th>\n",
       "      <td>8115905880</td>\n",
       "    </tr>\n",
       "    <tr>\n",
       "      <th>...</th>\n",
       "      <td>...</td>\n",
       "    </tr>\n",
       "    <tr>\n",
       "      <th>76</th>\n",
       "      <td>8261052150</td>\n",
       "    </tr>\n",
       "    <tr>\n",
       "      <th>77</th>\n",
       "      <td>8119659391</td>\n",
       "    </tr>\n",
       "    <tr>\n",
       "      <th>78</th>\n",
       "      <td>N/A</td>\n",
       "    </tr>\n",
       "    <tr>\n",
       "      <th>79</th>\n",
       "      <td>N/A</td>\n",
       "    </tr>\n",
       "    <tr>\n",
       "      <th>80</th>\n",
       "      <td>N/A</td>\n",
       "    </tr>\n",
       "  </tbody>\n",
       "</table>\n",
       "<p>81 rows × 1 columns</p>\n",
       "</div>"
      ],
      "text/plain": [
       "   Phone 1 - Value\n",
       "0       8261060402\n",
       "1              N/A\n",
       "2              N/A\n",
       "3       8110603146\n",
       "4       8115905880\n",
       "..             ...\n",
       "76      8261052150\n",
       "77      8119659391\n",
       "78             N/A\n",
       "79             N/A\n",
       "80             N/A\n",
       "\n",
       "[81 rows x 1 columns]"
      ]
     },
     "execution_count": 69,
     "metadata": {},
     "output_type": "execute_result"
    }
   ],
   "source": [
    "def clean_phone_num(phone_num):\n",
    "    phone_num = str(phone_num)\n",
    "    characters = [ ' ', '+', '(', ')', '-', ',', '\"', '\\u00A0']\n",
    "    for character in characters:\n",
    "        phone_num = phone_num.replace(character, '')\n",
    "    if len(phone_num) == 13:\n",
    "        phone_num = phone_num[3:]\n",
    "    elif len(phone_num) == 12:\n",
    "        phone_num = phone_num[2:]\n",
    "    elif len(phone_num) == 11:\n",
    "        phone_num = phone_num[1:]\n",
    "    # special cases\n",
    "    elif type(phone_num) != str or len(phone_num) != 10: \n",
    "        phone_num = 'N/A'\n",
    "    return phone_num\n",
    "\n",
    "clean_contacts_phone_nums = contacts_phone_nums.applymap(clean_phone_num)\n",
    "\n",
    "clean_contacts_phone_nums"
   ]
  },
  {
   "cell_type": "markdown",
   "metadata": {},
   "source": [
    "Escribimos la información del DataFrame a un archivo csv nuevo. "
   ]
  },
  {
   "cell_type": "code",
   "execution_count": 70,
   "metadata": {},
   "outputs": [],
   "source": [
    "clean_contacts_phone_nums.to_csv('clean_contact_phone_nums.csv', index=False)"
   ]
  }
 ],
 "metadata": {
  "kernelspec": {
   "display_name": "Python 3",
   "language": "python",
   "name": "python3"
  },
  "language_info": {
   "codemirror_mode": {
    "name": "ipython",
    "version": 3
   },
   "file_extension": ".py",
   "mimetype": "text/x-python",
   "name": "python",
   "nbconvert_exporter": "python",
   "pygments_lexer": "ipython3",
   "version": "3.9.10"
  }
 },
 "nbformat": 4,
 "nbformat_minor": 2
}
