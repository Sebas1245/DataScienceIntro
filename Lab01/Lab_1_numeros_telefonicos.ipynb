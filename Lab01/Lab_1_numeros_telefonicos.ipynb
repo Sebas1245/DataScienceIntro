{
 "cells": [
  {
   "cell_type": "markdown",
   "metadata": {},
   "source": [
    "# Lab 1: Corrigiendo números telefónicos a 10 dígitos"
   ]
  },
  {
   "cell_type": "markdown",
   "metadata": {},
   "source": [
    "Por disposición del Instituto Federal de Telecomunicaciones, a partir del 3 de agosto, la marcación a nivel nacional se homologará de una forma en la que todos los números, ya sea de teléfono fijo o celular, local o larga distancia, tengan un total de 10 dígitos.\n",
    "\n",
    "Por lo que para llamadas de larga distancia, los números de teléfono con prefijo 01, 044, 045 ya no se marcarán, y ahora se marcará sólo el número a 10 dígitos.\n",
    "\n",
    "Por ejemplo los siguientes números ahora se marcaran de la siguiente manera:\n",
    "(+52)18342547682 -> 8342547682\n",
    "01-945-6639852 -> 9456639852\n",
    "044-81-97452341 -> 8197452341\n",
    "\n",
    "Escribe en un Jupyter Notebook, un programa en Python que lea un archivo CSV con una lista de números de teléfono, transforme cada número al nuevo formato, y guarde un archivo CSV con los números corregidos. Se agrega un dataset ejemplo (directorio_ejemplo.csv)\n",
    "\n",
    "Puede ser tu propia lista de contactos para corregir tus propios números. Si usas google puedes descargarlos en contacts.google.com en la opción Exportar. Una vez terminado, puedes volver a subir tus números corregidos y evitar la grabación pidiéndote corregir la marcación.\n",
    "\n",
    "\n"
   ]
  },
  {
   "cell_type": "markdown",
   "metadata": {},
   "source": [
    "Esta es la manera más básica de leer de un archivo en .csv con Python. "
   ]
  },
  {
   "cell_type": "code",
   "execution_count": 47,
   "metadata": {},
   "outputs": [
    {
     "data": {
      "text/plain": [
       "['Name',\n",
       " 'Given Name',\n",
       " 'Additional Name',\n",
       " 'Family Name',\n",
       " 'Yomi Name',\n",
       " 'Given Name Yomi',\n",
       " 'Additional Name Yomi',\n",
       " 'Family Name Yomi',\n",
       " 'Name Prefix',\n",
       " 'Name Suffix',\n",
       " 'Initials',\n",
       " 'Nickname',\n",
       " 'Short Name',\n",
       " 'Maiden Name',\n",
       " 'Birthday',\n",
       " 'Gender',\n",
       " 'Location',\n",
       " 'Billing Information',\n",
       " 'Directory Server',\n",
       " 'Mileage',\n",
       " 'Occupation',\n",
       " 'Hobby',\n",
       " 'Sensitivity',\n",
       " 'Priority',\n",
       " 'Subject',\n",
       " 'Notes',\n",
       " 'Language',\n",
       " 'Photo',\n",
       " 'Group Membership',\n",
       " 'E-mail 1 - Type',\n",
       " 'E-mail 1 - Value',\n",
       " 'E-mail 2 - Type',\n",
       " 'E-mail 2 - Value',\n",
       " 'Phone 1 - Type',\n",
       " 'Phone 1 - Value',\n",
       " 'Phone 2 - Type',\n",
       " 'Phone 2 - Value',\n",
       " 'Address 1 - Type',\n",
       " 'Address 1 - Formatted',\n",
       " 'Address 1 - Street',\n",
       " 'Address 1 - City',\n",
       " 'Address 1 - PO Box',\n",
       " 'Address 1 - Region',\n",
       " 'Address 1 - Postal Code',\n",
       " 'Address 1 - Country',\n",
       " 'Address 1 - Extended Address',\n",
       " 'Organization 1 - Type',\n",
       " 'Organization 1 - Name',\n",
       " 'Organization 1 - Yomi Name',\n",
       " 'Organization 1 - Title',\n",
       " 'Organization 1 - Department',\n",
       " 'Organization 1 - Symbol',\n",
       " 'Organization 1 - Location',\n",
       " 'Organization 1 - Job Description']"
      ]
     },
     "execution_count": 47,
     "metadata": {},
     "output_type": "execute_result"
    }
   ],
   "source": [
    "import csv \n",
    "\n",
    "contacts_file = open('contacts.csv')\n",
    "contacts = csv.reader(contacts_file)\n",
    "header = []\n",
    "header = next(contacts)\n",
    "header "
   ]
  },
  {
   "cell_type": "markdown",
   "metadata": {},
   "source": [
    "Opté por usar `pandas` y manejar DataFrames pues pensé que podría hacerme la vida más fácil. "
   ]
  },
  {
   "cell_type": "code",
   "execution_count": 48,
   "metadata": {},
   "outputs": [],
   "source": [
    "import pandas as pd\n",
    "\n",
    "contacts = pd.read_csv('contacts.csv')\n",
    "\n",
    "contacts_phone_nums = pd.DataFrame(contacts, columns=['Phone 1 - Value'])"
   ]
  },
  {
   "cell_type": "markdown",
   "metadata": {},
   "source": [
    "Aquí, defino la función encargada de hacer la limpieza. Aplicamos la función al dataframe de una sola columna para generar uno nuevo con los datos limpios."
   ]
  },
  {
   "cell_type": "code",
   "execution_count": 49,
   "metadata": {},
   "outputs": [
    {
     "data": {
      "text/html": [
       "<div>\n",
       "<style scoped>\n",
       "    .dataframe tbody tr th:only-of-type {\n",
       "        vertical-align: middle;\n",
       "    }\n",
       "\n",
       "    .dataframe tbody tr th {\n",
       "        vertical-align: top;\n",
       "    }\n",
       "\n",
       "    .dataframe thead th {\n",
       "        text-align: right;\n",
       "    }\n",
       "</style>\n",
       "<table border=\"1\" class=\"dataframe\">\n",
       "  <thead>\n",
       "    <tr style=\"text-align: right;\">\n",
       "      <th></th>\n",
       "      <th>Phone 1 - Value</th>\n",
       "    </tr>\n",
       "  </thead>\n",
       "  <tbody>\n",
       "    <tr>\n",
       "      <th>0</th>\n",
       "      <td>8112448646</td>\n",
       "    </tr>\n",
       "    <tr>\n",
       "      <th>1</th>\n",
       "      <td>8123322616</td>\n",
       "    </tr>\n",
       "    <tr>\n",
       "      <th>2</th>\n",
       "      <td>8115162412</td>\n",
       "    </tr>\n",
       "    <tr>\n",
       "      <th>3</th>\n",
       "      <td>6622561225</td>\n",
       "    </tr>\n",
       "    <tr>\n",
       "      <th>4</th>\n",
       "      <td>8110828478</td>\n",
       "    </tr>\n",
       "    <tr>\n",
       "      <th>...</th>\n",
       "      <td>...</td>\n",
       "    </tr>\n",
       "    <tr>\n",
       "      <th>297</th>\n",
       "      <td>8114777895</td>\n",
       "    </tr>\n",
       "    <tr>\n",
       "      <th>298</th>\n",
       "      <td>8116557552</td>\n",
       "    </tr>\n",
       "    <tr>\n",
       "      <th>299</th>\n",
       "      <td>8111132506</td>\n",
       "    </tr>\n",
       "    <tr>\n",
       "      <th>300</th>\n",
       "      <td>8180150748</td>\n",
       "    </tr>\n",
       "    <tr>\n",
       "      <th>301</th>\n",
       "      <td>8110161527</td>\n",
       "    </tr>\n",
       "  </tbody>\n",
       "</table>\n",
       "<p>302 rows × 1 columns</p>\n",
       "</div>"
      ],
      "text/plain": [
       "    Phone 1 - Value\n",
       "0        8112448646\n",
       "1        8123322616\n",
       "2        8115162412\n",
       "3        6622561225\n",
       "4        8110828478\n",
       "..              ...\n",
       "297      8114777895\n",
       "298      8116557552\n",
       "299      8111132506\n",
       "300      8180150748\n",
       "301      8110161527\n",
       "\n",
       "[302 rows x 1 columns]"
      ]
     },
     "execution_count": 49,
     "metadata": {},
     "output_type": "execute_result"
    }
   ],
   "source": [
    "def clean_phone_num(phone_num):\n",
    "    phone_num = str(phone_num)\n",
    "    phone_num = phone_num.replace(' ', '')\n",
    "    phone_num = phone_num.replace('+', '')\n",
    "    phone_num = phone_num.replace('(', '')\n",
    "    phone_num = phone_num.replace(')', '')\n",
    "    phone_num = phone_num.replace('-', '')\n",
    "    if len(phone_num) == 13:\n",
    "        phone_num = phone_num[3:]\n",
    "    elif len(phone_num) == 12:\n",
    "        phone_num = phone_num[2:]\n",
    "    # special cases\n",
    "    elif type(phone_num) != str or len(phone_num) != 10: \n",
    "        phone_num = 'N/A'\n",
    "    return phone_num\n",
    "\n",
    "clean_contacts_phone_nums = contacts_phone_nums.applymap(clean_phone_num)\n",
    "\n",
    "clean_contacts_phone_nums"
   ]
  },
  {
   "cell_type": "markdown",
   "metadata": {},
   "source": [
    "Escribimos la información del DataFrame a un archivo csv nuevo. "
   ]
  },
  {
   "cell_type": "code",
   "execution_count": 50,
   "metadata": {},
   "outputs": [],
   "source": [
    "clean_contacts_phone_nums.to_csv('clean_contact_phone_nums.csv', index=False)"
   ]
  }
 ],
 "metadata": {
  "kernelspec": {
   "display_name": "Python 3",
   "language": "python",
   "name": "python3"
  },
  "language_info": {
   "codemirror_mode": {
    "name": "ipython",
    "version": 3
   },
   "file_extension": ".py",
   "mimetype": "text/x-python",
   "name": "python",
   "nbconvert_exporter": "python",
   "pygments_lexer": "ipython3",
   "version": "3.9.10"
  }
 },
 "nbformat": 4,
 "nbformat_minor": 2
}
